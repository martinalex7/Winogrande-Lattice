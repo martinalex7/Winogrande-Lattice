{
 "cells": [
  {
   "cell_type": "code",
   "execution_count": 6,
   "id": "a9cb962f-d80f-49e2-8eef-3a79bbaaffe1",
   "metadata": {},
   "outputs": [],
   "source": [
    "import pandas as pd\n",
    "import numpy as np\n",
    "import os \n",
    "import json"
   ]
  },
  {
   "cell_type": "code",
   "execution_count": 9,
   "id": "68f457ff-5f0f-4e7d-b892-9eb82d562771",
   "metadata": {},
   "outputs": [
    {
     "name": "stdout",
     "output_type": "stream",
     "text": [
      "07/18/2022 08:22:45 - WARNING - __main__ -   Process rank: -1, device: cuda, n_gpu: 1, distributed training: False, 16-bits training: False\n",
      "07/18/2022 08:22:45 - INFO - pytorch_transformers.modeling_utils -   loading configuration file ../model_roberta-ft/config.json\n",
      "07/18/2022 08:22:45 - INFO - pytorch_transformers.modeling_utils -   Model config {\n",
      "  \"attention_probs_dropout_prob\": 0.1,\n",
      "  \"finetuning_task\": \"winogrande\",\n",
      "  \"hidden_act\": \"gelu\",\n",
      "  \"hidden_dropout_prob\": 0.1,\n",
      "  \"hidden_size\": 1024,\n",
      "  \"initializer_range\": 0.02,\n",
      "  \"intermediate_size\": 4096,\n",
      "  \"layer_norm_eps\": 1e-05,\n",
      "  \"max_position_embeddings\": 514,\n",
      "  \"num_attention_heads\": 16,\n",
      "  \"num_hidden_layers\": 24,\n",
      "  \"num_labels\": 1,\n",
      "  \"output_attentions\": false,\n",
      "  \"output_hidden_states\": false,\n",
      "  \"torchscript\": false,\n",
      "  \"type_vocab_size\": 1,\n",
      "  \"vocab_size\": 50265\n",
      "}\n",
      "\n",
      "07/18/2022 08:22:45 - INFO - pytorch_transformers.tokenization_utils -   Model name '../model_roberta-ft' not found in model shortcut name list (roberta-base, roberta-large, roberta-large-mnli). Assuming '../model_roberta-ft' is a path or url to a directory containing tokenizer files.\n",
      "07/18/2022 08:22:45 - INFO - pytorch_transformers.tokenization_utils -   loading file ../model_roberta-ft/vocab.json\n",
      "07/18/2022 08:22:45 - INFO - pytorch_transformers.tokenization_utils -   loading file ../model_roberta-ft/merges.txt\n",
      "07/18/2022 08:22:45 - INFO - pytorch_transformers.tokenization_utils -   loading file ../model_roberta-ft/added_tokens.json\n",
      "07/18/2022 08:22:45 - INFO - pytorch_transformers.tokenization_utils -   loading file ../model_roberta-ft/special_tokens_map.json\n",
      "07/18/2022 08:22:45 - INFO - pytorch_transformers.modeling_utils -   loading weights file ../model_roberta-ft/pytorch_model.bin\n",
      "07/18/2022 08:23:02 - INFO - __main__ -   Training/evaluation parameters Namespace(adam_epsilon=1e-08, cache_dir='', config_name='', data_cache_dir='./output/cache/', data_dir='data/experiment', device=device(type='cuda'), do_eval=False, do_lower_case=True, do_prediction=True, do_train=False, eval_all_checkpoints=False, evaluate_during_training=False, fp16=False, fp16_opt_level='O1', gradient_accumulation_steps=1, learning_rate=5e-05, local_rank=-1, logging_steps=50, max_grad_norm=1.0, max_seq_length=80, max_steps=-1, model_name_or_path='../model_roberta-ft', model_type='roberta_mc', n_gpu=1, no_cuda=False, num_train_epochs=3.0, output_dir='output/models/', output_mode='multiple_choice', overwrite_cache=False, overwrite_output_dir=False, per_gpu_eval_batch_size=4, per_gpu_train_batch_size=8, run_on_test=False, save_steps=50, seed=42, server_ip='', server_port='', task_name='winogrande', tokenizer_name='', warmup_pct=None, warmup_steps=0, weight_decay=0.0)\n",
      "07/18/2022 08:23:02 - INFO - __main__ -   Prediction on the test set (note: Training will not be executed.) \n",
      "07/18/2022 08:23:02 - INFO - __main__ -   Creating features from dataset file at data/experiment\n",
      "07/18/2022 08:23:02 - INFO - utils -   Writing example 0 of 1267\n",
      "07/18/2022 08:23:02 - INFO - utils -   *** Example ***\n",
      "07/18/2022 08:23:02 - INFO - utils -   example_id: 3FCO4VKOZ4BJQ6IFC0VAIBK4KTWE7U-2\n",
      "07/18/2022 08:23:02 - INFO - utils -   choice: 0\n",
      "07/18/2022 08:23:02 - INFO - utils -   tokens: <s> Sarah Ġwas Ġa Ġmuch Ġbetter Ġsurgeon Ġthan ĠMaria Ġso </s> </s> Sarah Ġalways Ġgot Ġthe Ġeasier Ġcases . </s>\n",
      "07/18/2022 08:23:02 - INFO - utils -   input_ids: 0 33671 21 10 203 357 16308 87 5011 98 2 2 33671 460 300 5 3013 1200 4 2 1 1 1 1 1 1 1 1 1 1 1 1 1 1 1 1 1 1 1 1 1 1 1 1 1 1 1 1 1 1 1 1 1 1 1 1 1 1 1 1 1 1 1 1 1 1 1 1 1 1 1 1 1 1 1 1 1 1 1 1\n",
      "07/18/2022 08:23:02 - INFO - utils -   input_mask: 1 1 1 1 1 1 1 1 1 1 1 1 1 1 1 1 1 1 1 1 0 0 0 0 0 0 0 0 0 0 0 0 0 0 0 0 0 0 0 0 0 0 0 0 0 0 0 0 0 0 0 0 0 0 0 0 0 0 0 0 0 0 0 0 0 0 0 0 0 0 0 0 0 0 0 0 0 0 0 0\n",
      "07/18/2022 08:23:02 - INFO - utils -   segment_ids: 0 0 0 0 0 0 0 0 0 0 0 0 1 1 1 1 1 1 1 1 0 0 0 0 0 0 0 0 0 0 0 0 0 0 0 0 0 0 0 0 0 0 0 0 0 0 0 0 0 0 0 0 0 0 0 0 0 0 0 0 0 0 0 0 0 0 0 0 0 0 0 0 0 0 0 0 0 0 0 0\n",
      "07/18/2022 08:23:02 - INFO - utils -   choice: 1\n",
      "07/18/2022 08:23:02 - INFO - utils -   tokens: <s> Sarah Ġwas Ġa Ġmuch Ġbetter Ġsurgeon Ġthan ĠMaria Ġso </s> </s> Maria Ġalways Ġgot Ġthe Ġeasier Ġcases . </s>\n",
      "07/18/2022 08:23:02 - INFO - utils -   input_ids: 0 33671 21 10 203 357 16308 87 5011 98 2 2 38517 460 300 5 3013 1200 4 2 1 1 1 1 1 1 1 1 1 1 1 1 1 1 1 1 1 1 1 1 1 1 1 1 1 1 1 1 1 1 1 1 1 1 1 1 1 1 1 1 1 1 1 1 1 1 1 1 1 1 1 1 1 1 1 1 1 1 1 1\n",
      "07/18/2022 08:23:02 - INFO - utils -   input_mask: 1 1 1 1 1 1 1 1 1 1 1 1 1 1 1 1 1 1 1 1 0 0 0 0 0 0 0 0 0 0 0 0 0 0 0 0 0 0 0 0 0 0 0 0 0 0 0 0 0 0 0 0 0 0 0 0 0 0 0 0 0 0 0 0 0 0 0 0 0 0 0 0 0 0 0 0 0 0 0 0\n",
      "07/18/2022 08:23:02 - INFO - utils -   segment_ids: 0 0 0 0 0 0 0 0 0 0 0 0 1 1 1 1 1 1 1 1 0 0 0 0 0 0 0 0 0 0 0 0 0 0 0 0 0 0 0 0 0 0 0 0 0 0 0 0 0 0 0 0 0 0 0 0 0 0 0 0 0 0 0 0 0 0 0 0 0 0 0 0 0 0 0 0 0 0 0 0\n",
      "07/18/2022 08:23:02 - INFO - utils -   label: 1\n",
      "07/18/2022 08:23:02 - INFO - utils -   *** Example ***\n",
      "07/18/2022 08:23:02 - INFO - utils -   example_id: 3FCO4VKOZ4BJQ6IFC0VAIBK4KTWE7U-1\n",
      "07/18/2022 08:23:02 - INFO - utils -   choice: 0\n",
      "07/18/2022 08:23:02 - INFO - utils -   tokens: <s> Sarah Ġwas Ġa Ġmuch Ġbetter Ġsurgeon Ġthan ĠMaria Ġso </s> </s> Sarah Ġalways Ġgot Ġthe Ġharder Ġcases . </s>\n",
      "07/18/2022 08:23:02 - INFO - utils -   input_ids: 0 33671 21 10 203 357 16308 87 5011 98 2 2 33671 460 300 5 4851 1200 4 2 1 1 1 1 1 1 1 1 1 1 1 1 1 1 1 1 1 1 1 1 1 1 1 1 1 1 1 1 1 1 1 1 1 1 1 1 1 1 1 1 1 1 1 1 1 1 1 1 1 1 1 1 1 1 1 1 1 1 1 1\n",
      "07/18/2022 08:23:02 - INFO - utils -   input_mask: 1 1 1 1 1 1 1 1 1 1 1 1 1 1 1 1 1 1 1 1 0 0 0 0 0 0 0 0 0 0 0 0 0 0 0 0 0 0 0 0 0 0 0 0 0 0 0 0 0 0 0 0 0 0 0 0 0 0 0 0 0 0 0 0 0 0 0 0 0 0 0 0 0 0 0 0 0 0 0 0\n",
      "07/18/2022 08:23:02 - INFO - utils -   segment_ids: 0 0 0 0 0 0 0 0 0 0 0 0 1 1 1 1 1 1 1 1 0 0 0 0 0 0 0 0 0 0 0 0 0 0 0 0 0 0 0 0 0 0 0 0 0 0 0 0 0 0 0 0 0 0 0 0 0 0 0 0 0 0 0 0 0 0 0 0 0 0 0 0 0 0 0 0 0 0 0 0\n",
      "07/18/2022 08:23:02 - INFO - utils -   choice: 1\n",
      "07/18/2022 08:23:02 - INFO - utils -   tokens: <s> Sarah Ġwas Ġa Ġmuch Ġbetter Ġsurgeon Ġthan ĠMaria Ġso </s> </s> Maria Ġalways Ġgot Ġthe Ġharder Ġcases . </s>\n",
      "07/18/2022 08:23:02 - INFO - utils -   input_ids: 0 33671 21 10 203 357 16308 87 5011 98 2 2 38517 460 300 5 4851 1200 4 2 1 1 1 1 1 1 1 1 1 1 1 1 1 1 1 1 1 1 1 1 1 1 1 1 1 1 1 1 1 1 1 1 1 1 1 1 1 1 1 1 1 1 1 1 1 1 1 1 1 1 1 1 1 1 1 1 1 1 1 1\n",
      "07/18/2022 08:23:02 - INFO - utils -   input_mask: 1 1 1 1 1 1 1 1 1 1 1 1 1 1 1 1 1 1 1 1 0 0 0 0 0 0 0 0 0 0 0 0 0 0 0 0 0 0 0 0 0 0 0 0 0 0 0 0 0 0 0 0 0 0 0 0 0 0 0 0 0 0 0 0 0 0 0 0 0 0 0 0 0 0 0 0 0 0 0 0\n",
      "07/18/2022 08:23:02 - INFO - utils -   segment_ids: 0 0 0 0 0 0 0 0 0 0 0 0 1 1 1 1 1 1 1 1 0 0 0 0 0 0 0 0 0 0 0 0 0 0 0 0 0 0 0 0 0 0 0 0 0 0 0 0 0 0 0 0 0 0 0 0 0 0 0 0 0 0 0 0 0 0 0 0 0 0 0 0 0 0 0 0 0 0 0 0\n",
      "07/18/2022 08:23:02 - INFO - utils -   label: 0\n",
      "07/18/2022 08:23:02 - INFO - utils -   *** Example ***\n",
      "07/18/2022 08:23:02 - INFO - utils -   example_id: 3WUVMVA7ODHEES6GZOX75ABL4KQZAX-2\n",
      "07/18/2022 08:23:02 - INFO - utils -   choice: 0\n",
      "07/18/2022 08:23:02 - INFO - utils -   tokens: <s> They Ġwere Ġworried Ġthe Ġwine Ġwould Ġruin Ġthe Ġbed Ġand Ġthe Ġblanket , Ġbut Ġthe </s> </s> blank et Ġwas 't Ġruined . </s>\n",
      "07/18/2022 08:23:02 - INFO - utils -   input_ids: 0 1213 58 3915 5 3984 74 17948 5 3267 8 5 14165 6 53 5 2 2 35763 594 21 75 19750 4 2 1 1 1 1 1 1 1 1 1 1 1 1 1 1 1 1 1 1 1 1 1 1 1 1 1 1 1 1 1 1 1 1 1 1 1 1 1 1 1 1 1 1 1 1 1 1 1 1 1 1 1 1 1 1 1\n",
      "07/18/2022 08:23:02 - INFO - utils -   input_mask: 1 1 1 1 1 1 1 1 1 1 1 1 1 1 1 1 1 1 1 1 1 1 1 1 1 0 0 0 0 0 0 0 0 0 0 0 0 0 0 0 0 0 0 0 0 0 0 0 0 0 0 0 0 0 0 0 0 0 0 0 0 0 0 0 0 0 0 0 0 0 0 0 0 0 0 0 0 0 0 0\n",
      "07/18/2022 08:23:02 - INFO - utils -   segment_ids: 0 0 0 0 0 0 0 0 0 0 0 0 0 0 0 0 0 0 1 1 1 1 1 1 1 0 0 0 0 0 0 0 0 0 0 0 0 0 0 0 0 0 0 0 0 0 0 0 0 0 0 0 0 0 0 0 0 0 0 0 0 0 0 0 0 0 0 0 0 0 0 0 0 0 0 0 0 0 0 0\n",
      "07/18/2022 08:23:02 - INFO - utils -   choice: 1\n",
      "07/18/2022 08:23:02 - INFO - utils -   tokens: <s> They Ġwere Ġworried Ġthe Ġwine Ġwould Ġruin Ġthe Ġbed Ġand Ġthe Ġblanket , Ġbut Ġthe </s> </s> bed Ġwas 't Ġruined . </s>\n",
      "07/18/2022 08:23:02 - INFO - utils -   input_ids: 0 1213 58 3915 5 3984 74 17948 5 3267 8 5 14165 6 53 5 2 2 5134 21 75 19750 4 2 1 1 1 1 1 1 1 1 1 1 1 1 1 1 1 1 1 1 1 1 1 1 1 1 1 1 1 1 1 1 1 1 1 1 1 1 1 1 1 1 1 1 1 1 1 1 1 1 1 1 1 1 1 1 1 1\n",
      "07/18/2022 08:23:02 - INFO - utils -   input_mask: 1 1 1 1 1 1 1 1 1 1 1 1 1 1 1 1 1 1 1 1 1 1 1 1 0 0 0 0 0 0 0 0 0 0 0 0 0 0 0 0 0 0 0 0 0 0 0 0 0 0 0 0 0 0 0 0 0 0 0 0 0 0 0 0 0 0 0 0 0 0 0 0 0 0 0 0 0 0 0 0\n",
      "07/18/2022 08:23:02 - INFO - utils -   segment_ids: 0 0 0 0 0 0 0 0 0 0 0 0 0 0 0 0 0 0 1 1 1 1 1 1 0 0 0 0 0 0 0 0 0 0 0 0 0 0 0 0 0 0 0 0 0 0 0 0 0 0 0 0 0 0 0 0 0 0 0 0 0 0 0 0 0 0 0 0 0 0 0 0 0 0 0 0 0 0 0 0\n",
      "07/18/2022 08:23:02 - INFO - utils -   label: 1\n",
      "07/18/2022 08:23:02 - INFO - utils -   *** Example ***\n",
      "07/18/2022 08:23:02 - INFO - utils -   example_id: 3B623HUYJ643USRN7YJLDQ8NQH38S9-1\n",
      "07/18/2022 08:23:02 - INFO - utils -   choice: 0\n",
      "07/18/2022 08:23:02 - INFO - utils -   tokens: <s> Terry Ġtried Ġto Ġbake Ġthe Ġegg plant Ġin Ġthe Ġto aster Ġoven Ġbut Ġthe </s> </s> egg plant Ġwas Ġtoo Ġbig . </s>\n",
      "07/18/2022 08:23:02 - INFO - utils -   input_ids: 0 43062 1381 7 24870 5 8380 19520 11 5 7 8831 12941 53 5 2 2 38299 19520 21 350 380 4 2 1 1 1 1 1 1 1 1 1 1 1 1 1 1 1 1 1 1 1 1 1 1 1 1 1 1 1 1 1 1 1 1 1 1 1 1 1 1 1 1 1 1 1 1 1 1 1 1 1 1 1 1 1 1 1 1\n",
      "07/18/2022 08:23:02 - INFO - utils -   input_mask: 1 1 1 1 1 1 1 1 1 1 1 1 1 1 1 1 1 1 1 1 1 1 1 1 0 0 0 0 0 0 0 0 0 0 0 0 0 0 0 0 0 0 0 0 0 0 0 0 0 0 0 0 0 0 0 0 0 0 0 0 0 0 0 0 0 0 0 0 0 0 0 0 0 0 0 0 0 0 0 0\n",
      "07/18/2022 08:23:02 - INFO - utils -   segment_ids: 0 0 0 0 0 0 0 0 0 0 0 0 0 0 0 0 0 1 1 1 1 1 1 1 0 0 0 0 0 0 0 0 0 0 0 0 0 0 0 0 0 0 0 0 0 0 0 0 0 0 0 0 0 0 0 0 0 0 0 0 0 0 0 0 0 0 0 0 0 0 0 0 0 0 0 0 0 0 0 0\n",
      "07/18/2022 08:23:02 - INFO - utils -   choice: 1\n",
      "07/18/2022 08:23:02 - INFO - utils -   tokens: <s> Terry Ġtried Ġto Ġbake Ġthe Ġegg plant Ġin Ġthe Ġto aster Ġoven Ġbut Ġthe </s> </s> to aster Ġwas Ġtoo Ġbig . </s>\n",
      "07/18/2022 08:23:02 - INFO - utils -   input_ids: 0 43062 1381 7 24870 5 8380 19520 11 5 7 8831 12941 53 5 2 2 560 8831 21 350 380 4 2 1 1 1 1 1 1 1 1 1 1 1 1 1 1 1 1 1 1 1 1 1 1 1 1 1 1 1 1 1 1 1 1 1 1 1 1 1 1 1 1 1 1 1 1 1 1 1 1 1 1 1 1 1 1 1 1\n",
      "07/18/2022 08:23:02 - INFO - utils -   input_mask: 1 1 1 1 1 1 1 1 1 1 1 1 1 1 1 1 1 1 1 1 1 1 1 1 0 0 0 0 0 0 0 0 0 0 0 0 0 0 0 0 0 0 0 0 0 0 0 0 0 0 0 0 0 0 0 0 0 0 0 0 0 0 0 0 0 0 0 0 0 0 0 0 0 0 0 0 0 0 0 0\n",
      "07/18/2022 08:23:02 - INFO - utils -   segment_ids: 0 0 0 0 0 0 0 0 0 0 0 0 0 0 0 0 0 1 1 1 1 1 1 1 0 0 0 0 0 0 0 0 0 0 0 0 0 0 0 0 0 0 0 0 0 0 0 0 0 0 0 0 0 0 0 0 0 0 0 0 0 0 0 0 0 0 0 0 0 0 0 0 0 0 0 0 0 0 0 0\n",
      "07/18/2022 08:23:02 - INFO - utils -   label: 0\n",
      "07/18/2022 08:23:02 - INFO - utils -   *** Example ***\n",
      "07/18/2022 08:23:02 - INFO - utils -   example_id: 3PN6H8C9R4OWH22DN8WAMK49Q4SADE-1\n",
      "07/18/2022 08:23:02 - INFO - utils -   choice: 0\n",
      "07/18/2022 08:23:02 - INFO - utils -   tokens: <s> At Ġnight , ĠJeffrey Ġalways Ġstays Ġup Ġlater Ġthan ĠHunter Ġto Ġwatch ĠTV Ġbecause </s> </s> Jeff rey Ġwakes Ġup Ġlate . </s>\n",
      "07/18/2022 08:23:02 - INFO - utils -   input_ids: 0 3750 363 6 9011 460 10117 62 423 87 7126 7 1183 1012 142 2 2 19663 5460 34142 62 628 4 2 1 1 1 1 1 1 1 1 1 1 1 1 1 1 1 1 1 1 1 1 1 1 1 1 1 1 1 1 1 1 1 1 1 1 1 1 1 1 1 1 1 1 1 1 1 1 1 1 1 1 1 1 1 1 1 1\n",
      "07/18/2022 08:23:02 - INFO - utils -   input_mask: 1 1 1 1 1 1 1 1 1 1 1 1 1 1 1 1 1 1 1 1 1 1 1 1 0 0 0 0 0 0 0 0 0 0 0 0 0 0 0 0 0 0 0 0 0 0 0 0 0 0 0 0 0 0 0 0 0 0 0 0 0 0 0 0 0 0 0 0 0 0 0 0 0 0 0 0 0 0 0 0\n",
      "07/18/2022 08:23:02 - INFO - utils -   segment_ids: 0 0 0 0 0 0 0 0 0 0 0 0 0 0 0 0 0 1 1 1 1 1 1 1 0 0 0 0 0 0 0 0 0 0 0 0 0 0 0 0 0 0 0 0 0 0 0 0 0 0 0 0 0 0 0 0 0 0 0 0 0 0 0 0 0 0 0 0 0 0 0 0 0 0 0 0 0 0 0 0\n",
      "07/18/2022 08:23:02 - INFO - utils -   choice: 1\n",
      "07/18/2022 08:23:02 - INFO - utils -   tokens: <s> At Ġnight , ĠJeffrey Ġalways Ġstays Ġup Ġlater Ġthan ĠHunter Ġto Ġwatch ĠTV Ġbecause </s> </s> Hunter Ġwakes Ġup Ġlate . </s>\n",
      "07/18/2022 08:23:02 - INFO - utils -   input_ids: 0 3750 363 6 9011 460 10117 62 423 87 7126 7 1183 1012 142 2 2 44038 34142 62 628 4 2 1 1 1 1 1 1 1 1 1 1 1 1 1 1 1 1 1 1 1 1 1 1 1 1 1 1 1 1 1 1 1 1 1 1 1 1 1 1 1 1 1 1 1 1 1 1 1 1 1 1 1 1 1 1 1 1 1\n",
      "07/18/2022 08:23:02 - INFO - utils -   input_mask: 1 1 1 1 1 1 1 1 1 1 1 1 1 1 1 1 1 1 1 1 1 1 1 0 0 0 0 0 0 0 0 0 0 0 0 0 0 0 0 0 0 0 0 0 0 0 0 0 0 0 0 0 0 0 0 0 0 0 0 0 0 0 0 0 0 0 0 0 0 0 0 0 0 0 0 0 0 0 0 0\n",
      "07/18/2022 08:23:02 - INFO - utils -   segment_ids: 0 0 0 0 0 0 0 0 0 0 0 0 0 0 0 0 0 1 1 1 1 1 1 0 0 0 0 0 0 0 0 0 0 0 0 0 0 0 0 0 0 0 0 0 0 0 0 0 0 0 0 0 0 0 0 0 0 0 0 0 0 0 0 0 0 0 0 0 0 0 0 0 0 0 0 0 0 0 0 0\n",
      "07/18/2022 08:23:02 - INFO - utils -   label: 0\n",
      "07/18/2022 08:23:03 - INFO - __main__ -   ***** Running evaluation  on test *****\n",
      "07/18/2022 08:23:03 - INFO - __main__ -     Num examples = 1267\n",
      "07/18/2022 08:23:03 - INFO - __main__ -     Batch size = 4\n",
      "Evaluating: 100%|█████████████████████████████████████████████████| 317/317 [00:39<00:00,  7.99it/s]\n",
      "07/18/2022 08:23:43 - INFO - __main__ -   ***** Write predictions  on test *****\n",
      "07/18/2022 08:23:43 - INFO - __main__ -   ***** Experiment finished *****\n"
     ]
    }
   ],
   "source": [
    "!python ../winogrande/scripts/run_experiment.py --model_type roberta_mc --model_name_or_path ../model_roberta-ft --task_name winogrande --do_predict --do_lower_case --data_dir data/experiment --max_seq_length 80 --per_gpu_eval_batch_size 4 --output_dir output/models/ --data_cache_dir ./output/cache/"
   ]
  },
  {
   "cell_type": "code",
   "execution_count": 7,
   "id": "c975c282-ea25-422c-a887-9089816dab38",
   "metadata": {},
   "outputs": [],
   "source": [
    "with open('data/experiment/dev.jsonl', 'r') as f:\n",
    "  a = list(f)\n",
    "\n",
    "data_dev =[]\n",
    "for element in a:\n",
    "  data_dev.append(json.loads(element))\n",
    "\n",
    "data_dev = pd.DataFrame(data_dev)"
   ]
  },
  {
   "cell_type": "code",
   "execution_count": 8,
   "id": "438ac24e-0c95-4b04-9b48-d28022e160dc",
   "metadata": {},
   "outputs": [
    {
     "data": {
      "text/plain": [
       "1267"
      ]
     },
     "execution_count": 8,
     "metadata": {},
     "output_type": "execute_result"
    }
   ],
   "source": [
    "len(data_dev)"
   ]
  },
  {
   "cell_type": "code",
   "execution_count": null,
   "id": "26784081-d3a0-4aa0-8afb-4fb061f59bde",
   "metadata": {},
   "outputs": [],
   "source": [
    "with open('data/dev.jsonl', 'r') as f:\n",
    "  a = list(f)\n",
    "\n",
    "data_dev =[]\n",
    "for element in a:\n",
    "  data_dev.append(json.loads(element))\n",
    "\n",
    "data_dev = pd.DataFrame(data_dev)"
   ]
  },
  {
   "cell_type": "code",
   "execution_count": 26,
   "id": "4bcf7078-c2db-4823-9ff1-8a3fc74becda",
   "metadata": {},
   "outputs": [],
   "source": [
    "with open(\"output/models/predictions_test.lst\") as f:\n",
    "    lineList = f.readlines()\n",
    "lineList = [int(element.replace('\\n','')) for element in lineList]"
   ]
  },
  {
   "cell_type": "code",
   "execution_count": 15,
   "id": "c513e89c-6a49-49b3-a8e9-92379f3b9ef2",
   "metadata": {},
   "outputs": [],
   "source": [
    "with open(\"data/experiment/dev-labels.lst\") as f:\n",
    "    lineList_dev = f.readlines()\n",
    "lineList_dev = [int(element.replace('\\n','')) for element in lineList_dev]"
   ]
  },
  {
   "cell_type": "code",
   "execution_count": 22,
   "id": "31874ef5-fa3d-416b-9cb8-6ed84e80f5d0",
   "metadata": {},
   "outputs": [
    {
     "data": {
      "text/html": [
       "<div>\n",
       "<style scoped>\n",
       "    .dataframe tbody tr th:only-of-type {\n",
       "        vertical-align: middle;\n",
       "    }\n",
       "\n",
       "    .dataframe tbody tr th {\n",
       "        vertical-align: top;\n",
       "    }\n",
       "\n",
       "    .dataframe thead th {\n",
       "        text-align: right;\n",
       "    }\n",
       "</style>\n",
       "<table border=\"1\" class=\"dataframe\">\n",
       "  <thead>\n",
       "    <tr style=\"text-align: right;\">\n",
       "      <th></th>\n",
       "      <th>test</th>\n",
       "      <th>true_dev</th>\n",
       "    </tr>\n",
       "  </thead>\n",
       "  <tbody>\n",
       "    <tr>\n",
       "      <th>0</th>\n",
       "      <td>1</td>\n",
       "      <td>2</td>\n",
       "    </tr>\n",
       "    <tr>\n",
       "      <th>1</th>\n",
       "      <td>1</td>\n",
       "      <td>1</td>\n",
       "    </tr>\n",
       "    <tr>\n",
       "      <th>2</th>\n",
       "      <td>2</td>\n",
       "      <td>2</td>\n",
       "    </tr>\n",
       "    <tr>\n",
       "      <th>3</th>\n",
       "      <td>1</td>\n",
       "      <td>1</td>\n",
       "    </tr>\n",
       "    <tr>\n",
       "      <th>4</th>\n",
       "      <td>1</td>\n",
       "      <td>1</td>\n",
       "    </tr>\n",
       "    <tr>\n",
       "      <th>...</th>\n",
       "      <td>...</td>\n",
       "      <td>...</td>\n",
       "    </tr>\n",
       "    <tr>\n",
       "      <th>1262</th>\n",
       "      <td>1</td>\n",
       "      <td>1</td>\n",
       "    </tr>\n",
       "    <tr>\n",
       "      <th>1263</th>\n",
       "      <td>1</td>\n",
       "      <td>1</td>\n",
       "    </tr>\n",
       "    <tr>\n",
       "      <th>1264</th>\n",
       "      <td>2</td>\n",
       "      <td>1</td>\n",
       "    </tr>\n",
       "    <tr>\n",
       "      <th>1265</th>\n",
       "      <td>1</td>\n",
       "      <td>1</td>\n",
       "    </tr>\n",
       "    <tr>\n",
       "      <th>1266</th>\n",
       "      <td>2</td>\n",
       "      <td>2</td>\n",
       "    </tr>\n",
       "  </tbody>\n",
       "</table>\n",
       "<p>1267 rows × 2 columns</p>\n",
       "</div>"
      ],
      "text/plain": [
       "      test  true_dev\n",
       "0        1         2\n",
       "1        1         1\n",
       "2        2         2\n",
       "3        1         1\n",
       "4        1         1\n",
       "...    ...       ...\n",
       "1262     1         1\n",
       "1263     1         1\n",
       "1264     2         1\n",
       "1265     1         1\n",
       "1266     2         2\n",
       "\n",
       "[1267 rows x 2 columns]"
      ]
     },
     "execution_count": 22,
     "metadata": {},
     "output_type": "execute_result"
    }
   ],
   "source": [
    "df= pd.DataFrame(np.transpose([lineList,lineList_dev]), columns=['test','true_dev'])\n",
    "df"
   ]
  },
  {
   "cell_type": "code",
   "execution_count": 23,
   "id": "52238a3b-36eb-4be9-90b4-50ed850735ae",
   "metadata": {},
   "outputs": [],
   "source": [
    "df['same?'] = df.apply(lambda x: for_df(x.test, x.true_dev), axis=1)"
   ]
  },
  {
   "cell_type": "code",
   "execution_count": 25,
   "id": "0483ce2a-450a-49a3-95bd-5adb9278a01d",
   "metadata": {},
   "outputs": [
    {
     "data": {
      "text/plain": [
       "0.7932123125493291"
      ]
     },
     "execution_count": 25,
     "metadata": {},
     "output_type": "execute_result"
    }
   ],
   "source": [
    "sum(list(df['same?']))/len(df)"
   ]
  },
  {
   "cell_type": "code",
   "execution_count": 19,
   "id": "9c4ab4c4-f326-410e-a76f-c25b97f4738a",
   "metadata": {},
   "outputs": [],
   "source": [
    "def for_df(x,y):\n",
    "    if x==y:\n",
    "        return 1\n",
    "    else:\n",
    "        return 0"
   ]
  }
 ],
 "metadata": {
  "kernelspec": {
   "display_name": "Python 3",
   "language": "python",
   "name": "python3"
  },
  "language_info": {
   "codemirror_mode": {
    "name": "ipython",
    "version": 3
   },
   "file_extension": ".py",
   "mimetype": "text/x-python",
   "name": "python",
   "nbconvert_exporter": "python",
   "pygments_lexer": "ipython3",
   "version": "3.7.9"
  }
 },
 "nbformat": 4,
 "nbformat_minor": 5
}
