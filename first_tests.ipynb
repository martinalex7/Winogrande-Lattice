{
 "cells": [
  {
   "cell_type": "code",
   "execution_count": 6,
   "metadata": {
    "collapsed": true
   },
   "outputs": [],
   "source": [
    "import pandas as pd\n",
    "import matplotlib.pyplot as plt\n",
    "import numpy\n",
    "import json"
   ]
  },
  {
   "cell_type": "code",
   "execution_count": 28,
   "outputs": [],
   "source": [
    "with open('data/s/train_s.jsonl', 'r') as f:\n",
    "  a = list(f)\n",
    "\n",
    "data_s =[]\n",
    "for element in a:\n",
    "  data_s.append(json.loads(element))\n",
    "\n",
    "data_s = pd.DataFrame(data_s)"
   ],
   "metadata": {
    "collapsed": false,
    "pycharm": {
     "name": "#%%\n"
    }
   }
  },
  {
   "cell_type": "code",
   "execution_count": 29,
   "outputs": [
    {
     "data": {
      "text/plain": "                                  qID  \\\n0    3QHITW7OYO7Q6B6ISU2UMJB84ZLAQE-2   \n1    3QHITW7OYO7Q6B6ISU2UMJB84ZLAQE-1   \n2    3XWUWJ18TLO2DDRXF83QWLKRJ29UU4-1   \n3    3XWUWJ18TLO2DDRXF83QWLKRJ29UU4-2   \n4    3D5G8J4N5CI2K40F4RZLF9OG2CKVTH-2   \n..                                ...   \n635  3EGKVCRQFY6JSC139GVKMEMPGCSBY6-1   \n636  3566S7OX5FXZ0UNAKACV3PPIOHJ17V-2   \n637  3566S7OX5FXZ0UNAKACV3PPIOHJ17V-1   \n638  3HEM8MA6H9AXTFCKHDKRCE03806PQT-1   \n639  3HEM8MA6H9AXTFCKHDKRCE03806PQT-2   \n\n                                              sentence option1    option2  \\\n0    Ian volunteered to eat Dennis's menudo after a...     Ian     Dennis   \n1    Ian volunteered to eat Dennis's menudo after a...     Ian     Dennis   \n2    He never comes to my home, but I always go to ...    home      house   \n3    He never comes to my home, but I always go to ...    home      house   \n4    Kyle doesn't wear leg warmers to bed, while Lo...    Kyle      Logan   \n..                                                 ...     ...        ...   \n635  Carrie needed to be vigilant about her bone he...  Carrie    Natalie   \n636  The waves destroyed the garage but left the ho...  garage      house   \n637  The waves destroyed the garage but left the ho...  garage      house   \n638  The science student tried using the telescope ...  galaxy  telescope   \n639  The science student tried using the telescope ...  galaxy  telescope   \n\n    answer  \n0        2  \n1        1  \n2        1  \n3        2  \n4        2  \n..     ...  \n635      1  \n636      2  \n637      1  \n638      1  \n639      2  \n\n[640 rows x 5 columns]",
      "text/html": "<div>\n<style scoped>\n    .dataframe tbody tr th:only-of-type {\n        vertical-align: middle;\n    }\n\n    .dataframe tbody tr th {\n        vertical-align: top;\n    }\n\n    .dataframe thead th {\n        text-align: right;\n    }\n</style>\n<table border=\"1\" class=\"dataframe\">\n  <thead>\n    <tr style=\"text-align: right;\">\n      <th></th>\n      <th>qID</th>\n      <th>sentence</th>\n      <th>option1</th>\n      <th>option2</th>\n      <th>answer</th>\n    </tr>\n  </thead>\n  <tbody>\n    <tr>\n      <th>0</th>\n      <td>3QHITW7OYO7Q6B6ISU2UMJB84ZLAQE-2</td>\n      <td>Ian volunteered to eat Dennis's menudo after a...</td>\n      <td>Ian</td>\n      <td>Dennis</td>\n      <td>2</td>\n    </tr>\n    <tr>\n      <th>1</th>\n      <td>3QHITW7OYO7Q6B6ISU2UMJB84ZLAQE-1</td>\n      <td>Ian volunteered to eat Dennis's menudo after a...</td>\n      <td>Ian</td>\n      <td>Dennis</td>\n      <td>1</td>\n    </tr>\n    <tr>\n      <th>2</th>\n      <td>3XWUWJ18TLO2DDRXF83QWLKRJ29UU4-1</td>\n      <td>He never comes to my home, but I always go to ...</td>\n      <td>home</td>\n      <td>house</td>\n      <td>1</td>\n    </tr>\n    <tr>\n      <th>3</th>\n      <td>3XWUWJ18TLO2DDRXF83QWLKRJ29UU4-2</td>\n      <td>He never comes to my home, but I always go to ...</td>\n      <td>home</td>\n      <td>house</td>\n      <td>2</td>\n    </tr>\n    <tr>\n      <th>4</th>\n      <td>3D5G8J4N5CI2K40F4RZLF9OG2CKVTH-2</td>\n      <td>Kyle doesn't wear leg warmers to bed, while Lo...</td>\n      <td>Kyle</td>\n      <td>Logan</td>\n      <td>2</td>\n    </tr>\n    <tr>\n      <th>...</th>\n      <td>...</td>\n      <td>...</td>\n      <td>...</td>\n      <td>...</td>\n      <td>...</td>\n    </tr>\n    <tr>\n      <th>635</th>\n      <td>3EGKVCRQFY6JSC139GVKMEMPGCSBY6-1</td>\n      <td>Carrie needed to be vigilant about her bone he...</td>\n      <td>Carrie</td>\n      <td>Natalie</td>\n      <td>1</td>\n    </tr>\n    <tr>\n      <th>636</th>\n      <td>3566S7OX5FXZ0UNAKACV3PPIOHJ17V-2</td>\n      <td>The waves destroyed the garage but left the ho...</td>\n      <td>garage</td>\n      <td>house</td>\n      <td>2</td>\n    </tr>\n    <tr>\n      <th>637</th>\n      <td>3566S7OX5FXZ0UNAKACV3PPIOHJ17V-1</td>\n      <td>The waves destroyed the garage but left the ho...</td>\n      <td>garage</td>\n      <td>house</td>\n      <td>1</td>\n    </tr>\n    <tr>\n      <th>638</th>\n      <td>3HEM8MA6H9AXTFCKHDKRCE03806PQT-1</td>\n      <td>The science student tried using the telescope ...</td>\n      <td>galaxy</td>\n      <td>telescope</td>\n      <td>1</td>\n    </tr>\n    <tr>\n      <th>639</th>\n      <td>3HEM8MA6H9AXTFCKHDKRCE03806PQT-2</td>\n      <td>The science student tried using the telescope ...</td>\n      <td>galaxy</td>\n      <td>telescope</td>\n      <td>2</td>\n    </tr>\n  </tbody>\n</table>\n<p>640 rows × 5 columns</p>\n</div>"
     },
     "execution_count": 29,
     "metadata": {},
     "output_type": "execute_result"
    }
   ],
   "source": [
    "data_s"
   ],
   "metadata": {
    "collapsed": false,
    "pycharm": {
     "name": "#%%\n"
    }
   }
  },
  {
   "cell_type": "code",
   "execution_count": null,
   "outputs": [],
   "source": [],
   "metadata": {
    "collapsed": false,
    "pycharm": {
     "name": "#%%\n"
    }
   }
  }
 ],
 "metadata": {
  "kernelspec": {
   "display_name": "Python 3",
   "language": "python",
   "name": "python3"
  },
  "language_info": {
   "codemirror_mode": {
    "name": "ipython",
    "version": 2
   },
   "file_extension": ".py",
   "mimetype": "text/x-python",
   "name": "python",
   "nbconvert_exporter": "python",
   "pygments_lexer": "ipython2",
   "version": "2.7.6"
  }
 },
 "nbformat": 4,
 "nbformat_minor": 0
}