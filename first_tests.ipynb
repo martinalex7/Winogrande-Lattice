{
 "cells": [
  {
   "cell_type": "markdown",
   "source": [
    "# Premiers Tests"
   ],
   "metadata": {
    "collapsed": false,
    "pycharm": {
     "name": "#%% md\n"
    }
   }
  },
  {
   "cell_type": "code",
   "execution_count": 131,
   "outputs": [],
   "source": [
    "import pandas as pd\n",
    "import matplotlib.pyplot as plt\n",
    "import numpy as np\n",
    "import json\n",
    "from sklearn.feature_extraction.text  import TfidfVectorizer\n",
    "from sklearn.cluster import KMeans\n",
    "from nltk import WordNetLemmatizer\n",
    "from nltk import word_tokenize\n",
    "import spicy"
   ],
   "metadata": {
    "collapsed": false,
    "pycharm": {
     "name": "#%%\n"
    }
   }
  },
  {
   "cell_type": "code",
   "execution_count": 28,
   "outputs": [],
   "source": [
    "with open('data/s/train_s.jsonl', 'r') as f:\n",
    "  a = list(f)\n",
    "\n",
    "data_s =[]\n",
    "for element in a:\n",
    "  data_s.append(json.loads(element))\n",
    "\n",
    "data_s = pd.DataFrame(data_s)"
   ],
   "metadata": {
    "collapsed": false,
    "pycharm": {
     "name": "#%%\n"
    }
   }
  },
  {
   "cell_type": "code",
   "execution_count": 29,
   "outputs": [
    {
     "data": {
      "text/plain": "                                  qID  \\\n0    3QHITW7OYO7Q6B6ISU2UMJB84ZLAQE-2   \n1    3QHITW7OYO7Q6B6ISU2UMJB84ZLAQE-1   \n2    3XWUWJ18TLO2DDRXF83QWLKRJ29UU4-1   \n3    3XWUWJ18TLO2DDRXF83QWLKRJ29UU4-2   \n4    3D5G8J4N5CI2K40F4RZLF9OG2CKVTH-2   \n..                                ...   \n635  3EGKVCRQFY6JSC139GVKMEMPGCSBY6-1   \n636  3566S7OX5FXZ0UNAKACV3PPIOHJ17V-2   \n637  3566S7OX5FXZ0UNAKACV3PPIOHJ17V-1   \n638  3HEM8MA6H9AXTFCKHDKRCE03806PQT-1   \n639  3HEM8MA6H9AXTFCKHDKRCE03806PQT-2   \n\n                                              sentence option1    option2  \\\n0    Ian volunteered to eat Dennis's menudo after a...     Ian     Dennis   \n1    Ian volunteered to eat Dennis's menudo after a...     Ian     Dennis   \n2    He never comes to my home, but I always go to ...    home      house   \n3    He never comes to my home, but I always go to ...    home      house   \n4    Kyle doesn't wear leg warmers to bed, while Lo...    Kyle      Logan   \n..                                                 ...     ...        ...   \n635  Carrie needed to be vigilant about her bone he...  Carrie    Natalie   \n636  The waves destroyed the garage but left the ho...  garage      house   \n637  The waves destroyed the garage but left the ho...  garage      house   \n638  The science student tried using the telescope ...  galaxy  telescope   \n639  The science student tried using the telescope ...  galaxy  telescope   \n\n    answer  \n0        2  \n1        1  \n2        1  \n3        2  \n4        2  \n..     ...  \n635      1  \n636      2  \n637      1  \n638      1  \n639      2  \n\n[640 rows x 5 columns]",
      "text/html": "<div>\n<style scoped>\n    .dataframe tbody tr th:only-of-type {\n        vertical-align: middle;\n    }\n\n    .dataframe tbody tr th {\n        vertical-align: top;\n    }\n\n    .dataframe thead th {\n        text-align: right;\n    }\n</style>\n<table border=\"1\" class=\"dataframe\">\n  <thead>\n    <tr style=\"text-align: right;\">\n      <th></th>\n      <th>qID</th>\n      <th>sentence</th>\n      <th>option1</th>\n      <th>option2</th>\n      <th>answer</th>\n    </tr>\n  </thead>\n  <tbody>\n    <tr>\n      <th>0</th>\n      <td>3QHITW7OYO7Q6B6ISU2UMJB84ZLAQE-2</td>\n      <td>Ian volunteered to eat Dennis's menudo after a...</td>\n      <td>Ian</td>\n      <td>Dennis</td>\n      <td>2</td>\n    </tr>\n    <tr>\n      <th>1</th>\n      <td>3QHITW7OYO7Q6B6ISU2UMJB84ZLAQE-1</td>\n      <td>Ian volunteered to eat Dennis's menudo after a...</td>\n      <td>Ian</td>\n      <td>Dennis</td>\n      <td>1</td>\n    </tr>\n    <tr>\n      <th>2</th>\n      <td>3XWUWJ18TLO2DDRXF83QWLKRJ29UU4-1</td>\n      <td>He never comes to my home, but I always go to ...</td>\n      <td>home</td>\n      <td>house</td>\n      <td>1</td>\n    </tr>\n    <tr>\n      <th>3</th>\n      <td>3XWUWJ18TLO2DDRXF83QWLKRJ29UU4-2</td>\n      <td>He never comes to my home, but I always go to ...</td>\n      <td>home</td>\n      <td>house</td>\n      <td>2</td>\n    </tr>\n    <tr>\n      <th>4</th>\n      <td>3D5G8J4N5CI2K40F4RZLF9OG2CKVTH-2</td>\n      <td>Kyle doesn't wear leg warmers to bed, while Lo...</td>\n      <td>Kyle</td>\n      <td>Logan</td>\n      <td>2</td>\n    </tr>\n    <tr>\n      <th>...</th>\n      <td>...</td>\n      <td>...</td>\n      <td>...</td>\n      <td>...</td>\n      <td>...</td>\n    </tr>\n    <tr>\n      <th>635</th>\n      <td>3EGKVCRQFY6JSC139GVKMEMPGCSBY6-1</td>\n      <td>Carrie needed to be vigilant about her bone he...</td>\n      <td>Carrie</td>\n      <td>Natalie</td>\n      <td>1</td>\n    </tr>\n    <tr>\n      <th>636</th>\n      <td>3566S7OX5FXZ0UNAKACV3PPIOHJ17V-2</td>\n      <td>The waves destroyed the garage but left the ho...</td>\n      <td>garage</td>\n      <td>house</td>\n      <td>2</td>\n    </tr>\n    <tr>\n      <th>637</th>\n      <td>3566S7OX5FXZ0UNAKACV3PPIOHJ17V-1</td>\n      <td>The waves destroyed the garage but left the ho...</td>\n      <td>garage</td>\n      <td>house</td>\n      <td>1</td>\n    </tr>\n    <tr>\n      <th>638</th>\n      <td>3HEM8MA6H9AXTFCKHDKRCE03806PQT-1</td>\n      <td>The science student tried using the telescope ...</td>\n      <td>galaxy</td>\n      <td>telescope</td>\n      <td>1</td>\n    </tr>\n    <tr>\n      <th>639</th>\n      <td>3HEM8MA6H9AXTFCKHDKRCE03806PQT-2</td>\n      <td>The science student tried using the telescope ...</td>\n      <td>galaxy</td>\n      <td>telescope</td>\n      <td>2</td>\n    </tr>\n  </tbody>\n</table>\n<p>640 rows × 5 columns</p>\n</div>"
     },
     "execution_count": 29,
     "metadata": {},
     "output_type": "execute_result"
    }
   ],
   "source": [
    "data_s"
   ],
   "metadata": {
    "collapsed": false,
    "pycharm": {
     "name": "#%%\n"
    }
   }
  },
  {
   "cell_type": "markdown",
   "source": [
    "### First metric : Clustering TDIDF"
   ],
   "metadata": {
    "collapsed": false
   }
  },
  {
   "cell_type": "markdown",
   "source": [
    "TF-IDF puis clustering KMeans sur données lemmatisées ou non\n",
    "Clusters obtenus (n_cluster par défaut)\n",
    "- ne sont pas pertinents (pas logique dans cluster)\n",
    "- sont les mêmes selon lemmatisation ou pas\n",
    "- plot de distortions, inerties : rien d'aboutissant"
   ],
   "metadata": {
    "collapsed": false,
    "pycharm": {
     "name": "#%% md\n"
    }
   }
  },
  {
   "cell_type": "code",
   "execution_count": 64,
   "outputs": [
    {
     "name": "stderr",
     "output_type": "stream",
     "text": [
      "c:\\users\\marti\\work\\lattice-internship\\venv\\lib\\site-packages\\sklearn\\utils\\deprecation.py:87: FutureWarning: Function get_feature_names is deprecated; get_feature_names is deprecated in 1.0 and will be removed in 1.2. Please use get_feature_names_out instead.\n",
      "  warnings.warn(msg, category=FutureWarning)\n"
     ]
    }
   ],
   "source": [
    "vectorizer = TfidfVectorizer()\n",
    "vectors = vectorizer.fit_transform(data_s['sentence'])\n",
    "feature_names = vectorizer.get_feature_names()\n",
    "dense = vectors.todense()\n",
    "denselist = dense.tolist()"
   ],
   "metadata": {
    "collapsed": false,
    "pycharm": {
     "name": "#%%\n"
    }
   }
  },
  {
   "cell_type": "code",
   "execution_count": 65,
   "outputs": [
    {
     "data": {
      "text/plain": "     aaron  ability  able     about  above  abuse  accident  accidentally  \\\n0      0.0      0.0   0.0  0.000000    0.0    0.0       0.0           0.0   \n1      0.0      0.0   0.0  0.000000    0.0    0.0       0.0           0.0   \n2      0.0      0.0   0.0  0.000000    0.0    0.0       0.0           0.0   \n3      0.0      0.0   0.0  0.000000    0.0    0.0       0.0           0.0   \n4      0.0      0.0   0.0  0.000000    0.0    0.0       0.0           0.0   \n..     ...      ...   ...       ...    ...    ...       ...           ...   \n635    0.0      0.0   0.0  0.416204    0.0    0.0       0.0           0.0   \n636    0.0      0.0   0.0  0.000000    0.0    0.0       0.0           0.0   \n637    0.0      0.0   0.0  0.000000    0.0    0.0       0.0           0.0   \n638    0.0      0.0   0.0  0.000000    0.0    0.0       0.0           0.0   \n639    0.0      0.0   0.0  0.000000    0.0    0.0       0.0           0.0   \n\n     accountant  achieving  ...  written  wrote  yard  years  yellow  yet  \\\n0           0.0        0.0  ...      0.0    0.0   0.0    0.0     0.0  0.0   \n1           0.0        0.0  ...      0.0    0.0   0.0    0.0     0.0  0.0   \n2           0.0        0.0  ...      0.0    0.0   0.0    0.0     0.0  0.0   \n3           0.0        0.0  ...      0.0    0.0   0.0    0.0     0.0  0.0   \n4           0.0        0.0  ...      0.0    0.0   0.0    0.0     0.0  0.0   \n..          ...        ...  ...      ...    ...   ...    ...     ...  ...   \n635         0.0        0.0  ...      0.0    0.0   0.0    0.0     0.0  0.0   \n636         0.0        0.0  ...      0.0    0.0   0.0    0.0     0.0  0.0   \n637         0.0        0.0  ...      0.0    0.0   0.0    0.0     0.0  0.0   \n638         0.0        0.0  ...      0.0    0.0   0.0    0.0     0.0  0.0   \n639         0.0        0.0  ...      0.0    0.0   0.0    0.0     0.0  0.0   \n\n     yogurt  you  your  youtube  \n0       0.0  0.0   0.0      0.0  \n1       0.0  0.0   0.0      0.0  \n2       0.0  0.0   0.0      0.0  \n3       0.0  0.0   0.0      0.0  \n4       0.0  0.0   0.0      0.0  \n..      ...  ...   ...      ...  \n635     0.0  0.0   0.0      0.0  \n636     0.0  0.0   0.0      0.0  \n637     0.0  0.0   0.0      0.0  \n638     0.0  0.0   0.0      0.0  \n639     0.0  0.0   0.0      0.0  \n\n[640 rows x 1823 columns]",
      "text/html": "<div>\n<style scoped>\n    .dataframe tbody tr th:only-of-type {\n        vertical-align: middle;\n    }\n\n    .dataframe tbody tr th {\n        vertical-align: top;\n    }\n\n    .dataframe thead th {\n        text-align: right;\n    }\n</style>\n<table border=\"1\" class=\"dataframe\">\n  <thead>\n    <tr style=\"text-align: right;\">\n      <th></th>\n      <th>aaron</th>\n      <th>ability</th>\n      <th>able</th>\n      <th>about</th>\n      <th>above</th>\n      <th>abuse</th>\n      <th>accident</th>\n      <th>accidentally</th>\n      <th>accountant</th>\n      <th>achieving</th>\n      <th>...</th>\n      <th>written</th>\n      <th>wrote</th>\n      <th>yard</th>\n      <th>years</th>\n      <th>yellow</th>\n      <th>yet</th>\n      <th>yogurt</th>\n      <th>you</th>\n      <th>your</th>\n      <th>youtube</th>\n    </tr>\n  </thead>\n  <tbody>\n    <tr>\n      <th>0</th>\n      <td>0.0</td>\n      <td>0.0</td>\n      <td>0.0</td>\n      <td>0.000000</td>\n      <td>0.0</td>\n      <td>0.0</td>\n      <td>0.0</td>\n      <td>0.0</td>\n      <td>0.0</td>\n      <td>0.0</td>\n      <td>...</td>\n      <td>0.0</td>\n      <td>0.0</td>\n      <td>0.0</td>\n      <td>0.0</td>\n      <td>0.0</td>\n      <td>0.0</td>\n      <td>0.0</td>\n      <td>0.0</td>\n      <td>0.0</td>\n      <td>0.0</td>\n    </tr>\n    <tr>\n      <th>1</th>\n      <td>0.0</td>\n      <td>0.0</td>\n      <td>0.0</td>\n      <td>0.000000</td>\n      <td>0.0</td>\n      <td>0.0</td>\n      <td>0.0</td>\n      <td>0.0</td>\n      <td>0.0</td>\n      <td>0.0</td>\n      <td>...</td>\n      <td>0.0</td>\n      <td>0.0</td>\n      <td>0.0</td>\n      <td>0.0</td>\n      <td>0.0</td>\n      <td>0.0</td>\n      <td>0.0</td>\n      <td>0.0</td>\n      <td>0.0</td>\n      <td>0.0</td>\n    </tr>\n    <tr>\n      <th>2</th>\n      <td>0.0</td>\n      <td>0.0</td>\n      <td>0.0</td>\n      <td>0.000000</td>\n      <td>0.0</td>\n      <td>0.0</td>\n      <td>0.0</td>\n      <td>0.0</td>\n      <td>0.0</td>\n      <td>0.0</td>\n      <td>...</td>\n      <td>0.0</td>\n      <td>0.0</td>\n      <td>0.0</td>\n      <td>0.0</td>\n      <td>0.0</td>\n      <td>0.0</td>\n      <td>0.0</td>\n      <td>0.0</td>\n      <td>0.0</td>\n      <td>0.0</td>\n    </tr>\n    <tr>\n      <th>3</th>\n      <td>0.0</td>\n      <td>0.0</td>\n      <td>0.0</td>\n      <td>0.000000</td>\n      <td>0.0</td>\n      <td>0.0</td>\n      <td>0.0</td>\n      <td>0.0</td>\n      <td>0.0</td>\n      <td>0.0</td>\n      <td>...</td>\n      <td>0.0</td>\n      <td>0.0</td>\n      <td>0.0</td>\n      <td>0.0</td>\n      <td>0.0</td>\n      <td>0.0</td>\n      <td>0.0</td>\n      <td>0.0</td>\n      <td>0.0</td>\n      <td>0.0</td>\n    </tr>\n    <tr>\n      <th>4</th>\n      <td>0.0</td>\n      <td>0.0</td>\n      <td>0.0</td>\n      <td>0.000000</td>\n      <td>0.0</td>\n      <td>0.0</td>\n      <td>0.0</td>\n      <td>0.0</td>\n      <td>0.0</td>\n      <td>0.0</td>\n      <td>...</td>\n      <td>0.0</td>\n      <td>0.0</td>\n      <td>0.0</td>\n      <td>0.0</td>\n      <td>0.0</td>\n      <td>0.0</td>\n      <td>0.0</td>\n      <td>0.0</td>\n      <td>0.0</td>\n      <td>0.0</td>\n    </tr>\n    <tr>\n      <th>...</th>\n      <td>...</td>\n      <td>...</td>\n      <td>...</td>\n      <td>...</td>\n      <td>...</td>\n      <td>...</td>\n      <td>...</td>\n      <td>...</td>\n      <td>...</td>\n      <td>...</td>\n      <td>...</td>\n      <td>...</td>\n      <td>...</td>\n      <td>...</td>\n      <td>...</td>\n      <td>...</td>\n      <td>...</td>\n      <td>...</td>\n      <td>...</td>\n      <td>...</td>\n      <td>...</td>\n    </tr>\n    <tr>\n      <th>635</th>\n      <td>0.0</td>\n      <td>0.0</td>\n      <td>0.0</td>\n      <td>0.416204</td>\n      <td>0.0</td>\n      <td>0.0</td>\n      <td>0.0</td>\n      <td>0.0</td>\n      <td>0.0</td>\n      <td>0.0</td>\n      <td>...</td>\n      <td>0.0</td>\n      <td>0.0</td>\n      <td>0.0</td>\n      <td>0.0</td>\n      <td>0.0</td>\n      <td>0.0</td>\n      <td>0.0</td>\n      <td>0.0</td>\n      <td>0.0</td>\n      <td>0.0</td>\n    </tr>\n    <tr>\n      <th>636</th>\n      <td>0.0</td>\n      <td>0.0</td>\n      <td>0.0</td>\n      <td>0.000000</td>\n      <td>0.0</td>\n      <td>0.0</td>\n      <td>0.0</td>\n      <td>0.0</td>\n      <td>0.0</td>\n      <td>0.0</td>\n      <td>...</td>\n      <td>0.0</td>\n      <td>0.0</td>\n      <td>0.0</td>\n      <td>0.0</td>\n      <td>0.0</td>\n      <td>0.0</td>\n      <td>0.0</td>\n      <td>0.0</td>\n      <td>0.0</td>\n      <td>0.0</td>\n    </tr>\n    <tr>\n      <th>637</th>\n      <td>0.0</td>\n      <td>0.0</td>\n      <td>0.0</td>\n      <td>0.000000</td>\n      <td>0.0</td>\n      <td>0.0</td>\n      <td>0.0</td>\n      <td>0.0</td>\n      <td>0.0</td>\n      <td>0.0</td>\n      <td>...</td>\n      <td>0.0</td>\n      <td>0.0</td>\n      <td>0.0</td>\n      <td>0.0</td>\n      <td>0.0</td>\n      <td>0.0</td>\n      <td>0.0</td>\n      <td>0.0</td>\n      <td>0.0</td>\n      <td>0.0</td>\n    </tr>\n    <tr>\n      <th>638</th>\n      <td>0.0</td>\n      <td>0.0</td>\n      <td>0.0</td>\n      <td>0.000000</td>\n      <td>0.0</td>\n      <td>0.0</td>\n      <td>0.0</td>\n      <td>0.0</td>\n      <td>0.0</td>\n      <td>0.0</td>\n      <td>...</td>\n      <td>0.0</td>\n      <td>0.0</td>\n      <td>0.0</td>\n      <td>0.0</td>\n      <td>0.0</td>\n      <td>0.0</td>\n      <td>0.0</td>\n      <td>0.0</td>\n      <td>0.0</td>\n      <td>0.0</td>\n    </tr>\n    <tr>\n      <th>639</th>\n      <td>0.0</td>\n      <td>0.0</td>\n      <td>0.0</td>\n      <td>0.000000</td>\n      <td>0.0</td>\n      <td>0.0</td>\n      <td>0.0</td>\n      <td>0.0</td>\n      <td>0.0</td>\n      <td>0.0</td>\n      <td>...</td>\n      <td>0.0</td>\n      <td>0.0</td>\n      <td>0.0</td>\n      <td>0.0</td>\n      <td>0.0</td>\n      <td>0.0</td>\n      <td>0.0</td>\n      <td>0.0</td>\n      <td>0.0</td>\n      <td>0.0</td>\n    </tr>\n  </tbody>\n</table>\n<p>640 rows × 1823 columns</p>\n</div>"
     },
     "execution_count": 65,
     "metadata": {},
     "output_type": "execute_result"
    }
   ],
   "source": [
    "df = pd.DataFrame(denselist, columns=feature_names)\n",
    "df"
   ],
   "metadata": {
    "collapsed": false,
    "pycharm": {
     "name": "#%%\n"
    }
   }
  },
  {
   "cell_type": "code",
   "execution_count": 81,
   "outputs": [
    {
     "data": {
      "text/plain": "array([1, 0, 3, 3, 3, 3, 3, 3, 5, 5, 2, 2, 3, 3, 3, 3, 2, 2, 5, 5, 3, 3,\n       1, 1, 3, 3, 5, 5, 6, 6, 7, 7, 3, 3, 6, 6, 3, 3, 0, 0, 5, 5, 3, 3,\n       6, 6, 5, 5, 2, 2, 3, 3, 7, 7, 1, 1, 4, 4, 7, 7, 3, 3, 5, 5, 7, 7,\n       0, 0, 3, 3, 2, 2, 4, 4, 3, 3, 0, 0, 0, 0, 3, 3, 3, 3, 1, 1, 1, 1,\n       2, 2, 3, 3, 5, 5, 0, 0, 1, 1, 6, 6, 1, 1, 1, 1, 2, 2, 3, 3, 5, 5,\n       2, 2, 3, 3, 0, 0, 0, 0, 5, 5, 0, 0, 1, 1, 3, 3, 6, 6, 0, 0, 5, 5,\n       2, 2, 5, 5, 5, 5, 7, 7, 3, 3, 3, 3, 4, 1, 3, 3, 7, 7, 0, 0, 3, 3,\n       7, 3, 3, 3, 2, 2, 6, 6, 1, 1, 0, 0, 3, 3, 5, 5, 7, 7, 5, 5, 6, 6,\n       3, 3, 2, 0, 2, 2, 1, 1, 7, 7, 2, 2, 6, 6, 5, 5, 5, 5, 7, 7, 3, 3,\n       3, 3, 3, 3, 3, 3, 0, 0, 5, 5, 3, 3, 2, 2, 6, 6, 7, 7, 0, 0, 2, 2,\n       1, 1, 2, 2, 0, 2, 5, 5, 3, 3, 3, 3, 7, 7, 0, 0, 7, 7, 5, 5, 3, 3,\n       0, 0, 5, 5, 4, 4, 6, 6, 4, 4, 5, 5, 1, 6, 2, 2, 3, 3, 2, 2, 6, 6,\n       5, 5, 7, 7, 0, 0, 5, 5, 7, 7, 6, 6, 2, 2, 6, 6, 2, 2, 4, 4, 5, 5,\n       2, 2, 0, 0, 6, 6, 4, 4, 1, 1, 5, 5, 5, 5, 5, 5, 3, 3, 1, 1, 7, 7,\n       2, 2, 4, 4, 1, 1, 3, 3, 2, 2, 6, 6, 0, 0, 5, 5, 3, 3, 3, 3, 5, 5,\n       0, 0, 2, 2, 7, 7, 7, 7, 4, 4, 2, 2, 4, 7, 3, 3, 3, 3, 3, 3, 0, 0,\n       3, 3, 2, 2, 7, 7, 3, 3, 5, 5, 4, 4, 2, 2, 7, 7, 4, 4, 3, 3, 5, 5,\n       3, 3, 6, 6, 0, 1, 6, 6, 4, 4, 2, 2, 1, 1, 6, 6, 1, 1, 5, 5, 5, 5,\n       5, 5, 1, 1, 3, 3, 5, 5, 5, 5, 0, 0, 4, 3, 0, 0, 2, 2, 2, 5, 3, 3,\n       0, 0, 5, 5, 1, 1, 3, 3, 1, 1, 3, 3, 7, 7, 4, 4, 2, 2, 3, 3, 1, 1,\n       5, 5, 1, 1, 5, 5, 1, 1, 3, 3, 5, 5, 4, 4, 2, 2, 5, 5, 3, 3, 0, 0,\n       2, 2, 3, 3, 5, 5, 0, 0, 5, 5, 3, 3, 5, 5, 3, 3, 5, 5, 0, 0, 5, 3,\n       1, 1, 4, 4, 3, 3, 7, 7, 1, 1, 7, 7, 7, 7, 4, 4, 3, 3, 3, 3, 2, 0,\n       7, 7, 7, 7, 6, 6, 3, 3, 2, 2, 0, 0, 3, 3, 1, 1, 2, 2, 5, 5, 3, 3,\n       7, 7, 0, 0, 1, 1, 6, 6, 0, 0, 1, 1, 6, 6, 2, 2, 5, 5, 3, 3, 0, 0,\n       6, 6, 5, 5, 3, 3, 5, 5, 4, 4, 3, 3, 4, 4, 6, 6, 2, 2, 4, 4, 5, 5,\n       7, 7, 2, 2, 3, 3, 1, 1, 4, 4, 1, 1, 3, 3, 2, 2, 0, 0, 2, 2, 2, 2,\n       2, 2, 1, 1, 4, 4, 7, 7, 0, 7, 5, 5, 5, 5, 5, 5, 4, 4, 3, 3, 3, 3,\n       3, 3, 1, 1, 1, 1, 1, 1, 1, 1, 5, 5, 4, 4, 6, 6, 1, 1, 4, 4, 2, 2,\n       7, 7])"
     },
     "execution_count": 81,
     "metadata": {},
     "output_type": "execute_result"
    }
   ],
   "source": [
    "clustering = KMeans()\n",
    "clusters = clustering.fit_predict(df)\n",
    "clusters"
   ],
   "metadata": {
    "collapsed": false,
    "pycharm": {
     "name": "#%%\n"
    }
   }
  },
  {
   "cell_type": "code",
   "execution_count": 84,
   "outputs": [],
   "source": [
    "df['Cluster'] = clusters"
   ],
   "metadata": {
    "collapsed": false,
    "pycharm": {
     "name": "#%%\n"
    }
   }
  },
  {
   "cell_type": "code",
   "execution_count": 89,
   "outputs": [],
   "source": [
    "new_data_s = data_s"
   ],
   "metadata": {
    "collapsed": false,
    "pycharm": {
     "name": "#%%\n"
    }
   }
  },
  {
   "cell_type": "code",
   "execution_count": 90,
   "outputs": [],
   "source": [
    "new_data_s['cluster'] = clusters"
   ],
   "metadata": {
    "collapsed": false,
    "pycharm": {
     "name": "#%%\n"
    }
   }
  },
  {
   "cell_type": "code",
   "execution_count": 93,
   "outputs": [
    {
     "data": {
      "text/plain": "1      Ian volunteered to eat Dennis's menudo after a...\n38     Donald was richer than Leslie was because comp...\n39     Donald was poorer than Leslie was because comp...\n66     Once in Poland, Dennis enjoyed the trip more t...\n67     Once in Poland, Dennis enjoyed the trip more t...\n                             ...                        \n548    Dennis had a much higher testosterone level th...\n549    Dennis had a much higher testosterone level th...\n588    Jason was bald, but Hunter had a full head of ...\n589    Jason was bald, but Hunter had a full head of ...\n602    They need to update their kitchen cabinets aft...\nName: sentence, Length: 68, dtype: object"
     },
     "execution_count": 93,
     "metadata": {},
     "output_type": "execute_result"
    }
   ],
   "source": [
    "new_data_s[new_data_s['cluster']==0]['sentence']"
   ],
   "metadata": {
    "collapsed": false,
    "pycharm": {
     "name": "#%%\n"
    }
   }
  },
  {
   "cell_type": "code",
   "execution_count": null,
   "outputs": [],
   "source": [
    "l = [0]\n",
    "for i in range(1,len(df)):\n",
    "  l.append(np.linalg.norm(df.iloc[0]-df.iloc[i]))"
   ],
   "metadata": {
    "collapsed": false,
    "pycharm": {
     "name": "#%%\n"
    }
   }
  },
  {
   "cell_type": "code",
   "execution_count": 106,
   "outputs": [],
   "source": [
    "l2 = [0]\n",
    "for i in range(1,len(df)):\n",
    "  l2.append(np.dot(df.iloc[0],df.iloc[i])/(np.linalg.norm(df.iloc[0])*np.linalg.norm(df.iloc[0])))"
   ],
   "metadata": {
    "collapsed": false,
    "pycharm": {
     "name": "#%%\n"
    }
   }
  },
  {
   "cell_type": "code",
   "execution_count": 101,
   "outputs": [
    {
     "data": {
      "text/plain": "640"
     },
     "execution_count": 101,
     "metadata": {},
     "output_type": "execute_result"
    }
   ],
   "source": [
    "len(l)"
   ],
   "metadata": {
    "collapsed": false,
    "pycharm": {
     "name": "#%%\n"
    }
   }
  },
  {
   "cell_type": "code",
   "execution_count": 107,
   "outputs": [],
   "source": [
    "new_data_s['cos'] = l2"
   ],
   "metadata": {
    "collapsed": false,
    "pycharm": {
     "name": "#%%\n"
    }
   }
  },
  {
   "cell_type": "code",
   "execution_count": 102,
   "outputs": [],
   "source": [
    "new_data_s['dist'] = l"
   ],
   "metadata": {
    "collapsed": false,
    "pycharm": {
     "name": "#%%\n"
    }
   }
  },
  {
   "cell_type": "code",
   "execution_count": 108,
   "outputs": [
    {
     "data": {
      "text/plain": "0      Ian volunteered to eat Dennis's menudo after a...\n419    Samantha won the dance competition over Jennif...\n418    Samantha won the dance competition over Jennif...\n120    Since Benjamin ate unhealthy desserts far more...\n121    Since Benjamin ate unhealthy desserts far more...\n                             ...                        \n366    The police could escort the prisoner to the ga...\n367    The police could escort the prisoner to the ga...\n170    Jason denied Ian's passport application becaus...\n171    Jason denied Ian's passport application becaus...\n603    They need to update their kitchen cabinets aft...\nName: sentence, Length: 640, dtype: object"
     },
     "execution_count": 108,
     "metadata": {},
     "output_type": "execute_result"
    }
   ],
   "source": [
    "new_data_s.sort_values('cos')['sentence']"
   ],
   "metadata": {
    "collapsed": false,
    "pycharm": {
     "name": "#%%\n"
    }
   }
  },
  {
   "cell_type": "code",
   "execution_count": 154,
   "outputs": [],
   "source": [
    "def sentence_lemmatizer(sentence):\n",
    "  WNL = WordNetLemmatizer()\n",
    "  lemmatized=[]\n",
    "  for word in word_tokenize(sentence):\n",
    "    if word.isalpha():\n",
    "      lemms = [WNL.lemmatize(word,pos=f'{param}') for param in ['v','n','a','r','s']]\n",
    "      ind = np.argmin([len(lemm) for lemm in lemms])\n",
    "      lemmatized.append(lemms[ind])\n",
    "  return ' '.join(lemmatized)"
   ],
   "metadata": {
    "collapsed": false,
    "pycharm": {
     "name": "#%%\n"
    }
   }
  },
  {
   "cell_type": "code",
   "execution_count": 155,
   "outputs": [
    {
     "data": {
      "text/plain": "'I'"
     },
     "execution_count": 155,
     "metadata": {},
     "output_type": "execute_result"
    }
   ],
   "source": [
    "word_tokenize('I was there, like three days ago.')[0]"
   ],
   "metadata": {
    "collapsed": false,
    "pycharm": {
     "name": "#%%\n"
    }
   }
  },
  {
   "cell_type": "code",
   "execution_count": 159,
   "outputs": [
    {
     "data": {
      "text/plain": "'I be there like three day ago'"
     },
     "execution_count": 159,
     "metadata": {},
     "output_type": "execute_result"
    }
   ],
   "source": [
    "sentence_lemmatizer('I was there, like three days ago.')"
   ],
   "metadata": {
    "collapsed": false,
    "pycharm": {
     "name": "#%%\n"
    }
   }
  },
  {
   "cell_type": "code",
   "execution_count": 160,
   "outputs": [],
   "source": [
    "data_s['lemmatized_sentence'] = data_s['sentence'].apply(sentence_lemmatizer)"
   ],
   "metadata": {
    "collapsed": false,
    "pycharm": {
     "name": "#%%\n"
    }
   }
  },
  {
   "cell_type": "code",
   "execution_count": 161,
   "outputs": [
    {
     "data": {
      "text/plain": "                                  qID  \\\n0    3QHITW7OYO7Q6B6ISU2UMJB84ZLAQE-2   \n1    3QHITW7OYO7Q6B6ISU2UMJB84ZLAQE-1   \n2    3XWUWJ18TLO2DDRXF83QWLKRJ29UU4-1   \n3    3XWUWJ18TLO2DDRXF83QWLKRJ29UU4-2   \n4    3D5G8J4N5CI2K40F4RZLF9OG2CKVTH-2   \n..                                ...   \n635  3EGKVCRQFY6JSC139GVKMEMPGCSBY6-1   \n636  3566S7OX5FXZ0UNAKACV3PPIOHJ17V-2   \n637  3566S7OX5FXZ0UNAKACV3PPIOHJ17V-1   \n638  3HEM8MA6H9AXTFCKHDKRCE03806PQT-1   \n639  3HEM8MA6H9AXTFCKHDKRCE03806PQT-2   \n\n                                              sentence option1    option2  \\\n0    Ian volunteered to eat Dennis's menudo after a...     Ian     Dennis   \n1    Ian volunteered to eat Dennis's menudo after a...     Ian     Dennis   \n2    He never comes to my home, but I always go to ...    home      house   \n3    He never comes to my home, but I always go to ...    home      house   \n4    Kyle doesn't wear leg warmers to bed, while Lo...    Kyle      Logan   \n..                                                 ...     ...        ...   \n635  Carrie needed to be vigilant about her bone he...  Carrie    Natalie   \n636  The waves destroyed the garage but left the ho...  garage      house   \n637  The waves destroyed the garage but left the ho...  garage      house   \n638  The science student tried using the telescope ...  galaxy  telescope   \n639  The science student tried using the telescope ...  galaxy  telescope   \n\n    answer  cluster      dist       cos  \\\n0        2        1  0.000000  0.000000   \n1        1        0  1.093915  0.450838   \n2        1        3  2.438387  1.513567   \n3        2        3  2.438350  1.513613   \n4        2        3  2.444387  1.506243   \n..     ...      ...       ...       ...   \n635      1        4  3.314652  2.003270   \n636      2        2  1.726925  1.004433   \n637      1        2  1.722420  1.008317   \n638      1        7  6.163174  3.503820   \n639      2        7  6.163182  3.503798   \n\n                                   lemmatized_sentence  \n0    Ian volunteer to eat Dennis menudo after alrea...  \n1    Ian volunteer to eat Dennis menudo after alrea...  \n2    He never come to my home but I always go to hi...  \n3    He never come to my home but I always go to hi...  \n4    Kyle do wear leg warmer to bed while Logan alm...  \n..                                                 ...  \n635  Carrie need to be vigilant about her bone heal...  \n636  The wave destroy the garage but left the house...  \n637  The wave destroy the garage but left the house...  \n638  The science student try use the telescope to s...  \n639  The science student try use the telescope to s...  \n\n[640 rows x 9 columns]",
      "text/html": "<div>\n<style scoped>\n    .dataframe tbody tr th:only-of-type {\n        vertical-align: middle;\n    }\n\n    .dataframe tbody tr th {\n        vertical-align: top;\n    }\n\n    .dataframe thead th {\n        text-align: right;\n    }\n</style>\n<table border=\"1\" class=\"dataframe\">\n  <thead>\n    <tr style=\"text-align: right;\">\n      <th></th>\n      <th>qID</th>\n      <th>sentence</th>\n      <th>option1</th>\n      <th>option2</th>\n      <th>answer</th>\n      <th>cluster</th>\n      <th>dist</th>\n      <th>cos</th>\n      <th>lemmatized_sentence</th>\n    </tr>\n  </thead>\n  <tbody>\n    <tr>\n      <th>0</th>\n      <td>3QHITW7OYO7Q6B6ISU2UMJB84ZLAQE-2</td>\n      <td>Ian volunteered to eat Dennis's menudo after a...</td>\n      <td>Ian</td>\n      <td>Dennis</td>\n      <td>2</td>\n      <td>1</td>\n      <td>0.000000</td>\n      <td>0.000000</td>\n      <td>Ian volunteer to eat Dennis menudo after alrea...</td>\n    </tr>\n    <tr>\n      <th>1</th>\n      <td>3QHITW7OYO7Q6B6ISU2UMJB84ZLAQE-1</td>\n      <td>Ian volunteered to eat Dennis's menudo after a...</td>\n      <td>Ian</td>\n      <td>Dennis</td>\n      <td>1</td>\n      <td>0</td>\n      <td>1.093915</td>\n      <td>0.450838</td>\n      <td>Ian volunteer to eat Dennis menudo after alrea...</td>\n    </tr>\n    <tr>\n      <th>2</th>\n      <td>3XWUWJ18TLO2DDRXF83QWLKRJ29UU4-1</td>\n      <td>He never comes to my home, but I always go to ...</td>\n      <td>home</td>\n      <td>house</td>\n      <td>1</td>\n      <td>3</td>\n      <td>2.438387</td>\n      <td>1.513567</td>\n      <td>He never come to my home but I always go to hi...</td>\n    </tr>\n    <tr>\n      <th>3</th>\n      <td>3XWUWJ18TLO2DDRXF83QWLKRJ29UU4-2</td>\n      <td>He never comes to my home, but I always go to ...</td>\n      <td>home</td>\n      <td>house</td>\n      <td>2</td>\n      <td>3</td>\n      <td>2.438350</td>\n      <td>1.513613</td>\n      <td>He never come to my home but I always go to hi...</td>\n    </tr>\n    <tr>\n      <th>4</th>\n      <td>3D5G8J4N5CI2K40F4RZLF9OG2CKVTH-2</td>\n      <td>Kyle doesn't wear leg warmers to bed, while Lo...</td>\n      <td>Kyle</td>\n      <td>Logan</td>\n      <td>2</td>\n      <td>3</td>\n      <td>2.444387</td>\n      <td>1.506243</td>\n      <td>Kyle do wear leg warmer to bed while Logan alm...</td>\n    </tr>\n    <tr>\n      <th>...</th>\n      <td>...</td>\n      <td>...</td>\n      <td>...</td>\n      <td>...</td>\n      <td>...</td>\n      <td>...</td>\n      <td>...</td>\n      <td>...</td>\n      <td>...</td>\n    </tr>\n    <tr>\n      <th>635</th>\n      <td>3EGKVCRQFY6JSC139GVKMEMPGCSBY6-1</td>\n      <td>Carrie needed to be vigilant about her bone he...</td>\n      <td>Carrie</td>\n      <td>Natalie</td>\n      <td>1</td>\n      <td>4</td>\n      <td>3.314652</td>\n      <td>2.003270</td>\n      <td>Carrie need to be vigilant about her bone heal...</td>\n    </tr>\n    <tr>\n      <th>636</th>\n      <td>3566S7OX5FXZ0UNAKACV3PPIOHJ17V-2</td>\n      <td>The waves destroyed the garage but left the ho...</td>\n      <td>garage</td>\n      <td>house</td>\n      <td>2</td>\n      <td>2</td>\n      <td>1.726925</td>\n      <td>1.004433</td>\n      <td>The wave destroy the garage but left the house...</td>\n    </tr>\n    <tr>\n      <th>637</th>\n      <td>3566S7OX5FXZ0UNAKACV3PPIOHJ17V-1</td>\n      <td>The waves destroyed the garage but left the ho...</td>\n      <td>garage</td>\n      <td>house</td>\n      <td>1</td>\n      <td>2</td>\n      <td>1.722420</td>\n      <td>1.008317</td>\n      <td>The wave destroy the garage but left the house...</td>\n    </tr>\n    <tr>\n      <th>638</th>\n      <td>3HEM8MA6H9AXTFCKHDKRCE03806PQT-1</td>\n      <td>The science student tried using the telescope ...</td>\n      <td>galaxy</td>\n      <td>telescope</td>\n      <td>1</td>\n      <td>7</td>\n      <td>6.163174</td>\n      <td>3.503820</td>\n      <td>The science student try use the telescope to s...</td>\n    </tr>\n    <tr>\n      <th>639</th>\n      <td>3HEM8MA6H9AXTFCKHDKRCE03806PQT-2</td>\n      <td>The science student tried using the telescope ...</td>\n      <td>galaxy</td>\n      <td>telescope</td>\n      <td>2</td>\n      <td>7</td>\n      <td>6.163182</td>\n      <td>3.503798</td>\n      <td>The science student try use the telescope to s...</td>\n    </tr>\n  </tbody>\n</table>\n<p>640 rows × 9 columns</p>\n</div>"
     },
     "execution_count": 161,
     "metadata": {},
     "output_type": "execute_result"
    }
   ],
   "source": [
    "data_s"
   ],
   "metadata": {
    "collapsed": false,
    "pycharm": {
     "name": "#%%\n"
    }
   }
  },
  {
   "cell_type": "code",
   "execution_count": 163,
   "outputs": [
    {
     "name": "stderr",
     "output_type": "stream",
     "text": [
      "c:\\users\\marti\\work\\lattice-internship\\venv\\lib\\site-packages\\sklearn\\utils\\deprecation.py:87: FutureWarning: Function get_feature_names is deprecated; get_feature_names is deprecated in 1.0 and will be removed in 1.2. Please use get_feature_names_out instead.\n",
      "  warnings.warn(msg, category=FutureWarning)\n"
     ]
    },
    {
     "data": {
      "text/plain": "     aaron  ability  able     about  above  abuse  accident  accidentally  \\\n0      0.0      0.0   0.0  0.000000    0.0    0.0       0.0           0.0   \n1      0.0      0.0   0.0  0.000000    0.0    0.0       0.0           0.0   \n2      0.0      0.0   0.0  0.000000    0.0    0.0       0.0           0.0   \n3      0.0      0.0   0.0  0.000000    0.0    0.0       0.0           0.0   \n4      0.0      0.0   0.0  0.000000    0.0    0.0       0.0           0.0   \n..     ...      ...   ...       ...    ...    ...       ...           ...   \n635    0.0      0.0   0.0  0.432549    0.0    0.0       0.0           0.0   \n636    0.0      0.0   0.0  0.000000    0.0    0.0       0.0           0.0   \n637    0.0      0.0   0.0  0.000000    0.0    0.0       0.0           0.0   \n638    0.0      0.0   0.0  0.000000    0.0    0.0       0.0           0.0   \n639    0.0      0.0   0.0  0.000000    0.0    0.0       0.0           0.0   \n\n     accountant  achieve  ...  write  writer  yard  year  yellow  yet  yogurt  \\\n0           0.0      0.0  ...    0.0     0.0   0.0   0.0     0.0  0.0     0.0   \n1           0.0      0.0  ...    0.0     0.0   0.0   0.0     0.0  0.0     0.0   \n2           0.0      0.0  ...    0.0     0.0   0.0   0.0     0.0  0.0     0.0   \n3           0.0      0.0  ...    0.0     0.0   0.0   0.0     0.0  0.0     0.0   \n4           0.0      0.0  ...    0.0     0.0   0.0   0.0     0.0  0.0     0.0   \n..          ...      ...  ...    ...     ...   ...   ...     ...  ...     ...   \n635         0.0      0.0  ...    0.0     0.0   0.0   0.0     0.0  0.0     0.0   \n636         0.0      0.0  ...    0.0     0.0   0.0   0.0     0.0  0.0     0.0   \n637         0.0      0.0  ...    0.0     0.0   0.0   0.0     0.0  0.0     0.0   \n638         0.0      0.0  ...    0.0     0.0   0.0   0.0     0.0  0.0     0.0   \n639         0.0      0.0  ...    0.0     0.0   0.0   0.0     0.0  0.0     0.0   \n\n     you  your  youtube  \n0    0.0   0.0      0.0  \n1    0.0   0.0      0.0  \n2    0.0   0.0      0.0  \n3    0.0   0.0      0.0  \n4    0.0   0.0      0.0  \n..   ...   ...      ...  \n635  0.0   0.0      0.0  \n636  0.0   0.0      0.0  \n637  0.0   0.0      0.0  \n638  0.0   0.0      0.0  \n639  0.0   0.0      0.0  \n\n[640 rows x 1555 columns]",
      "text/html": "<div>\n<style scoped>\n    .dataframe tbody tr th:only-of-type {\n        vertical-align: middle;\n    }\n\n    .dataframe tbody tr th {\n        vertical-align: top;\n    }\n\n    .dataframe thead th {\n        text-align: right;\n    }\n</style>\n<table border=\"1\" class=\"dataframe\">\n  <thead>\n    <tr style=\"text-align: right;\">\n      <th></th>\n      <th>aaron</th>\n      <th>ability</th>\n      <th>able</th>\n      <th>about</th>\n      <th>above</th>\n      <th>abuse</th>\n      <th>accident</th>\n      <th>accidentally</th>\n      <th>accountant</th>\n      <th>achieve</th>\n      <th>...</th>\n      <th>write</th>\n      <th>writer</th>\n      <th>yard</th>\n      <th>year</th>\n      <th>yellow</th>\n      <th>yet</th>\n      <th>yogurt</th>\n      <th>you</th>\n      <th>your</th>\n      <th>youtube</th>\n    </tr>\n  </thead>\n  <tbody>\n    <tr>\n      <th>0</th>\n      <td>0.0</td>\n      <td>0.0</td>\n      <td>0.0</td>\n      <td>0.000000</td>\n      <td>0.0</td>\n      <td>0.0</td>\n      <td>0.0</td>\n      <td>0.0</td>\n      <td>0.0</td>\n      <td>0.0</td>\n      <td>...</td>\n      <td>0.0</td>\n      <td>0.0</td>\n      <td>0.0</td>\n      <td>0.0</td>\n      <td>0.0</td>\n      <td>0.0</td>\n      <td>0.0</td>\n      <td>0.0</td>\n      <td>0.0</td>\n      <td>0.0</td>\n    </tr>\n    <tr>\n      <th>1</th>\n      <td>0.0</td>\n      <td>0.0</td>\n      <td>0.0</td>\n      <td>0.000000</td>\n      <td>0.0</td>\n      <td>0.0</td>\n      <td>0.0</td>\n      <td>0.0</td>\n      <td>0.0</td>\n      <td>0.0</td>\n      <td>...</td>\n      <td>0.0</td>\n      <td>0.0</td>\n      <td>0.0</td>\n      <td>0.0</td>\n      <td>0.0</td>\n      <td>0.0</td>\n      <td>0.0</td>\n      <td>0.0</td>\n      <td>0.0</td>\n      <td>0.0</td>\n    </tr>\n    <tr>\n      <th>2</th>\n      <td>0.0</td>\n      <td>0.0</td>\n      <td>0.0</td>\n      <td>0.000000</td>\n      <td>0.0</td>\n      <td>0.0</td>\n      <td>0.0</td>\n      <td>0.0</td>\n      <td>0.0</td>\n      <td>0.0</td>\n      <td>...</td>\n      <td>0.0</td>\n      <td>0.0</td>\n      <td>0.0</td>\n      <td>0.0</td>\n      <td>0.0</td>\n      <td>0.0</td>\n      <td>0.0</td>\n      <td>0.0</td>\n      <td>0.0</td>\n      <td>0.0</td>\n    </tr>\n    <tr>\n      <th>3</th>\n      <td>0.0</td>\n      <td>0.0</td>\n      <td>0.0</td>\n      <td>0.000000</td>\n      <td>0.0</td>\n      <td>0.0</td>\n      <td>0.0</td>\n      <td>0.0</td>\n      <td>0.0</td>\n      <td>0.0</td>\n      <td>...</td>\n      <td>0.0</td>\n      <td>0.0</td>\n      <td>0.0</td>\n      <td>0.0</td>\n      <td>0.0</td>\n      <td>0.0</td>\n      <td>0.0</td>\n      <td>0.0</td>\n      <td>0.0</td>\n      <td>0.0</td>\n    </tr>\n    <tr>\n      <th>4</th>\n      <td>0.0</td>\n      <td>0.0</td>\n      <td>0.0</td>\n      <td>0.000000</td>\n      <td>0.0</td>\n      <td>0.0</td>\n      <td>0.0</td>\n      <td>0.0</td>\n      <td>0.0</td>\n      <td>0.0</td>\n      <td>...</td>\n      <td>0.0</td>\n      <td>0.0</td>\n      <td>0.0</td>\n      <td>0.0</td>\n      <td>0.0</td>\n      <td>0.0</td>\n      <td>0.0</td>\n      <td>0.0</td>\n      <td>0.0</td>\n      <td>0.0</td>\n    </tr>\n    <tr>\n      <th>...</th>\n      <td>...</td>\n      <td>...</td>\n      <td>...</td>\n      <td>...</td>\n      <td>...</td>\n      <td>...</td>\n      <td>...</td>\n      <td>...</td>\n      <td>...</td>\n      <td>...</td>\n      <td>...</td>\n      <td>...</td>\n      <td>...</td>\n      <td>...</td>\n      <td>...</td>\n      <td>...</td>\n      <td>...</td>\n      <td>...</td>\n      <td>...</td>\n      <td>...</td>\n      <td>...</td>\n    </tr>\n    <tr>\n      <th>635</th>\n      <td>0.0</td>\n      <td>0.0</td>\n      <td>0.0</td>\n      <td>0.432549</td>\n      <td>0.0</td>\n      <td>0.0</td>\n      <td>0.0</td>\n      <td>0.0</td>\n      <td>0.0</td>\n      <td>0.0</td>\n      <td>...</td>\n      <td>0.0</td>\n      <td>0.0</td>\n      <td>0.0</td>\n      <td>0.0</td>\n      <td>0.0</td>\n      <td>0.0</td>\n      <td>0.0</td>\n      <td>0.0</td>\n      <td>0.0</td>\n      <td>0.0</td>\n    </tr>\n    <tr>\n      <th>636</th>\n      <td>0.0</td>\n      <td>0.0</td>\n      <td>0.0</td>\n      <td>0.000000</td>\n      <td>0.0</td>\n      <td>0.0</td>\n      <td>0.0</td>\n      <td>0.0</td>\n      <td>0.0</td>\n      <td>0.0</td>\n      <td>...</td>\n      <td>0.0</td>\n      <td>0.0</td>\n      <td>0.0</td>\n      <td>0.0</td>\n      <td>0.0</td>\n      <td>0.0</td>\n      <td>0.0</td>\n      <td>0.0</td>\n      <td>0.0</td>\n      <td>0.0</td>\n    </tr>\n    <tr>\n      <th>637</th>\n      <td>0.0</td>\n      <td>0.0</td>\n      <td>0.0</td>\n      <td>0.000000</td>\n      <td>0.0</td>\n      <td>0.0</td>\n      <td>0.0</td>\n      <td>0.0</td>\n      <td>0.0</td>\n      <td>0.0</td>\n      <td>...</td>\n      <td>0.0</td>\n      <td>0.0</td>\n      <td>0.0</td>\n      <td>0.0</td>\n      <td>0.0</td>\n      <td>0.0</td>\n      <td>0.0</td>\n      <td>0.0</td>\n      <td>0.0</td>\n      <td>0.0</td>\n    </tr>\n    <tr>\n      <th>638</th>\n      <td>0.0</td>\n      <td>0.0</td>\n      <td>0.0</td>\n      <td>0.000000</td>\n      <td>0.0</td>\n      <td>0.0</td>\n      <td>0.0</td>\n      <td>0.0</td>\n      <td>0.0</td>\n      <td>0.0</td>\n      <td>...</td>\n      <td>0.0</td>\n      <td>0.0</td>\n      <td>0.0</td>\n      <td>0.0</td>\n      <td>0.0</td>\n      <td>0.0</td>\n      <td>0.0</td>\n      <td>0.0</td>\n      <td>0.0</td>\n      <td>0.0</td>\n    </tr>\n    <tr>\n      <th>639</th>\n      <td>0.0</td>\n      <td>0.0</td>\n      <td>0.0</td>\n      <td>0.000000</td>\n      <td>0.0</td>\n      <td>0.0</td>\n      <td>0.0</td>\n      <td>0.0</td>\n      <td>0.0</td>\n      <td>0.0</td>\n      <td>...</td>\n      <td>0.0</td>\n      <td>0.0</td>\n      <td>0.0</td>\n      <td>0.0</td>\n      <td>0.0</td>\n      <td>0.0</td>\n      <td>0.0</td>\n      <td>0.0</td>\n      <td>0.0</td>\n      <td>0.0</td>\n    </tr>\n  </tbody>\n</table>\n<p>640 rows × 1555 columns</p>\n</div>"
     },
     "execution_count": 163,
     "metadata": {},
     "output_type": "execute_result"
    }
   ],
   "source": [
    "vectorizer = TfidfVectorizer()\n",
    "vectors = vectorizer.fit_transform(data_s['lemmatized_sentence'])\n",
    "feature_names = vectorizer.get_feature_names()\n",
    "dense = vectors.todense()\n",
    "denselist = dense.tolist()\n",
    "df2 = pd.DataFrame(denselist,columns=feature_names)\n",
    "df2"
   ],
   "metadata": {
    "collapsed": false,
    "pycharm": {
     "name": "#%%\n"
    }
   }
  },
  {
   "cell_type": "code",
   "execution_count": 164,
   "outputs": [
    {
     "data": {
      "text/plain": "array([4, 0, 2, 2, 2, 2, 2, 2, 1, 1, 5, 5, 2, 2, 2, 2, 5, 5, 1, 1, 2, 2,\n       4, 4, 2, 2, 1, 1, 3, 3, 6, 6, 2, 2, 3, 3, 2, 2, 0, 0, 1, 1, 2, 2,\n       3, 3, 1, 1, 5, 5, 2, 2, 6, 6, 4, 4, 7, 7, 6, 6, 2, 2, 1, 1, 6, 6,\n       0, 0, 2, 2, 5, 5, 7, 7, 2, 2, 0, 0, 0, 0, 2, 2, 2, 2, 4, 4, 4, 4,\n       5, 5, 2, 2, 1, 1, 0, 0, 4, 4, 3, 3, 4, 4, 4, 4, 5, 5, 2, 2, 1, 1,\n       5, 5, 2, 2, 0, 0, 0, 0, 1, 1, 0, 0, 4, 4, 2, 2, 3, 3, 0, 0, 1, 1,\n       5, 5, 1, 1, 1, 1, 6, 6, 2, 2, 2, 2, 7, 4, 2, 2, 6, 6, 0, 0, 2, 2,\n       6, 2, 2, 2, 5, 5, 3, 3, 4, 4, 0, 0, 2, 2, 1, 1, 6, 6, 1, 1, 3, 3,\n       2, 2, 5, 0, 5, 5, 4, 4, 6, 6, 5, 5, 3, 3, 1, 1, 1, 1, 6, 6, 2, 2,\n       2, 2, 2, 2, 2, 2, 0, 0, 1, 1, 2, 2, 5, 5, 3, 3, 6, 6, 0, 0, 5, 5,\n       4, 4, 5, 5, 0, 5, 1, 1, 2, 2, 2, 2, 6, 6, 0, 0, 6, 6, 1, 1, 2, 2,\n       0, 0, 1, 1, 7, 7, 3, 3, 7, 7, 1, 1, 4, 3, 5, 5, 2, 2, 5, 5, 3, 3,\n       1, 1, 6, 6, 0, 0, 1, 1, 6, 6, 3, 3, 5, 5, 3, 3, 5, 5, 7, 7, 1, 1,\n       5, 5, 0, 0, 3, 3, 7, 7, 4, 4, 1, 1, 1, 1, 1, 1, 2, 2, 4, 4, 6, 6,\n       5, 5, 7, 7, 4, 4, 2, 2, 5, 5, 3, 3, 0, 0, 1, 1, 2, 2, 2, 2, 1, 1,\n       0, 0, 5, 5, 6, 6, 6, 6, 7, 7, 5, 5, 7, 6, 2, 2, 2, 2, 2, 2, 0, 0,\n       2, 2, 5, 5, 6, 6, 2, 2, 1, 1, 7, 7, 5, 5, 6, 6, 7, 7, 2, 2, 1, 1,\n       2, 2, 3, 3, 0, 4, 3, 3, 7, 7, 5, 5, 4, 4, 3, 3, 4, 4, 1, 1, 1, 1,\n       1, 1, 4, 4, 2, 2, 1, 1, 1, 1, 0, 0, 7, 2, 0, 0, 5, 5, 5, 1, 2, 2,\n       0, 0, 1, 1, 4, 4, 2, 2, 4, 4, 2, 2, 6, 6, 7, 7, 5, 5, 2, 2, 4, 4,\n       1, 1, 4, 4, 1, 1, 4, 4, 2, 2, 1, 1, 7, 7, 5, 5, 1, 1, 2, 2, 0, 0,\n       5, 5, 2, 2, 1, 1, 0, 0, 1, 1, 2, 2, 1, 1, 2, 2, 1, 1, 0, 0, 1, 2,\n       4, 4, 7, 7, 2, 2, 6, 6, 4, 4, 6, 6, 6, 6, 7, 7, 2, 2, 2, 2, 5, 0,\n       6, 6, 6, 6, 3, 3, 2, 2, 5, 5, 0, 0, 2, 2, 4, 4, 5, 5, 1, 1, 2, 2,\n       6, 6, 0, 0, 4, 4, 3, 3, 0, 0, 4, 4, 3, 3, 5, 5, 1, 1, 2, 2, 0, 0,\n       3, 3, 1, 1, 2, 2, 1, 1, 7, 7, 2, 2, 7, 7, 3, 3, 5, 5, 7, 7, 1, 1,\n       6, 6, 5, 5, 2, 2, 4, 4, 7, 7, 4, 4, 2, 2, 5, 5, 0, 0, 5, 5, 5, 5,\n       5, 5, 4, 4, 7, 7, 6, 6, 0, 6, 1, 1, 1, 1, 1, 1, 7, 7, 2, 2, 2, 2,\n       2, 2, 4, 4, 4, 4, 4, 4, 4, 4, 1, 1, 7, 7, 3, 3, 4, 4, 7, 7, 5, 5,\n       6, 6])"
     },
     "execution_count": 164,
     "metadata": {},
     "output_type": "execute_result"
    }
   ],
   "source": [
    "clustering = KMeans()\n",
    "clusters = clustering.fit_predict(df)\n",
    "clusters"
   ],
   "metadata": {
    "collapsed": false,
    "pycharm": {
     "name": "#%%\n"
    }
   }
  },
  {
   "cell_type": "code",
   "execution_count": 166,
   "outputs": [],
   "source": [
    "data_s['cluster2']= clusters"
   ],
   "metadata": {
    "collapsed": false,
    "pycharm": {
     "name": "#%%\n"
    }
   }
  },
  {
   "cell_type": "code",
   "execution_count": 168,
   "outputs": [
    {
     "data": {
      "text/plain": "                                  qID  \\\n1    3QHITW7OYO7Q6B6ISU2UMJB84ZLAQE-1   \n38   38G0E1M85OJHKHF44WPVK5AIL6SUV4-1   \n39   38G0E1M85OJHKHF44WPVK5AIL6SUV4-2   \n66   39WSF6KUV2JQBCAETMCCTX6ZAD1OEF-2   \n67   39WSF6KUV2JQBCAETMCCTX6ZAD1OEF-1   \n..                                ...   \n548  39TX062QX1MAVN895TICTJTVVXM3XO-2   \n549  39TX062QX1MAVN895TICTJTVVXM3XO-1   \n588  3OEWW2KGQJ9LJ6WEXR1SNFOEAZPDOW-1   \n589  3OEWW2KGQJ9LJ6WEXR1SNFOEAZPDOW-2   \n602  3FDWKV9VCPGYUULVQ4O4X9R6VHMUM4-2   \n\n                                              sentence   option1      option2  \\\n1    Ian volunteered to eat Dennis's menudo after a...       Ian       Dennis   \n38   Donald was richer than Leslie was because comp...    Donald       Leslie   \n39   Donald was poorer than Leslie was because comp...    Donald       Leslie   \n66   Once in Poland, Dennis enjoyed the trip more t...    Dennis        Jason   \n67   Once in Poland, Dennis enjoyed the trip more t...    Dennis        Jason   \n..                                                 ...       ...          ...   \n548  Dennis had a much higher testosterone level th...    Dennis  Christopher   \n549  Dennis had a much higher testosterone level th...    Dennis  Christopher   \n588  Jason was bald, but Hunter had a full head of ...     Jason       Hunter   \n589  Jason was bald, but Hunter had a full head of ...     Jason       Hunter   \n602  They need to update their kitchen cabinets aft...  cabinets       dishes   \n\n    answer  cluster      dist       cos  \\\n1        1        0  1.093915  0.450838   \n38       1        0  1.726564  0.004744   \n39       2        0  1.726564  0.004744   \n66       2        0  1.698734  0.028576   \n67       1        0  1.698734  0.028576   \n..     ...      ...       ...       ...   \n548      2        0  1.696011  0.030887   \n549      1        0  1.698054  0.029153   \n588      1        0  1.728109  0.003410   \n589      2        0  1.727867  0.003619   \n602      2        0  1.692573  0.033799   \n\n                                   lemmatized_sentence  cluster2  \n1    Ian volunteer to eat Dennis menudo after alrea...         0  \n38   Donald be rich than Leslie be because company ...         0  \n39   Donald be poor than Leslie be because company ...         0  \n66   Once in Poland Dennis enjoy the trip more than...         0  \n67   Once in Poland Dennis enjoy the trip more than...         0  \n..                                                 ...       ...  \n548  Dennis had a much high testosterone level than...         0  \n549  Dennis had a much high testosterone level than...         0  \n588  Jason be bald but Hunter had a full head of ha...         0  \n589  Jason be bald but Hunter had a full head of ha...         0  \n602  They need to update their kitchen cabinet afte...         0  \n\n[68 rows x 10 columns]",
      "text/html": "<div>\n<style scoped>\n    .dataframe tbody tr th:only-of-type {\n        vertical-align: middle;\n    }\n\n    .dataframe tbody tr th {\n        vertical-align: top;\n    }\n\n    .dataframe thead th {\n        text-align: right;\n    }\n</style>\n<table border=\"1\" class=\"dataframe\">\n  <thead>\n    <tr style=\"text-align: right;\">\n      <th></th>\n      <th>qID</th>\n      <th>sentence</th>\n      <th>option1</th>\n      <th>option2</th>\n      <th>answer</th>\n      <th>cluster</th>\n      <th>dist</th>\n      <th>cos</th>\n      <th>lemmatized_sentence</th>\n      <th>cluster2</th>\n    </tr>\n  </thead>\n  <tbody>\n    <tr>\n      <th>1</th>\n      <td>3QHITW7OYO7Q6B6ISU2UMJB84ZLAQE-1</td>\n      <td>Ian volunteered to eat Dennis's menudo after a...</td>\n      <td>Ian</td>\n      <td>Dennis</td>\n      <td>1</td>\n      <td>0</td>\n      <td>1.093915</td>\n      <td>0.450838</td>\n      <td>Ian volunteer to eat Dennis menudo after alrea...</td>\n      <td>0</td>\n    </tr>\n    <tr>\n      <th>38</th>\n      <td>38G0E1M85OJHKHF44WPVK5AIL6SUV4-1</td>\n      <td>Donald was richer than Leslie was because comp...</td>\n      <td>Donald</td>\n      <td>Leslie</td>\n      <td>1</td>\n      <td>0</td>\n      <td>1.726564</td>\n      <td>0.004744</td>\n      <td>Donald be rich than Leslie be because company ...</td>\n      <td>0</td>\n    </tr>\n    <tr>\n      <th>39</th>\n      <td>38G0E1M85OJHKHF44WPVK5AIL6SUV4-2</td>\n      <td>Donald was poorer than Leslie was because comp...</td>\n      <td>Donald</td>\n      <td>Leslie</td>\n      <td>2</td>\n      <td>0</td>\n      <td>1.726564</td>\n      <td>0.004744</td>\n      <td>Donald be poor than Leslie be because company ...</td>\n      <td>0</td>\n    </tr>\n    <tr>\n      <th>66</th>\n      <td>39WSF6KUV2JQBCAETMCCTX6ZAD1OEF-2</td>\n      <td>Once in Poland, Dennis enjoyed the trip more t...</td>\n      <td>Dennis</td>\n      <td>Jason</td>\n      <td>2</td>\n      <td>0</td>\n      <td>1.698734</td>\n      <td>0.028576</td>\n      <td>Once in Poland Dennis enjoy the trip more than...</td>\n      <td>0</td>\n    </tr>\n    <tr>\n      <th>67</th>\n      <td>39WSF6KUV2JQBCAETMCCTX6ZAD1OEF-1</td>\n      <td>Once in Poland, Dennis enjoyed the trip more t...</td>\n      <td>Dennis</td>\n      <td>Jason</td>\n      <td>1</td>\n      <td>0</td>\n      <td>1.698734</td>\n      <td>0.028576</td>\n      <td>Once in Poland Dennis enjoy the trip more than...</td>\n      <td>0</td>\n    </tr>\n    <tr>\n      <th>...</th>\n      <td>...</td>\n      <td>...</td>\n      <td>...</td>\n      <td>...</td>\n      <td>...</td>\n      <td>...</td>\n      <td>...</td>\n      <td>...</td>\n      <td>...</td>\n      <td>...</td>\n    </tr>\n    <tr>\n      <th>548</th>\n      <td>39TX062QX1MAVN895TICTJTVVXM3XO-2</td>\n      <td>Dennis had a much higher testosterone level th...</td>\n      <td>Dennis</td>\n      <td>Christopher</td>\n      <td>2</td>\n      <td>0</td>\n      <td>1.696011</td>\n      <td>0.030887</td>\n      <td>Dennis had a much high testosterone level than...</td>\n      <td>0</td>\n    </tr>\n    <tr>\n      <th>549</th>\n      <td>39TX062QX1MAVN895TICTJTVVXM3XO-1</td>\n      <td>Dennis had a much higher testosterone level th...</td>\n      <td>Dennis</td>\n      <td>Christopher</td>\n      <td>1</td>\n      <td>0</td>\n      <td>1.698054</td>\n      <td>0.029153</td>\n      <td>Dennis had a much high testosterone level than...</td>\n      <td>0</td>\n    </tr>\n    <tr>\n      <th>588</th>\n      <td>3OEWW2KGQJ9LJ6WEXR1SNFOEAZPDOW-1</td>\n      <td>Jason was bald, but Hunter had a full head of ...</td>\n      <td>Jason</td>\n      <td>Hunter</td>\n      <td>1</td>\n      <td>0</td>\n      <td>1.728109</td>\n      <td>0.003410</td>\n      <td>Jason be bald but Hunter had a full head of ha...</td>\n      <td>0</td>\n    </tr>\n    <tr>\n      <th>589</th>\n      <td>3OEWW2KGQJ9LJ6WEXR1SNFOEAZPDOW-2</td>\n      <td>Jason was bald, but Hunter had a full head of ...</td>\n      <td>Jason</td>\n      <td>Hunter</td>\n      <td>2</td>\n      <td>0</td>\n      <td>1.727867</td>\n      <td>0.003619</td>\n      <td>Jason be bald but Hunter had a full head of ha...</td>\n      <td>0</td>\n    </tr>\n    <tr>\n      <th>602</th>\n      <td>3FDWKV9VCPGYUULVQ4O4X9R6VHMUM4-2</td>\n      <td>They need to update their kitchen cabinets aft...</td>\n      <td>cabinets</td>\n      <td>dishes</td>\n      <td>2</td>\n      <td>0</td>\n      <td>1.692573</td>\n      <td>0.033799</td>\n      <td>They need to update their kitchen cabinet afte...</td>\n      <td>0</td>\n    </tr>\n  </tbody>\n</table>\n<p>68 rows × 10 columns</p>\n</div>"
     },
     "execution_count": 168,
     "metadata": {},
     "output_type": "execute_result"
    }
   ],
   "source": [
    "data_s[data_s['cluster']==0]"
   ],
   "metadata": {
    "collapsed": false,
    "pycharm": {
     "name": "#%%\n"
    }
   }
  },
  {
   "cell_type": "code",
   "execution_count": 167,
   "outputs": [
    {
     "data": {
      "text/plain": "                                  qID  \\\n1    3QHITW7OYO7Q6B6ISU2UMJB84ZLAQE-1   \n38   38G0E1M85OJHKHF44WPVK5AIL6SUV4-1   \n39   38G0E1M85OJHKHF44WPVK5AIL6SUV4-2   \n66   39WSF6KUV2JQBCAETMCCTX6ZAD1OEF-2   \n67   39WSF6KUV2JQBCAETMCCTX6ZAD1OEF-1   \n..                                ...   \n548  39TX062QX1MAVN895TICTJTVVXM3XO-2   \n549  39TX062QX1MAVN895TICTJTVVXM3XO-1   \n588  3OEWW2KGQJ9LJ6WEXR1SNFOEAZPDOW-1   \n589  3OEWW2KGQJ9LJ6WEXR1SNFOEAZPDOW-2   \n602  3FDWKV9VCPGYUULVQ4O4X9R6VHMUM4-2   \n\n                                              sentence   option1      option2  \\\n1    Ian volunteered to eat Dennis's menudo after a...       Ian       Dennis   \n38   Donald was richer than Leslie was because comp...    Donald       Leslie   \n39   Donald was poorer than Leslie was because comp...    Donald       Leslie   \n66   Once in Poland, Dennis enjoyed the trip more t...    Dennis        Jason   \n67   Once in Poland, Dennis enjoyed the trip more t...    Dennis        Jason   \n..                                                 ...       ...          ...   \n548  Dennis had a much higher testosterone level th...    Dennis  Christopher   \n549  Dennis had a much higher testosterone level th...    Dennis  Christopher   \n588  Jason was bald, but Hunter had a full head of ...     Jason       Hunter   \n589  Jason was bald, but Hunter had a full head of ...     Jason       Hunter   \n602  They need to update their kitchen cabinets aft...  cabinets       dishes   \n\n    answer  cluster      dist       cos  \\\n1        1        0  1.093915  0.450838   \n38       1        0  1.726564  0.004744   \n39       2        0  1.726564  0.004744   \n66       2        0  1.698734  0.028576   \n67       1        0  1.698734  0.028576   \n..     ...      ...       ...       ...   \n548      2        0  1.696011  0.030887   \n549      1        0  1.698054  0.029153   \n588      1        0  1.728109  0.003410   \n589      2        0  1.727867  0.003619   \n602      2        0  1.692573  0.033799   \n\n                                   lemmatized_sentence  cluster2  \n1    Ian volunteer to eat Dennis menudo after alrea...         0  \n38   Donald be rich than Leslie be because company ...         0  \n39   Donald be poor than Leslie be because company ...         0  \n66   Once in Poland Dennis enjoy the trip more than...         0  \n67   Once in Poland Dennis enjoy the trip more than...         0  \n..                                                 ...       ...  \n548  Dennis had a much high testosterone level than...         0  \n549  Dennis had a much high testosterone level than...         0  \n588  Jason be bald but Hunter had a full head of ha...         0  \n589  Jason be bald but Hunter had a full head of ha...         0  \n602  They need to update their kitchen cabinet afte...         0  \n\n[68 rows x 10 columns]",
      "text/html": "<div>\n<style scoped>\n    .dataframe tbody tr th:only-of-type {\n        vertical-align: middle;\n    }\n\n    .dataframe tbody tr th {\n        vertical-align: top;\n    }\n\n    .dataframe thead th {\n        text-align: right;\n    }\n</style>\n<table border=\"1\" class=\"dataframe\">\n  <thead>\n    <tr style=\"text-align: right;\">\n      <th></th>\n      <th>qID</th>\n      <th>sentence</th>\n      <th>option1</th>\n      <th>option2</th>\n      <th>answer</th>\n      <th>cluster</th>\n      <th>dist</th>\n      <th>cos</th>\n      <th>lemmatized_sentence</th>\n      <th>cluster2</th>\n    </tr>\n  </thead>\n  <tbody>\n    <tr>\n      <th>1</th>\n      <td>3QHITW7OYO7Q6B6ISU2UMJB84ZLAQE-1</td>\n      <td>Ian volunteered to eat Dennis's menudo after a...</td>\n      <td>Ian</td>\n      <td>Dennis</td>\n      <td>1</td>\n      <td>0</td>\n      <td>1.093915</td>\n      <td>0.450838</td>\n      <td>Ian volunteer to eat Dennis menudo after alrea...</td>\n      <td>0</td>\n    </tr>\n    <tr>\n      <th>38</th>\n      <td>38G0E1M85OJHKHF44WPVK5AIL6SUV4-1</td>\n      <td>Donald was richer than Leslie was because comp...</td>\n      <td>Donald</td>\n      <td>Leslie</td>\n      <td>1</td>\n      <td>0</td>\n      <td>1.726564</td>\n      <td>0.004744</td>\n      <td>Donald be rich than Leslie be because company ...</td>\n      <td>0</td>\n    </tr>\n    <tr>\n      <th>39</th>\n      <td>38G0E1M85OJHKHF44WPVK5AIL6SUV4-2</td>\n      <td>Donald was poorer than Leslie was because comp...</td>\n      <td>Donald</td>\n      <td>Leslie</td>\n      <td>2</td>\n      <td>0</td>\n      <td>1.726564</td>\n      <td>0.004744</td>\n      <td>Donald be poor than Leslie be because company ...</td>\n      <td>0</td>\n    </tr>\n    <tr>\n      <th>66</th>\n      <td>39WSF6KUV2JQBCAETMCCTX6ZAD1OEF-2</td>\n      <td>Once in Poland, Dennis enjoyed the trip more t...</td>\n      <td>Dennis</td>\n      <td>Jason</td>\n      <td>2</td>\n      <td>0</td>\n      <td>1.698734</td>\n      <td>0.028576</td>\n      <td>Once in Poland Dennis enjoy the trip more than...</td>\n      <td>0</td>\n    </tr>\n    <tr>\n      <th>67</th>\n      <td>39WSF6KUV2JQBCAETMCCTX6ZAD1OEF-1</td>\n      <td>Once in Poland, Dennis enjoyed the trip more t...</td>\n      <td>Dennis</td>\n      <td>Jason</td>\n      <td>1</td>\n      <td>0</td>\n      <td>1.698734</td>\n      <td>0.028576</td>\n      <td>Once in Poland Dennis enjoy the trip more than...</td>\n      <td>0</td>\n    </tr>\n    <tr>\n      <th>...</th>\n      <td>...</td>\n      <td>...</td>\n      <td>...</td>\n      <td>...</td>\n      <td>...</td>\n      <td>...</td>\n      <td>...</td>\n      <td>...</td>\n      <td>...</td>\n      <td>...</td>\n    </tr>\n    <tr>\n      <th>548</th>\n      <td>39TX062QX1MAVN895TICTJTVVXM3XO-2</td>\n      <td>Dennis had a much higher testosterone level th...</td>\n      <td>Dennis</td>\n      <td>Christopher</td>\n      <td>2</td>\n      <td>0</td>\n      <td>1.696011</td>\n      <td>0.030887</td>\n      <td>Dennis had a much high testosterone level than...</td>\n      <td>0</td>\n    </tr>\n    <tr>\n      <th>549</th>\n      <td>39TX062QX1MAVN895TICTJTVVXM3XO-1</td>\n      <td>Dennis had a much higher testosterone level th...</td>\n      <td>Dennis</td>\n      <td>Christopher</td>\n      <td>1</td>\n      <td>0</td>\n      <td>1.698054</td>\n      <td>0.029153</td>\n      <td>Dennis had a much high testosterone level than...</td>\n      <td>0</td>\n    </tr>\n    <tr>\n      <th>588</th>\n      <td>3OEWW2KGQJ9LJ6WEXR1SNFOEAZPDOW-1</td>\n      <td>Jason was bald, but Hunter had a full head of ...</td>\n      <td>Jason</td>\n      <td>Hunter</td>\n      <td>1</td>\n      <td>0</td>\n      <td>1.728109</td>\n      <td>0.003410</td>\n      <td>Jason be bald but Hunter had a full head of ha...</td>\n      <td>0</td>\n    </tr>\n    <tr>\n      <th>589</th>\n      <td>3OEWW2KGQJ9LJ6WEXR1SNFOEAZPDOW-2</td>\n      <td>Jason was bald, but Hunter had a full head of ...</td>\n      <td>Jason</td>\n      <td>Hunter</td>\n      <td>2</td>\n      <td>0</td>\n      <td>1.727867</td>\n      <td>0.003619</td>\n      <td>Jason be bald but Hunter had a full head of ha...</td>\n      <td>0</td>\n    </tr>\n    <tr>\n      <th>602</th>\n      <td>3FDWKV9VCPGYUULVQ4O4X9R6VHMUM4-2</td>\n      <td>They need to update their kitchen cabinets aft...</td>\n      <td>cabinets</td>\n      <td>dishes</td>\n      <td>2</td>\n      <td>0</td>\n      <td>1.692573</td>\n      <td>0.033799</td>\n      <td>They need to update their kitchen cabinet afte...</td>\n      <td>0</td>\n    </tr>\n  </tbody>\n</table>\n<p>68 rows × 10 columns</p>\n</div>"
     },
     "execution_count": 167,
     "metadata": {},
     "output_type": "execute_result"
    }
   ],
   "source": [
    "data_s[data_s['cluster2']==0]"
   ],
   "metadata": {
    "collapsed": false,
    "pycharm": {
     "name": "#%%\n"
    }
   }
  },
  {
   "cell_type": "code",
   "execution_count": 170,
   "outputs": [],
   "source": [
    "distortions = []\n",
    "inertias = []\n",
    "from scipy.spatial.distance import cdist\n",
    "K = range(1, 10)\n",
    "\n",
    "for k in K:\n",
    "    # Building and fitting the model\n",
    "    kmeanModel = KMeans(n_clusters=k).fit(df2)\n",
    "    kmeanModel.fit(df2)\n",
    "\n",
    "    distortions.append(sum(np.min(cdist(df2, kmeanModel.cluster_centers_,'euclidean'), axis=1)) / df2.shape[0])\n",
    "    inertias.append(kmeanModel.inertia_)"
   ],
   "metadata": {
    "collapsed": false,
    "pycharm": {
     "name": "#%%\n"
    }
   }
  },
  {
   "cell_type": "code",
   "execution_count": 171,
   "outputs": [
    {
     "data": {
      "text/plain": "<Figure size 432x288 with 1 Axes>",
      "image/png": "[encoded data removed]"
     },
     "metadata": {
      "needs_background": "light"
     },
     "output_type": "display_data"
    }
   ],
   "source": [
    "plt.plot(K, distortions, 'bx-')\n",
    "plt.xlabel('Values of K')\n",
    "plt.ylabel('Distortion')\n",
    "plt.title('The Elbow Method using Distortion')\n",
    "plt.show()"
   ],
   "metadata": {
    "collapsed": false,
    "pycharm": {
     "name": "#%%\n"
    }
   }
  },
  {
   "cell_type": "code",
   "execution_count": 172,
   "outputs": [
    {
     "data": {
      "text/plain": "<Figure size 432x288 with 1 Axes>",
      "image/png": "[encoded data removed]"
     },
     "metadata": {
      "needs_background": "light"
     },
     "output_type": "display_data"
    }
   ],
   "source": [
    "plt.plot(K, inertias, 'bx-')\n",
    "plt.xlabel('Values of K')\n",
    "plt.ylabel('Inertia')\n",
    "plt.title('The Elbow Method using Inertia')\n",
    "plt.show()"
   ],
   "metadata": {
    "collapsed": false,
    "pycharm": {
     "name": "#%%\n"
    }
   }
  }
 ],
 "metadata": {
  "kernelspec": {
   "display_name": "Python 3",
   "language": "python",
   "name": "python3"
  },
  "language_info": {
   "codemirror_mode": {
    "name": "ipython",
    "version": 2
   },
   "file_extension": ".py",
   "mimetype": "text/x-python",
   "name": "python",
   "nbconvert_exporter": "python",
   "pygments_lexer": "ipython2",
   "version": "2.7.6"
  }
 },
 "nbformat": 4,
 "nbformat_minor": 0
}