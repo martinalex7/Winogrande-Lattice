{
 "cells": [
  {
   "cell_type": "markdown",
   "source": [
    "# Premiers Tests"
   ],
   "metadata": {
    "collapsed": false,
    "pycharm": {
     "name": "#%% md\n"
    }
   }
  },
  {
   "cell_type": "code",
   "execution_count": 1,
   "outputs": [],
   "source": [
    "import pandas as pd\n",
    "import matplotlib.pyplot as plt\n",
    "import numpy as np\n",
    "import json\n",
    "from sklearn.feature_extraction.text  import TfidfVectorizer\n",
    "from sklearn.cluster import KMeans\n",
    "from nltk import WordNetLemmatizer\n",
    "from nltk import word_tokenize\n",
    "import spicy"
   ],
   "metadata": {
    "collapsed": false,
    "pycharm": {
     "name": "#%%\n"
    }
   }
  },
  {
   "cell_type": "code",
   "execution_count": 2,
   "outputs": [],
   "source": [
    "with open('data/s/train_s.jsonl', 'r') as f:\n",
    "  a = list(f)\n",
    "\n",
    "data_s =[]\n",
    "for element in a:\n",
    "  data_s.append(json.loads(element))\n",
    "\n",
    "data_s = pd.DataFrame(data_s)"
   ],
   "metadata": {
    "collapsed": false,
    "pycharm": {
     "name": "#%%\n"
    }
   }
  },
  {
   "cell_type": "code",
   "execution_count": 136,
   "outputs": [
    {
     "data": {
      "text/plain": "                                qID  \\\n0  3QHITW7OYO7Q6B6ISU2UMJB84ZLAQE-2   \n1  3QHITW7OYO7Q6B6ISU2UMJB84ZLAQE-1   \n2  3XWUWJ18TLO2DDRXF83QWLKRJ29UU4-1   \n\n                                            sentence option1 option2 answer  \\\n0  Ian volunteered to eat Dennis's menudo after a...     Ian  Dennis      2   \n1  Ian volunteered to eat Dennis's menudo after a...     Ian  Dennis      1   \n2  He never comes to my home, but I always go to ...    home   house      1   \n\n   cluster       cos      dist  \\\n0      171  0.000000  0.000000   \n1      171  0.950838  0.443452   \n2      126  1.513567  2.438387   \n\n                                 lemmatized_sentence  cluster2  \\\n0  Ian volunteer to eat Dennis menudo after alrea...         0   \n1  Ian volunteer to eat Dennis menudo after alrea...         0   \n2  He never come to my home but I always go to hi...         2   \n\n                                        sentence_bow  \n0  [ian, volunteer, eat, dennis, menudo, already,...  \n1  [ian, volunteer, eat, dennis, menudo, already,...  \n2  [he, never, come, home, i, always, go, house, ...  ",
      "text/html": "<div>\n<style scoped>\n    .dataframe tbody tr th:only-of-type {\n        vertical-align: middle;\n    }\n\n    .dataframe tbody tr th {\n        vertical-align: top;\n    }\n\n    .dataframe thead th {\n        text-align: right;\n    }\n</style>\n<table border=\"1\" class=\"dataframe\">\n  <thead>\n    <tr style=\"text-align: right;\">\n      <th></th>\n      <th>qID</th>\n      <th>sentence</th>\n      <th>option1</th>\n      <th>option2</th>\n      <th>answer</th>\n      <th>cluster</th>\n      <th>cos</th>\n      <th>dist</th>\n      <th>lemmatized_sentence</th>\n      <th>cluster2</th>\n      <th>sentence_bow</th>\n    </tr>\n  </thead>\n  <tbody>\n    <tr>\n      <th>0</th>\n      <td>3QHITW7OYO7Q6B6ISU2UMJB84ZLAQE-2</td>\n      <td>Ian volunteered to eat Dennis's menudo after a...</td>\n      <td>Ian</td>\n      <td>Dennis</td>\n      <td>2</td>\n      <td>171</td>\n      <td>0.000000</td>\n      <td>0.000000</td>\n      <td>Ian volunteer to eat Dennis menudo after alrea...</td>\n      <td>0</td>\n      <td>[ian, volunteer, eat, dennis, menudo, already,...</td>\n    </tr>\n    <tr>\n      <th>1</th>\n      <td>3QHITW7OYO7Q6B6ISU2UMJB84ZLAQE-1</td>\n      <td>Ian volunteered to eat Dennis's menudo after a...</td>\n      <td>Ian</td>\n      <td>Dennis</td>\n      <td>1</td>\n      <td>171</td>\n      <td>0.950838</td>\n      <td>0.443452</td>\n      <td>Ian volunteer to eat Dennis menudo after alrea...</td>\n      <td>0</td>\n      <td>[ian, volunteer, eat, dennis, menudo, already,...</td>\n    </tr>\n    <tr>\n      <th>2</th>\n      <td>3XWUWJ18TLO2DDRXF83QWLKRJ29UU4-1</td>\n      <td>He never comes to my home, but I always go to ...</td>\n      <td>home</td>\n      <td>house</td>\n      <td>1</td>\n      <td>126</td>\n      <td>1.513567</td>\n      <td>2.438387</td>\n      <td>He never come to my home but I always go to hi...</td>\n      <td>2</td>\n      <td>[he, never, come, home, i, always, go, house, ...</td>\n    </tr>\n  </tbody>\n</table>\n</div>"
     },
     "execution_count": 136,
     "metadata": {},
     "output_type": "execute_result"
    }
   ],
   "source": [
    "data_s.head(3)"
   ],
   "metadata": {
    "collapsed": false,
    "pycharm": {
     "name": "#%%\n"
    }
   }
  },
  {
   "cell_type": "markdown",
   "source": [
    "### $1^{ère}$ métrique : Clustering KMeans sur matrice de TDIDF"
   ],
   "metadata": {
    "collapsed": false
   }
  },
  {
   "cell_type": "markdown",
   "source": [
    "Obtention d'une matrice de TF-IDF puis clustering avec KMeans cette matrice (2 cas : lemmatisées ou non)\n",
    "Remarque sur les clusters obtenus:\n",
    "- Ils ne sont pas très pertinents (pas logique sémantique dans le cluster)\n",
    "- Ils ne sont pas impactés par la lemmatisation\n",
    "\n",
    "Remarque sur les plots de distortions, inerties :\n",
    "- Clusters optimaux pour envrion $n_{clusters} = 300$ (résultat logique car on retrouve approximativement 320 schéma \"soeur\" dans la base de données)"
   ],
   "metadata": {
    "collapsed": false,
    "pycharm": {
     "name": "#%% md\n"
    }
   }
  },
  {
   "cell_type": "code",
   "execution_count": 4,
   "outputs": [
    {
     "name": "stderr",
     "output_type": "stream",
     "text": [
      "c:\\users\\marti\\work\\lattice-internship\\venv\\lib\\site-packages\\sklearn\\utils\\deprecation.py:87: FutureWarning: Function get_feature_names is deprecated; get_feature_names is deprecated in 1.0 and will be removed in 1.2. Please use get_feature_names_out instead.\n",
      "  warnings.warn(msg, category=FutureWarning)\n"
     ]
    }
   ],
   "source": [
    "vectorizer = TfidfVectorizer()\n",
    "vectors = vectorizer.fit_transform(data_s['sentence'])\n",
    "feature_names = vectorizer.get_feature_names()\n",
    "dense = vectors.todense()\n",
    "denselist = dense.tolist()\n",
    "df = pd.DataFrame(denselist, columns=feature_names)"
   ],
   "metadata": {
    "collapsed": false,
    "pycharm": {
     "name": "#%%\n"
    }
   }
  },
  {
   "cell_type": "code",
   "execution_count": 138,
   "outputs": [],
   "source": [
    "clustering = KMeans(n_clusters=200)\n",
    "clusters = clustering.fit_predict(df)\n",
    "data_s['Cluster'] = clusters"
   ],
   "metadata": {
    "collapsed": false,
    "pycharm": {
     "name": "#%%\n"
    }
   }
  },
  {
   "cell_type": "code",
   "execution_count": 145,
   "outputs": [
    {
     "data": {
      "text/plain": "398    Have you ever been on  a nature walk Samantha ...\n399    Have you ever been on  a nature walk Samantha ...\nName: sentence, dtype: object"
     },
     "execution_count": 145,
     "metadata": {},
     "output_type": "execute_result"
    }
   ],
   "source": [
    "data_s[data_s['cluster']==0]['sentence']"
   ],
   "metadata": {
    "collapsed": false,
    "pycharm": {
     "name": "#%%\n"
    }
   }
  },
  {
   "cell_type": "code",
   "execution_count": 17,
   "outputs": [],
   "source": [
    "def sentence_lemmatizer(sentence):\n",
    "  WNL = WordNetLemmatizer()\n",
    "  lemmatized=[]\n",
    "  for word in word_tokenize(sentence):\n",
    "    if word.isalpha():\n",
    "      lemms = [WNL.lemmatize(word,pos=f'{param}') for param in ['v','n','a','r','s']]\n",
    "      ind = np.argmin([len(lemm) for lemm in lemms])\n",
    "      lemmatized.append(lemms[ind])\n",
    "  return ' '.join(lemmatized)"
   ],
   "metadata": {
    "collapsed": false,
    "pycharm": {
     "name": "#%%\n"
    }
   }
  },
  {
   "cell_type": "code",
   "execution_count": 20,
   "outputs": [],
   "source": [
    "data_s['lemmatized_sentence'] = data_s['sentence'].apply(sentence_lemmatizer)"
   ],
   "metadata": {
    "collapsed": false,
    "pycharm": {
     "name": "#%%\n"
    }
   }
  },
  {
   "cell_type": "code",
   "execution_count": 142,
   "outputs": [
    {
     "data": {
      "text/plain": "                                qID  \\\n0  3QHITW7OYO7Q6B6ISU2UMJB84ZLAQE-2   \n1  3QHITW7OYO7Q6B6ISU2UMJB84ZLAQE-1   \n\n                                            sentence option1 option2 answer  \\\n0  Ian volunteered to eat Dennis's menudo after a...     Ian  Dennis      2   \n1  Ian volunteered to eat Dennis's menudo after a...     Ian  Dennis      1   \n\n   cluster       cos      dist  \\\n0      171  0.000000  0.000000   \n1      171  0.950838  0.443452   \n\n                                 lemmatized_sentence  cluster2  \\\n0  Ian volunteer to eat Dennis menudo after alrea...         0   \n1  Ian volunteer to eat Dennis menudo after alrea...         0   \n\n                                        sentence_bow  Cluster  \n0  [ian, volunteer, eat, dennis, menudo, already,...      152  \n1  [ian, volunteer, eat, dennis, menudo, already,...      152  ",
      "text/html": "<div>\n<style scoped>\n    .dataframe tbody tr th:only-of-type {\n        vertical-align: middle;\n    }\n\n    .dataframe tbody tr th {\n        vertical-align: top;\n    }\n\n    .dataframe thead th {\n        text-align: right;\n    }\n</style>\n<table border=\"1\" class=\"dataframe\">\n  <thead>\n    <tr style=\"text-align: right;\">\n      <th></th>\n      <th>qID</th>\n      <th>sentence</th>\n      <th>option1</th>\n      <th>option2</th>\n      <th>answer</th>\n      <th>cluster</th>\n      <th>cos</th>\n      <th>dist</th>\n      <th>lemmatized_sentence</th>\n      <th>cluster2</th>\n      <th>sentence_bow</th>\n      <th>Cluster</th>\n    </tr>\n  </thead>\n  <tbody>\n    <tr>\n      <th>0</th>\n      <td>3QHITW7OYO7Q6B6ISU2UMJB84ZLAQE-2</td>\n      <td>Ian volunteered to eat Dennis's menudo after a...</td>\n      <td>Ian</td>\n      <td>Dennis</td>\n      <td>2</td>\n      <td>171</td>\n      <td>0.000000</td>\n      <td>0.000000</td>\n      <td>Ian volunteer to eat Dennis menudo after alrea...</td>\n      <td>0</td>\n      <td>[ian, volunteer, eat, dennis, menudo, already,...</td>\n      <td>152</td>\n    </tr>\n    <tr>\n      <th>1</th>\n      <td>3QHITW7OYO7Q6B6ISU2UMJB84ZLAQE-1</td>\n      <td>Ian volunteered to eat Dennis's menudo after a...</td>\n      <td>Ian</td>\n      <td>Dennis</td>\n      <td>1</td>\n      <td>171</td>\n      <td>0.950838</td>\n      <td>0.443452</td>\n      <td>Ian volunteer to eat Dennis menudo after alrea...</td>\n      <td>0</td>\n      <td>[ian, volunteer, eat, dennis, menudo, already,...</td>\n      <td>152</td>\n    </tr>\n  </tbody>\n</table>\n</div>"
     },
     "execution_count": 142,
     "metadata": {},
     "output_type": "execute_result"
    }
   ],
   "source": [
    "data_s.head(2)"
   ],
   "metadata": {
    "collapsed": false,
    "pycharm": {
     "name": "#%%\n"
    }
   }
  },
  {
   "cell_type": "code",
   "execution_count": 141,
   "outputs": [
    {
     "name": "stderr",
     "output_type": "stream",
     "text": [
      "c:\\users\\marti\\work\\lattice-internship\\venv\\lib\\site-packages\\sklearn\\utils\\deprecation.py:87: FutureWarning: Function get_feature_names is deprecated; get_feature_names is deprecated in 1.0 and will be removed in 1.2. Please use get_feature_names_out instead.\n",
      "  warnings.warn(msg, category=FutureWarning)\n"
     ]
    }
   ],
   "source": [
    "vectorizer = TfidfVectorizer()\n",
    "vectors = vectorizer.fit_transform(data_s['lemmatized_sentence'])\n",
    "feature_names = vectorizer.get_feature_names()\n",
    "dense = vectors.todense()\n",
    "denselist = dense.tolist()\n",
    "df2 = pd.DataFrame(denselist,columns=feature_names)"
   ],
   "metadata": {
    "collapsed": false,
    "pycharm": {
     "name": "#%%\n"
    }
   }
  },
  {
   "cell_type": "code",
   "execution_count": 143,
   "outputs": [],
   "source": [
    "clustering = KMeans(200)\n",
    "clusters = clustering.fit_predict(df2)\n",
    "data_s['cluster2']= clusters"
   ],
   "metadata": {
    "collapsed": false,
    "pycharm": {
     "name": "#%%\n"
    }
   }
  },
  {
   "cell_type": "code",
   "execution_count": 146,
   "outputs": [
    {
     "data": {
      "text/plain": "396    It took Jerry longer to shampoo his hair than ...\n397    It took Jerry longer to shampoo his hair than ...\n448    Jason's leg was more sore than his arm was bec...\n449    Jason's leg was more sore than his arm was alt...\nName: sentence, dtype: object"
     },
     "execution_count": 146,
     "metadata": {},
     "output_type": "execute_result"
    }
   ],
   "source": [
    "data_s[data_s['cluster2']==0]['sentence']"
   ],
   "metadata": {
    "collapsed": false,
    "pycharm": {
     "name": "#%%\n"
    }
   }
  },
  {
   "cell_type": "code",
   "execution_count": 45,
   "outputs": [],
   "source": [
    "distortions = []\n",
    "inertias = []\n",
    "from scipy.spatial.distance import cdist\n",
    "K = range(1, 500)\n",
    "\n",
    "for k in K:\n",
    "    # Building and fitting the model\n",
    "    kmeanModel = KMeans(n_clusters=k).fit(df2)\n",
    "    kmeanModel.fit(df2)\n",
    "\n",
    "    distortions.append(sum(np.min(cdist(df2, kmeanModel.cluster_centers_,'euclidean'), axis=1)) / df2.shape[0])\n",
    "    inertias.append(kmeanModel.inertia_)"
   ],
   "metadata": {
    "collapsed": false,
    "pycharm": {
     "name": "#%%\n"
    }
   }
  },
  {
   "cell_type": "code",
   "execution_count": 46,
   "outputs": [
    {
     "data": {
      "text/plain": "<Figure size 432x288 with 1 Axes>",
      "image/png": "[encoded data removed]"
     },
     "metadata": {
      "needs_background": "light"
     },
     "output_type": "display_data"
    }
   ],
   "source": [
    "plt.plot(K, distortions, 'bx-')\n",
    "plt.xlabel('Values of K')\n",
    "plt.ylabel('Distortion')\n",
    "plt.title('The Elbow Method using Distortion')\n",
    "plt.show()"
   ],
   "metadata": {
    "collapsed": false,
    "pycharm": {
     "name": "#%%\n"
    }
   }
  },
  {
   "cell_type": "code",
   "execution_count": 47,
   "outputs": [
    {
     "data": {
      "text/plain": "<Figure size 432x288 with 1 Axes>",
      "image/png": "[encoded data removed]"
     },
     "metadata": {
      "needs_background": "light"
     },
     "output_type": "display_data"
    }
   ],
   "source": [
    "plt.plot(K, inertias, 'bx-')\n",
    "plt.xlabel('Values of K')\n",
    "plt.ylabel('Inertia')\n",
    "plt.title('The Elbow Method using Inertia')\n",
    "plt.show()"
   ],
   "metadata": {
    "collapsed": false,
    "pycharm": {
     "name": "#%%\n"
    }
   }
  },
  {
   "cell_type": "markdown",
   "source": [
    "### Topic Modeling"
   ],
   "metadata": {
    "collapsed": false,
    "pycharm": {
     "name": "#%% md\n"
    }
   }
  },
  {
   "cell_type": "markdown",
   "source": [
    "La LDA sépare les phrases \"soeurs\" $\\rightarrow$ il distingue donc la différence de sens entre ces phrases, malgré leur proximité lexicale"
   ],
   "metadata": {
    "collapsed": false,
    "pycharm": {
     "name": "#%% md\n"
    }
   }
  },
  {
   "cell_type": "code",
   "execution_count": 66,
   "outputs": [],
   "source": [
    "from nltk.corpus import stopwords\n",
    "import gensim\n",
    "from gensim.corpora import Dictionary"
   ],
   "metadata": {
    "collapsed": false,
    "pycharm": {
     "name": "#%%\n"
    }
   }
  },
  {
   "cell_type": "code",
   "execution_count": 87,
   "outputs": [],
   "source": [
    "def topic_modeling_preprocessing(sentence):\n",
    "    WNL = WordNetLemmatizer()\n",
    "    bow = [word.lower() for word in word_tokenize(sentence) if not word in stopwords.words('english')]\n",
    "    preprocessed_bow = []\n",
    "    for word in bow:\n",
    "        if word.isalpha():\n",
    "            lemms = [WNL.lemmatize(word,pos=f'{param}') for param in ['v','n','a','r','s']]\n",
    "            ind = np.argmin([len(lemm) for lemm in lemms])\n",
    "            preprocessed_bow.append(lemms[ind])\n",
    "    return preprocessed_bow"
   ],
   "metadata": {
    "collapsed": false,
    "pycharm": {
     "name": "#%%\n"
    }
   }
  },
  {
   "cell_type": "code",
   "execution_count": 88,
   "outputs": [],
   "source": [
    "data_s['sentence_bow'] = [topic_modeling_preprocessing(sentence) for sentence in list(data_s['sentence'])]"
   ],
   "metadata": {
    "collapsed": false,
    "pycharm": {
     "name": "#%%\n"
    }
   }
  },
  {
   "cell_type": "code",
   "execution_count": 110,
   "outputs": [],
   "source": [
    "dictionary = Dictionary(list(data_s['sentence_bow']))\n",
    "bow_corpus = [dictionary.doc2bow(doc) for doc in list(data_s['sentence_bow'])]\n",
    "\n",
    "n_topics= 90\n",
    "lda = gensim.models.LdaMulticore(bow_corpus,num_topics=n_topics,id2word=dictionary)"
   ],
   "metadata": {
    "collapsed": false,
    "pycharm": {
     "name": "#%%\n"
    }
   }
  },
  {
   "cell_type": "code",
   "execution_count": 115,
   "outputs": [
    {
     "name": "stdout",
     "output_type": "stream",
     "text": [
      "Brian had a large collection of coins that Kevin really admired, so _ offered him some duplicates.\n",
      "----------\n",
      "The employees threw a party and drank so much alcohol that they could not go into work the next day. The _ was loud.\n",
      "----------\n",
      "To overcome behavioural bias, we need to focus more on changing the conscious actions instead of the unconscious actions because the _ actions are voluntary.\n",
      "----------\n",
      "Jessica took off the gloves and gave them to Katrina because _ 's hands were cold.\n",
      "----------\n",
      "Chess is bad for the body but great for the brain, as thinking is useless for the _ to develop.\n",
      "----------\n",
      "The experience was totally unforgettable for Betty but not Samantha because _ had anticipated it for months.\n",
      "----------\n",
      "Ben had to either stop eating chocolates or nuts. He chose to stop eating the _ because they were savory.\n",
      "----------\n",
      "The couple drank wine out of glasses instead of mugs, because the _ were clean.\n",
      "----------\n"
     ]
    }
   ],
   "source": [
    "ex_list = [element[0] for element in lda.get_topic_terms(15)]\n",
    "for element in ex_list:\n",
    "    if element <= 640:\n",
    "        print(data_s.iloc[element]['sentence'])\n",
    "        print('----------')"
   ],
   "metadata": {
    "collapsed": false,
    "pycharm": {
     "name": "#%%\n"
    }
   }
  },
  {
   "cell_type": "code",
   "execution_count": null,
   "outputs": [],
   "source": [
    "dictionary = Dictionary(list(data_s['s']))"
   ],
   "metadata": {
    "collapsed": false,
    "pycharm": {
     "name": "#%%\n"
    }
   }
  },
  {
   "cell_type": "code",
   "execution_count": 119,
   "outputs": [
    {
     "name": "stdout",
     "output_type": "stream",
     "text": [
      "5\n",
      "10\n",
      "15\n",
      "20\n",
      "25\n",
      "30\n",
      "35\n",
      "40\n",
      "45\n"
     ]
    }
   ],
   "source": [
    "from gensim.models import CoherenceModel\n",
    "# Compute Coherence Score\n",
    "list_coherence = []\n",
    "for i in range(1,50):\n",
    "    if i%5 == 0:\n",
    "        print(i)\n",
    "    lda_model = lda = gensim.models.LdaMulticore(bow_corpus,\n",
    "                                                 num_topics=i,\n",
    "                                                 id2word=dictionary)\n",
    "    coherence_model_lda = CoherenceModel(model=lda_model,\n",
    "                                         texts=list(data_s['sentence_bow']),\n",
    "                                         dictionary=dictionary,\n",
    "                                         coherence='c_v')\n",
    "    list_coherence.append(coherence_model_lda.get_coherence())"
   ],
   "metadata": {
    "collapsed": false,
    "pycharm": {
     "name": "#%%\n"
    }
   }
  },
  {
   "cell_type": "code",
   "execution_count": 121,
   "outputs": [
    {
     "name": "stdout",
     "output_type": "stream",
     "text": [
      "55\n",
      "60\n",
      "65\n"
     ]
    }
   ],
   "source": [
    "for i in range(51,70):\n",
    "    if i%5 == 0:\n",
    "        print(i)\n",
    "    lda_model = lda = gensim.models.LdaMulticore(bow_corpus,\n",
    "                                                 num_topics=i,\n",
    "                                                 id2word=dictionary)\n",
    "    coherence_model_lda = CoherenceModel(model=lda_model,\n",
    "                                         texts=list(data_s['sentence_bow']),\n",
    "                                         dictionary=dictionary,\n",
    "                                         coherence='c_v')\n",
    "    list_coherence.append(coherence_model_lda.get_coherence())"
   ],
   "metadata": {
    "collapsed": false,
    "pycharm": {
     "name": "#%%\n"
    }
   }
  },
  {
   "cell_type": "code",
   "execution_count": 131,
   "outputs": [
    {
     "data": {
      "text/plain": "<matplotlib.legend.Legend at 0x1aacef8f5e0>"
     },
     "execution_count": 131,
     "metadata": {},
     "output_type": "execute_result"
    },
    {
     "data": {
      "text/plain": "<Figure size 432x288 with 1 Axes>",
      "image/png": "[encoded data removed]"
     },
     "metadata": {
      "needs_background": "light"
     },
     "output_type": "display_data"
    }
   ],
   "source": [
    "plt.plot(range(1,69),list_coherence)\n",
    "plt.axvline(31,color='red',label='max')\n",
    "plt.xlabel('Number of topics')\n",
    "plt.ylabel('Coherence score')\n",
    "plt.title('Coherence Score for Number of Topics')\n",
    "plt.legend()"
   ],
   "metadata": {
    "collapsed": false,
    "pycharm": {
     "name": "#%%\n"
    }
   }
  },
  {
   "cell_type": "markdown",
   "source": [
    "Exemple de schema dans un topic pour $n_{topic}^{optimal}$"
   ],
   "metadata": {
    "collapsed": false,
    "pycharm": {
     "name": "#%% md\n"
    }
   }
  },
  {
   "cell_type": "code",
   "execution_count": 133,
   "outputs": [],
   "source": [
    "#opti lda\n",
    "lda = gensim.models.LdaMulticore(bow_corpus,num_topics=31,id2word=dictionary)"
   ],
   "metadata": {
    "collapsed": false,
    "pycharm": {
     "name": "#%%\n"
    }
   }
  },
  {
   "cell_type": "code",
   "execution_count": 148,
   "outputs": [
    {
     "name": "stdout",
     "output_type": "stream",
     "text": [
      "The sushi rotted on the counter unless it was put in the cooler, as the _ exposed it to contamination.\n",
      "- - - - -\n",
      "Victoria was disgusted because of the odor of Sarah, and _ did not want to be around them.\n",
      "- - - - -\n",
      "Donald was richer than Leslie was because companies had found oil on the property of _ .\n",
      "- - - - -\n",
      "Once in Poland, Dennis enjoyed the trip more than Jason because _ had a deeper understanding of the Polish language.\n",
      "- - - - -\n",
      "I couldn't control the moisture like I controlled the rain, because the _ was coming in everywhere.\n",
      "- - - - -\n",
      "Emptying the litter box was a dreaded chore for Adam while Lawrence didn't mind doing it. _ never tried to get someone else to handle it.\n",
      "- - - - -\n",
      "To overcome behavioural bias, we need to focus more on changing the conscious actions instead of the unconscious actions because the _ actions are voluntary.\n",
      "- - - - -\n",
      "I installed a new bird house outside above the ground, but had to prop it up higher away from my cat since the _ was too low.\n",
      "- - - - -\n",
      "While out playing golf, Dennis fell in the mud, but Christopher kept their balance, because _ had slippery shoes on.\n",
      "- - - - -\n",
      "Craig volunteered to help the dyslexic students at the school while Joel avoided them, since _ struggled with reading.\n",
      "- - - - -\n"
     ]
    }
   ],
   "source": [
    "ex_list = [element[0] for element in lda.get_topic_terms(15)]\n",
    "for element in ex_list:\n",
    "    if element <= 640:\n",
    "        print(data_s.iloc[element]['sentence'])\n",
    "        print('- - - - -')"
   ],
   "metadata": {
    "collapsed": false,
    "pycharm": {
     "name": "#%%\n"
    }
   }
  },
  {
   "cell_type": "code",
   "execution_count": null,
   "outputs": [],
   "source": [],
   "metadata": {
    "collapsed": false,
    "pycharm": {
     "name": "#%%\n"
    }
   }
  }
 ],
 "metadata": {
  "kernelspec": {
   "display_name": "Python 3",
   "language": "python",
   "name": "python3"
  },
  "language_info": {
   "codemirror_mode": {
    "name": "ipython",
    "version": 2
   },
   "file_extension": ".py",
   "mimetype": "text/x-python",
   "name": "python",
   "nbconvert_exporter": "python",
   "pygments_lexer": "ipython2",
   "version": "2.7.6"
  }
 },
 "nbformat": 4,
 "nbformat_minor": 0
}