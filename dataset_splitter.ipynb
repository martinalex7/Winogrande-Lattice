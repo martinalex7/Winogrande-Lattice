{
 "cells": [
  {
   "cell_type": "code",
   "execution_count": 1,
   "metadata": {
    "collapsed": true
   },
   "outputs": [],
   "source": [
    "# Split datasets according to first metrics"
   ]
  },
  {
   "cell_type": "code",
   "execution_count": 2,
   "outputs": [],
   "source": [
    "import pandas as pd\n",
    "import matplotlib.pyplot as plt\n",
    "import numpy as np\n",
    "import json\n",
    "from sklearn.feature_extraction.text  import TfidfVectorizer\n",
    "from sklearn.cluster import KMeans\n",
    "from nltk import WordNetLemmatizer\n",
    "from nltk import word_tokenize\n",
    "import spicy\n",
    "import scipy\n",
    "import seaborn as sns"
   ],
   "metadata": {
    "collapsed": false,
    "pycharm": {
     "name": "#%%\n"
    }
   }
  },
  {
   "cell_type": "code",
   "execution_count": 3,
   "outputs": [],
   "source": [
    "with open('data/l/train_l.jsonl', 'r') as f:\n",
    "  a = list(f)\n",
    "\n",
    "data_l =[]\n",
    "for element in a:\n",
    "  data_l.append(json.loads(element))\n",
    "\n",
    "data_l = pd.DataFrame(data_l)"
   ],
   "metadata": {
    "collapsed": false,
    "pycharm": {
     "name": "#%%\n"
    }
   }
  },
  {
   "cell_type": "code",
   "execution_count": 4,
   "outputs": [],
   "source": [
    "with open('data/xl/train_xl.jsonl', 'r') as f:\n",
    "  a = list(f)\n",
    "\n",
    "data_xl =[]\n",
    "for element in a:\n",
    "  data_xl.append(json.loads(element))\n",
    "\n",
    "data_xl = pd.DataFrame(data_xl)"
   ],
   "metadata": {
    "collapsed": false,
    "pycharm": {
     "name": "#%%\n"
    }
   }
  },
  {
   "cell_type": "code",
   "execution_count": 5,
   "outputs": [],
   "source": [
    "with open('data/test/test.jsonl', 'r') as f:\n",
    "  a = list(f)\n",
    "\n",
    "data_test =[]\n",
    "for element in a:\n",
    "  data_test.append(json.loads(element))\n",
    "\n",
    "data_test = pd.DataFrame(data_test)"
   ],
   "metadata": {
    "collapsed": false,
    "pycharm": {
     "name": "#%%\n"
    }
   }
  },
  {
   "cell_type": "code",
   "execution_count": 6,
   "outputs": [
    {
     "data": {
      "text/plain": "                                   qID  \\\n0     3QX22DUVOQVY79AVVUY9TVTO8KCVM0-2   \n1     3LOJFQ4BOZTHN4A6JXLZ8WVDJI4DKP-2   \n2     3INZSNUD824X68RFF0UAINHY9KB9D5-2   \n3     32TMVRKDGPCKS7PCHXN3FNSGBLZ842-2   \n4     32TMVRKDGPCKS7PCHXN3FNSGBLZ842-1   \n...                                ...   \n1762  3YGE63DINABEJK3TWZG7H05PCBI0WF-1   \n1763  3BO3NEOQM0FDPDIZFMXLDHKMI5QAIY-2   \n1764  3YGYP13643NCWKEEYB8Z5DTLSPDNR9-2   \n1765  3UYRNV2KIVD6EFZIZ22ZEWYH3D78NZ-1   \n1766  3VADEH0UHEBO0KQ4TFLWZC3DFPCSPI-1   \n\n                                               sentence  option1   option2  \n0     Kenneth went cheap on the gemstone present for...  Kenneth   Michael  \n1     There were more holes in the yard of Amy than ...      Amy    Carrie  \n2     The dog didn't like its collar but was okay wi...   collar     leash  \n3     The door opened louder than the window because...   window      door  \n4     The door opened louder than the window because...   window      door  \n...                                                 ...      ...       ...  \n1762  After the break we faxed over the single paper...    paper  document  \n1763  The man's faith changed after he heard of anot...  science  religion  \n1764  The woman had a lot to cope with when her cat ...      cat       dog  \n1765  Carrie asked for help caring for her dying erm...   Carrie     Maria  \n1766  James did not have time to finish the movie, h...  concert     movie  \n\n[1767 rows x 4 columns]",
      "text/html": "<div>\n<style scoped>\n    .dataframe tbody tr th:only-of-type {\n        vertical-align: middle;\n    }\n\n    .dataframe tbody tr th {\n        vertical-align: top;\n    }\n\n    .dataframe thead th {\n        text-align: right;\n    }\n</style>\n<table border=\"1\" class=\"dataframe\">\n  <thead>\n    <tr style=\"text-align: right;\">\n      <th></th>\n      <th>qID</th>\n      <th>sentence</th>\n      <th>option1</th>\n      <th>option2</th>\n    </tr>\n  </thead>\n  <tbody>\n    <tr>\n      <th>0</th>\n      <td>3QX22DUVOQVY79AVVUY9TVTO8KCVM0-2</td>\n      <td>Kenneth went cheap on the gemstone present for...</td>\n      <td>Kenneth</td>\n      <td>Michael</td>\n    </tr>\n    <tr>\n      <th>1</th>\n      <td>3LOJFQ4BOZTHN4A6JXLZ8WVDJI4DKP-2</td>\n      <td>There were more holes in the yard of Amy than ...</td>\n      <td>Amy</td>\n      <td>Carrie</td>\n    </tr>\n    <tr>\n      <th>2</th>\n      <td>3INZSNUD824X68RFF0UAINHY9KB9D5-2</td>\n      <td>The dog didn't like its collar but was okay wi...</td>\n      <td>collar</td>\n      <td>leash</td>\n    </tr>\n    <tr>\n      <th>3</th>\n      <td>32TMVRKDGPCKS7PCHXN3FNSGBLZ842-2</td>\n      <td>The door opened louder than the window because...</td>\n      <td>window</td>\n      <td>door</td>\n    </tr>\n    <tr>\n      <th>4</th>\n      <td>32TMVRKDGPCKS7PCHXN3FNSGBLZ842-1</td>\n      <td>The door opened louder than the window because...</td>\n      <td>window</td>\n      <td>door</td>\n    </tr>\n    <tr>\n      <th>...</th>\n      <td>...</td>\n      <td>...</td>\n      <td>...</td>\n      <td>...</td>\n    </tr>\n    <tr>\n      <th>1762</th>\n      <td>3YGE63DINABEJK3TWZG7H05PCBI0WF-1</td>\n      <td>After the break we faxed over the single paper...</td>\n      <td>paper</td>\n      <td>document</td>\n    </tr>\n    <tr>\n      <th>1763</th>\n      <td>3BO3NEOQM0FDPDIZFMXLDHKMI5QAIY-2</td>\n      <td>The man's faith changed after he heard of anot...</td>\n      <td>science</td>\n      <td>religion</td>\n    </tr>\n    <tr>\n      <th>1764</th>\n      <td>3YGYP13643NCWKEEYB8Z5DTLSPDNR9-2</td>\n      <td>The woman had a lot to cope with when her cat ...</td>\n      <td>cat</td>\n      <td>dog</td>\n    </tr>\n    <tr>\n      <th>1765</th>\n      <td>3UYRNV2KIVD6EFZIZ22ZEWYH3D78NZ-1</td>\n      <td>Carrie asked for help caring for her dying erm...</td>\n      <td>Carrie</td>\n      <td>Maria</td>\n    </tr>\n    <tr>\n      <th>1766</th>\n      <td>3VADEH0UHEBO0KQ4TFLWZC3DFPCSPI-1</td>\n      <td>James did not have time to finish the movie, h...</td>\n      <td>concert</td>\n      <td>movie</td>\n    </tr>\n  </tbody>\n</table>\n<p>1767 rows × 4 columns</p>\n</div>"
     },
     "execution_count": 6,
     "metadata": {},
     "output_type": "execute_result"
    }
   ],
   "source": [
    "data_test"
   ],
   "metadata": {
    "collapsed": false,
    "pycharm": {
     "name": "#%%\n"
    }
   }
  },
  {
   "cell_type": "code",
   "execution_count": 7,
   "outputs": [
    {
     "data": {
      "text/plain": "                                    qID  \\\n0      3QHITW7OYO7Q6B6ISU2UMJB84ZLAQE-2   \n1      3QHITW7OYO7Q6B6ISU2UMJB84ZLAQE-1   \n2      3XWUWJ18TLO2DDRXF83QWLKRJ29UU4-1   \n3      3XWUWJ18TLO2DDRXF83QWLKRJ29UU4-2   \n4      3D5G8J4N5CI2K40F4RZLF9OG2CKVTH-2   \n...                                 ...   \n40393  3PKJ68EHDNUOUBAJ3ASD64MQ8GSJHJ-1   \n40394  3W1K7D6QSDVJX2B852X30LVRM6WZBL-1   \n40395  3W1K7D6QSDVJX2B852X30LVRM6WZBL-2   \n40396  3BO3NEOQM2VSJ2H6ZK9L5F8V75BAIT-1   \n40397  3BO3NEOQM2VSJ2H6ZK9L5F8V75BAIT-2   \n\n                                                sentence option1   option2  \\\n0      Ian volunteered to eat Dennis's menudo after a...     Ian    Dennis   \n1      Ian volunteered to eat Dennis's menudo after a...     Ian    Dennis   \n2      He never comes to my home, but I always go to ...    home     house   \n3      He never comes to my home, but I always go to ...    home     house   \n4      Kyle doesn't wear leg warmers to bed, while Lo...    Kyle     Logan   \n...                                                  ...     ...       ...   \n40393  I felt lucky because when the fish slipped of ...    pole       net   \n40394  Dennis took months to write back to Kenneth's ...  Dennis   Kenneth   \n40395  Dennis took months to write back to Kenneth's ...  Dennis   Kenneth   \n40396  My hair looked better in a braid than a ponyta...   braid  ponytail   \n40397  My hair looked better in a braid than a ponyta...   braid  ponytail   \n\n      answer  \n0          2  \n1          1  \n2          1  \n3          2  \n4          2  \n...      ...  \n40393      1  \n40394      1  \n40395      2  \n40396      1  \n40397      2  \n\n[40398 rows x 5 columns]",
      "text/html": "<div>\n<style scoped>\n    .dataframe tbody tr th:only-of-type {\n        vertical-align: middle;\n    }\n\n    .dataframe tbody tr th {\n        vertical-align: top;\n    }\n\n    .dataframe thead th {\n        text-align: right;\n    }\n</style>\n<table border=\"1\" class=\"dataframe\">\n  <thead>\n    <tr style=\"text-align: right;\">\n      <th></th>\n      <th>qID</th>\n      <th>sentence</th>\n      <th>option1</th>\n      <th>option2</th>\n      <th>answer</th>\n    </tr>\n  </thead>\n  <tbody>\n    <tr>\n      <th>0</th>\n      <td>3QHITW7OYO7Q6B6ISU2UMJB84ZLAQE-2</td>\n      <td>Ian volunteered to eat Dennis's menudo after a...</td>\n      <td>Ian</td>\n      <td>Dennis</td>\n      <td>2</td>\n    </tr>\n    <tr>\n      <th>1</th>\n      <td>3QHITW7OYO7Q6B6ISU2UMJB84ZLAQE-1</td>\n      <td>Ian volunteered to eat Dennis's menudo after a...</td>\n      <td>Ian</td>\n      <td>Dennis</td>\n      <td>1</td>\n    </tr>\n    <tr>\n      <th>2</th>\n      <td>3XWUWJ18TLO2DDRXF83QWLKRJ29UU4-1</td>\n      <td>He never comes to my home, but I always go to ...</td>\n      <td>home</td>\n      <td>house</td>\n      <td>1</td>\n    </tr>\n    <tr>\n      <th>3</th>\n      <td>3XWUWJ18TLO2DDRXF83QWLKRJ29UU4-2</td>\n      <td>He never comes to my home, but I always go to ...</td>\n      <td>home</td>\n      <td>house</td>\n      <td>2</td>\n    </tr>\n    <tr>\n      <th>4</th>\n      <td>3D5G8J4N5CI2K40F4RZLF9OG2CKVTH-2</td>\n      <td>Kyle doesn't wear leg warmers to bed, while Lo...</td>\n      <td>Kyle</td>\n      <td>Logan</td>\n      <td>2</td>\n    </tr>\n    <tr>\n      <th>...</th>\n      <td>...</td>\n      <td>...</td>\n      <td>...</td>\n      <td>...</td>\n      <td>...</td>\n    </tr>\n    <tr>\n      <th>40393</th>\n      <td>3PKJ68EHDNUOUBAJ3ASD64MQ8GSJHJ-1</td>\n      <td>I felt lucky because when the fish slipped of ...</td>\n      <td>pole</td>\n      <td>net</td>\n      <td>1</td>\n    </tr>\n    <tr>\n      <th>40394</th>\n      <td>3W1K7D6QSDVJX2B852X30LVRM6WZBL-1</td>\n      <td>Dennis took months to write back to Kenneth's ...</td>\n      <td>Dennis</td>\n      <td>Kenneth</td>\n      <td>1</td>\n    </tr>\n    <tr>\n      <th>40395</th>\n      <td>3W1K7D6QSDVJX2B852X30LVRM6WZBL-2</td>\n      <td>Dennis took months to write back to Kenneth's ...</td>\n      <td>Dennis</td>\n      <td>Kenneth</td>\n      <td>2</td>\n    </tr>\n    <tr>\n      <th>40396</th>\n      <td>3BO3NEOQM2VSJ2H6ZK9L5F8V75BAIT-1</td>\n      <td>My hair looked better in a braid than a ponyta...</td>\n      <td>braid</td>\n      <td>ponytail</td>\n      <td>1</td>\n    </tr>\n    <tr>\n      <th>40397</th>\n      <td>3BO3NEOQM2VSJ2H6ZK9L5F8V75BAIT-2</td>\n      <td>My hair looked better in a braid than a ponyta...</td>\n      <td>braid</td>\n      <td>ponytail</td>\n      <td>2</td>\n    </tr>\n  </tbody>\n</table>\n<p>40398 rows × 5 columns</p>\n</div>"
     },
     "execution_count": 7,
     "metadata": {},
     "output_type": "execute_result"
    }
   ],
   "source": [
    "data_xl"
   ],
   "metadata": {
    "collapsed": false,
    "pycharm": {
     "name": "#%%\n"
    }
   }
  },
  {
   "cell_type": "code",
   "execution_count": 16,
   "outputs": [],
   "source": [
    "data_xl[:int(40398/2)+1].to_json(f'data/data_xl_train.jsonl',orient='records',lines=True)\n",
    "data_xl[int(40398/2)+1:].to_json(f'data/data_xl_test.jsonl',orient='records',lines=True)"
   ],
   "metadata": {
    "collapsed": false,
    "pycharm": {
     "name": "#%%\n"
    }
   }
  },
  {
   "cell_type": "code",
   "execution_count": 15,
   "outputs": [
    {
     "name": "stderr",
     "output_type": "stream",
     "text": [
      "'ls' n'est pas reconnu en tant que commande interne\n",
      "ou externe, un programme ex‚cutable ou un fichier de commandes.\n"
     ]
    }
   ],
   "source": [],
   "metadata": {
    "collapsed": false,
    "pycharm": {
     "name": "#%%\n"
    }
   }
  },
  {
   "cell_type": "code",
   "execution_count": 12,
   "outputs": [
    {
     "data": {
      "text/plain": "                                    qID  \\\n20200  3EGKVCRQFWQ4YN2WPIJKUGYGLT2YBL-1   \n20201  3EGKVCRQFWQ4YN2WPIJKUGYGLT2YBL-2   \n20202  3VMV5CHJZATJ27AKFW0ZF8L6F90TGI-1   \n20203  3VMV5CHJZATJ27AKFW0ZF8L6F90TGI-2   \n20204  3AXFSPQOYQW4GFJD8K4D3JADNPBJFO-2   \n...                                 ...   \n40393  3PKJ68EHDNUOUBAJ3ASD64MQ8GSJHJ-1   \n40394  3W1K7D6QSDVJX2B852X30LVRM6WZBL-1   \n40395  3W1K7D6QSDVJX2B852X30LVRM6WZBL-2   \n40396  3BO3NEOQM2VSJ2H6ZK9L5F8V75BAIT-1   \n40397  3BO3NEOQM2VSJ2H6ZK9L5F8V75BAIT-2   \n\n                                                sentence option1   option2  \\\n20200  Yoga was relaxing for Kyle but Kenneth found i...    Kyle   Kenneth   \n20201  Yoga was relaxing for Kyle but Kenneth found i...    Kyle   Kenneth   \n20202  Emily asked Cynthia to clean the bathroom sink...   Emily   Cynthia   \n20203  Emily asked Cynthia to clean the bathroom sink...   Emily   Cynthia   \n20204  The boat was great for Joseph but not Kyle bec...  Joseph      Kyle   \n...                                                  ...     ...       ...   \n40393  I felt lucky because when the fish slipped of ...    pole       net   \n40394  Dennis took months to write back to Kenneth's ...  Dennis   Kenneth   \n40395  Dennis took months to write back to Kenneth's ...  Dennis   Kenneth   \n40396  My hair looked better in a braid than a ponyta...   braid  ponytail   \n40397  My hair looked better in a braid than a ponyta...   braid  ponytail   \n\n      answer  \n20200      1  \n20201      2  \n20202      1  \n20203      2  \n20204      2  \n...      ...  \n40393      1  \n40394      1  \n40395      2  \n40396      1  \n40397      2  \n\n[20198 rows x 5 columns]",
      "text/html": "<div>\n<style scoped>\n    .dataframe tbody tr th:only-of-type {\n        vertical-align: middle;\n    }\n\n    .dataframe tbody tr th {\n        vertical-align: top;\n    }\n\n    .dataframe thead th {\n        text-align: right;\n    }\n</style>\n<table border=\"1\" class=\"dataframe\">\n  <thead>\n    <tr style=\"text-align: right;\">\n      <th></th>\n      <th>qID</th>\n      <th>sentence</th>\n      <th>option1</th>\n      <th>option2</th>\n      <th>answer</th>\n    </tr>\n  </thead>\n  <tbody>\n    <tr>\n      <th>20200</th>\n      <td>3EGKVCRQFWQ4YN2WPIJKUGYGLT2YBL-1</td>\n      <td>Yoga was relaxing for Kyle but Kenneth found i...</td>\n      <td>Kyle</td>\n      <td>Kenneth</td>\n      <td>1</td>\n    </tr>\n    <tr>\n      <th>20201</th>\n      <td>3EGKVCRQFWQ4YN2WPIJKUGYGLT2YBL-2</td>\n      <td>Yoga was relaxing for Kyle but Kenneth found i...</td>\n      <td>Kyle</td>\n      <td>Kenneth</td>\n      <td>2</td>\n    </tr>\n    <tr>\n      <th>20202</th>\n      <td>3VMV5CHJZATJ27AKFW0ZF8L6F90TGI-1</td>\n      <td>Emily asked Cynthia to clean the bathroom sink...</td>\n      <td>Emily</td>\n      <td>Cynthia</td>\n      <td>1</td>\n    </tr>\n    <tr>\n      <th>20203</th>\n      <td>3VMV5CHJZATJ27AKFW0ZF8L6F90TGI-2</td>\n      <td>Emily asked Cynthia to clean the bathroom sink...</td>\n      <td>Emily</td>\n      <td>Cynthia</td>\n      <td>2</td>\n    </tr>\n    <tr>\n      <th>20204</th>\n      <td>3AXFSPQOYQW4GFJD8K4D3JADNPBJFO-2</td>\n      <td>The boat was great for Joseph but not Kyle bec...</td>\n      <td>Joseph</td>\n      <td>Kyle</td>\n      <td>2</td>\n    </tr>\n    <tr>\n      <th>...</th>\n      <td>...</td>\n      <td>...</td>\n      <td>...</td>\n      <td>...</td>\n      <td>...</td>\n    </tr>\n    <tr>\n      <th>40393</th>\n      <td>3PKJ68EHDNUOUBAJ3ASD64MQ8GSJHJ-1</td>\n      <td>I felt lucky because when the fish slipped of ...</td>\n      <td>pole</td>\n      <td>net</td>\n      <td>1</td>\n    </tr>\n    <tr>\n      <th>40394</th>\n      <td>3W1K7D6QSDVJX2B852X30LVRM6WZBL-1</td>\n      <td>Dennis took months to write back to Kenneth's ...</td>\n      <td>Dennis</td>\n      <td>Kenneth</td>\n      <td>1</td>\n    </tr>\n    <tr>\n      <th>40395</th>\n      <td>3W1K7D6QSDVJX2B852X30LVRM6WZBL-2</td>\n      <td>Dennis took months to write back to Kenneth's ...</td>\n      <td>Dennis</td>\n      <td>Kenneth</td>\n      <td>2</td>\n    </tr>\n    <tr>\n      <th>40396</th>\n      <td>3BO3NEOQM2VSJ2H6ZK9L5F8V75BAIT-1</td>\n      <td>My hair looked better in a braid than a ponyta...</td>\n      <td>braid</td>\n      <td>ponytail</td>\n      <td>1</td>\n    </tr>\n    <tr>\n      <th>40397</th>\n      <td>3BO3NEOQM2VSJ2H6ZK9L5F8V75BAIT-2</td>\n      <td>My hair looked better in a braid than a ponyta...</td>\n      <td>braid</td>\n      <td>ponytail</td>\n      <td>2</td>\n    </tr>\n  </tbody>\n</table>\n<p>20198 rows × 5 columns</p>\n</div>"
     },
     "execution_count": 12,
     "metadata": {},
     "output_type": "execute_result"
    }
   ],
   "source": [
    "data_xl[int(40398/2)+1:]"
   ],
   "metadata": {
    "collapsed": false,
    "pycharm": {
     "name": "#%%\n"
    }
   }
  },
  {
   "cell_type": "code",
   "execution_count": 8,
   "outputs": [],
   "source": [
    "from sentence_transformers import SentenceTransformer\n",
    "from sklearn.metrics.pairwise import cosine_similarity\n",
    "from tqdm import tqdm_notebook\n",
    "import tqdm"
   ],
   "metadata": {
    "collapsed": false,
    "pycharm": {
     "name": "#%%\n"
    }
   }
  },
  {
   "cell_type": "code",
   "execution_count": 9,
   "outputs": [],
   "source": [
    "model = SentenceTransformer('bert-base-nli-mean-tokens')"
   ],
   "metadata": {
    "collapsed": false,
    "pycharm": {
     "name": "#%%\n"
    }
   }
  },
  {
   "cell_type": "code",
   "execution_count": 10,
   "outputs": [],
   "source": [
    "sentence_embeddings_xl = model.encode(list(data_xl['sentence']))"
   ],
   "metadata": {
    "collapsed": false,
    "pycharm": {
     "name": "#%%\n"
    }
   }
  },
  {
   "cell_type": "code",
   "execution_count": 11,
   "outputs": [],
   "source": [
    "sentence_embeddings_test = model.encode(list(data_test['sentence']))"
   ],
   "metadata": {
    "collapsed": false,
    "pycharm": {
     "name": "#%%\n"
    }
   }
  },
  {
   "cell_type": "code",
   "execution_count": 12,
   "outputs": [
    {
     "data": {
      "text/plain": "  0%|          | 0/40398 [00:00<?, ?it/s]",
      "application/vnd.jupyter.widget-view+json": {
       "version_major": 2,
       "version_minor": 0,
       "model_id": "a975ceb1bdba42c187013cfe72e54073"
      }
     },
     "metadata": {},
     "output_type": "display_data"
    }
   ],
   "source": [
    "list_scores = []\n",
    "for i in tqdm.notebook.tqdm(range(sentence_embeddings_xl.shape[0])):\n",
    "    list_scores.append(\n",
    "        cosine_similarity([sentence_embeddings_xl[i]],sentence_embeddings_test)[0]\n",
    "    )"
   ],
   "metadata": {
    "collapsed": false,
    "pycharm": {
     "name": "#%%\n"
    }
   }
  },
  {
   "cell_type": "code",
   "execution_count": 13,
   "outputs": [],
   "source": [
    "scores_xl_test = pd.DataFrame(np.transpose(list_scores))"
   ],
   "metadata": {
    "collapsed": false,
    "pycharm": {
     "name": "#%%\n"
    }
   }
  },
  {
   "cell_type": "code",
   "execution_count": 14,
   "outputs": [
    {
     "data": {
      "text/plain": "0.8105817"
     },
     "execution_count": 14,
     "metadata": {},
     "output_type": "execute_result"
    }
   ],
   "source": [
    "np.mean(scores_xl_test[0].sort_values(ascending=False)[:10])"
   ],
   "metadata": {
    "collapsed": false,
    "pycharm": {
     "name": "#%%\n"
    }
   }
  },
  {
   "cell_type": "code",
   "execution_count": 15,
   "outputs": [
    {
     "data": {
      "text/plain": "  0%|          | 0/40398 [00:00<?, ?it/s]",
      "application/vnd.jupyter.widget-view+json": {
       "version_major": 2,
       "version_minor": 0,
       "model_id": "c0200a9ad2434910bbaf8fabea9b714e"
      }
     },
     "metadata": {},
     "output_type": "display_data"
    }
   ],
   "source": [
    "list_scores_xl_test = []\n",
    "for i in tqdm.notebook.tqdm(range(scores_xl_test.shape[1])):\n",
    "    list_scores_xl_test.append([i,np.mean(scores_xl_test[i].sort_values(ascending=False)[:int((scores_xl_test.shape[1])/10)])])"
   ],
   "metadata": {
    "collapsed": false,
    "pycharm": {
     "name": "#%%\n"
    }
   }
  },
  {
   "cell_type": "code",
   "execution_count": 16,
   "outputs": [],
   "source": [
    "list_scores_xl_test_fordistrib = [element[1] for element in list_scores_xl_test]"
   ],
   "metadata": {
    "collapsed": false,
    "pycharm": {
     "name": "#%%\n"
    }
   }
  },
  {
   "cell_type": "code",
   "execution_count": 23,
   "outputs": [
    {
     "name": "stderr",
     "output_type": "stream",
     "text": [
      "c:\\users\\marti\\work\\lattice-internship\\venv\\lib\\site-packages\\seaborn\\distributions.py:2619: FutureWarning: `distplot` is a deprecated function and will be removed in a future version. Please adapt your code to use either `displot` (a figure-level function with similar flexibility) or `histplot` (an axes-level function for histograms).\n",
      "  warnings.warn(msg, FutureWarning)\n"
     ]
    },
    {
     "data": {
      "text/plain": "<AxesSubplot:ylabel='Density'>"
     },
     "execution_count": 23,
     "metadata": {},
     "output_type": "execute_result"
    },
    {
     "data": {
      "text/plain": "<Figure size 432x288 with 1 Axes>",
      "image/png": "[encoded data removed]"
     },
     "metadata": {
      "needs_background": "light"
     },
     "output_type": "display_data"
    }
   ],
   "source": [
    "sns.distplot(list_scores_xl_test_fordistrib)"
   ],
   "metadata": {
    "collapsed": false,
    "pycharm": {
     "name": "#%%\n"
    }
   }
  },
  {
   "cell_type": "code",
   "execution_count": 21,
   "outputs": [
    {
     "data": {
      "text/plain": "  0%|          | 0/40398 [00:00<?, ?it/s]",
      "application/vnd.jupyter.widget-view+json": {
       "version_major": 2,
       "version_minor": 0,
       "model_id": "126440727ec64987979ce2208bf3f3c6"
      }
     },
     "metadata": {},
     "output_type": "display_data"
    }
   ],
   "source": [
    "list_scores_xl_test_mean = []\n",
    "for i in tqdm.notebook.tqdm(range(scores_xl_test.shape[1])):\n",
    "    list_scores_xl_test_mean.append([i,np.mean(scores_xl_test[i])])"
   ],
   "metadata": {
    "collapsed": false,
    "pycharm": {
     "name": "#%%\n"
    }
   }
  },
  {
   "cell_type": "code",
   "execution_count": 22,
   "outputs": [],
   "source": [
    "list_scores_xl_test_fordistrib_mean = [element[1] for element in list_scores_xl_test_mean]"
   ],
   "metadata": {
    "collapsed": false,
    "pycharm": {
     "name": "#%%\n"
    }
   }
  },
  {
   "cell_type": "code",
   "execution_count": 23,
   "outputs": [
    {
     "name": "stderr",
     "output_type": "stream",
     "text": [
      "c:\\users\\marti\\work\\lattice-internship\\venv\\lib\\site-packages\\seaborn\\distributions.py:2619: FutureWarning: `distplot` is a deprecated function and will be removed in a future version. Please adapt your code to use either `displot` (a figure-level function with similar flexibility) or `histplot` (an axes-level function for histograms).\n",
      "  warnings.warn(msg, FutureWarning)\n"
     ]
    },
    {
     "data": {
      "text/plain": "<AxesSubplot:ylabel='Density'>"
     },
     "execution_count": 23,
     "metadata": {},
     "output_type": "execute_result"
    },
    {
     "data": {
      "text/plain": "<Figure size 432x288 with 1 Axes>",
      "image/png": "[encoded data removed]"
     },
     "metadata": {
      "needs_background": "light"
     },
     "output_type": "display_data"
    }
   ],
   "source": [
    "sns.distplot(list_scores_xl_test_fordistrib_mean)"
   ],
   "metadata": {
    "collapsed": false,
    "pycharm": {
     "name": "#%%\n"
    }
   }
  },
  {
   "cell_type": "code",
   "execution_count": 24,
   "outputs": [
    {
     "data": {
      "text/plain": "  0%|          | 0/40398 [00:00<?, ?it/s]",
      "application/vnd.jupyter.widget-view+json": {
       "version_major": 2,
       "version_minor": 0,
       "model_id": "30b64267e2474d67a4d32d874ca878bd"
      }
     },
     "metadata": {},
     "output_type": "display_data"
    }
   ],
   "source": [
    "list_scores_xl_test_med = []\n",
    "for i in tqdm.notebook.tqdm(range(scores_xl_test.shape[1])):\n",
    "    list_scores_xl_test_med.append([i,np.median(scores_xl_test[i])])"
   ],
   "metadata": {
    "collapsed": false,
    "pycharm": {
     "name": "#%%\n"
    }
   }
  },
  {
   "cell_type": "code",
   "execution_count": 25,
   "outputs": [],
   "source": [
    "list_scores_xl_test_fordistrib_med = [element[1] for element in list_scores_xl_test_med]"
   ],
   "metadata": {
    "collapsed": false,
    "pycharm": {
     "name": "#%%\n"
    }
   }
  },
  {
   "cell_type": "code",
   "execution_count": 26,
   "outputs": [
    {
     "name": "stderr",
     "output_type": "stream",
     "text": [
      "c:\\users\\marti\\work\\lattice-internship\\venv\\lib\\site-packages\\seaborn\\distributions.py:2619: FutureWarning: `distplot` is a deprecated function and will be removed in a future version. Please adapt your code to use either `displot` (a figure-level function with similar flexibility) or `histplot` (an axes-level function for histograms).\n",
      "  warnings.warn(msg, FutureWarning)\n"
     ]
    },
    {
     "data": {
      "text/plain": "<AxesSubplot:ylabel='Density'>"
     },
     "execution_count": 26,
     "metadata": {},
     "output_type": "execute_result"
    },
    {
     "data": {
      "text/plain": "<Figure size 432x288 with 1 Axes>",
      "image/png": "[encoded data removed]"
     },
     "metadata": {
      "needs_background": "light"
     },
     "output_type": "display_data"
    }
   ],
   "source": [
    "sns.distplot(list_scores_xl_test_fordistrib_med)"
   ],
   "metadata": {
    "collapsed": false,
    "pycharm": {
     "name": "#%%\n"
    }
   }
  },
  {
   "cell_type": "code",
   "execution_count": 31,
   "outputs": [
    {
     "data": {
      "text/plain": "  0%|          | 0/40398 [00:00<?, ?it/s]",
      "application/vnd.jupyter.widget-view+json": {
       "version_major": 2,
       "version_minor": 0,
       "model_id": "e7989fca84824f4c8d2de09f4e9466f6"
      }
     },
     "metadata": {},
     "output_type": "display_data"
    }
   ],
   "source": [
    "list_scores_xl_test_max = []\n",
    "for i in tqdm.notebook.tqdm(range(scores_xl_test.shape[1])):\n",
    "    list_scores_xl_test_max.append([i,scores_xl_test[i].sort_values(ascending=False)[2]])"
   ],
   "metadata": {
    "collapsed": false,
    "pycharm": {
     "name": "#%%\n"
    }
   }
  },
  {
   "cell_type": "code",
   "execution_count": 32,
   "outputs": [],
   "source": [
    "list_scores_xl_test_fordistrib_max = [element[1] for element in list_scores_xl_test_max]"
   ],
   "metadata": {
    "collapsed": false,
    "pycharm": {
     "name": "#%%\n"
    }
   }
  },
  {
   "cell_type": "code",
   "execution_count": 33,
   "outputs": [
    {
     "name": "stderr",
     "output_type": "stream",
     "text": [
      "c:\\users\\marti\\work\\lattice-internship\\venv\\lib\\site-packages\\seaborn\\distributions.py:2619: FutureWarning: `distplot` is a deprecated function and will be removed in a future version. Please adapt your code to use either `displot` (a figure-level function with similar flexibility) or `histplot` (an axes-level function for histograms).\n",
      "  warnings.warn(msg, FutureWarning)\n"
     ]
    },
    {
     "data": {
      "text/plain": "<AxesSubplot:ylabel='Density'>"
     },
     "execution_count": 33,
     "metadata": {},
     "output_type": "execute_result"
    },
    {
     "data": {
      "text/plain": "<Figure size 432x288 with 1 Axes>",
      "image/png": "[encoded data removed]"
     },
     "metadata": {
      "needs_background": "light"
     },
     "output_type": "display_data"
    }
   ],
   "source": [
    "list_scores_xl_test_fordistrib_med = [element[1] for element in list_scores_xl_test_med]\n",
    "sns.distplot(list_scores_xl_test_fordistrib_max)"
   ],
   "metadata": {
    "collapsed": false,
    "pycharm": {
     "name": "#%%\n"
    }
   }
  },
  {
   "cell_type": "code",
   "execution_count": 34,
   "outputs": [
    {
     "name": "stderr",
     "output_type": "stream",
     "text": [
      "c:\\users\\marti\\work\\lattice-internship\\venv\\lib\\site-packages\\seaborn\\distributions.py:2619: FutureWarning: `distplot` is a deprecated function and will be removed in a future version. Please adapt your code to use either `displot` (a figure-level function with similar flexibility) or `histplot` (an axes-level function for histograms).\n",
      "  warnings.warn(msg, FutureWarning)\n",
      "c:\\users\\marti\\work\\lattice-internship\\venv\\lib\\site-packages\\seaborn\\distributions.py:2619: FutureWarning: `distplot` is a deprecated function and will be removed in a future version. Please adapt your code to use either `displot` (a figure-level function with similar flexibility) or `histplot` (an axes-level function for histograms).\n",
      "  warnings.warn(msg, FutureWarning)\n",
      "c:\\users\\marti\\work\\lattice-internship\\venv\\lib\\site-packages\\seaborn\\distributions.py:2619: FutureWarning: `distplot` is a deprecated function and will be removed in a future version. Please adapt your code to use either `displot` (a figure-level function with similar flexibility) or `histplot` (an axes-level function for histograms).\n",
      "  warnings.warn(msg, FutureWarning)\n",
      "c:\\users\\marti\\work\\lattice-internship\\venv\\lib\\site-packages\\seaborn\\distributions.py:2619: FutureWarning: `distplot` is a deprecated function and will be removed in a future version. Please adapt your code to use either `displot` (a figure-level function with similar flexibility) or `histplot` (an axes-level function for histograms).\n",
      "  warnings.warn(msg, FutureWarning)\n"
     ]
    },
    {
     "data": {
      "text/plain": "<Figure size 432x288 with 1 Axes>",
      "image/png": "[encoded data removed]"
     },
     "metadata": {
      "needs_background": "light"
     },
     "output_type": "display_data"
    }
   ],
   "source": [
    "sns.distplot(list_scores_xl_test_fordistrib,color='blue',label='mean 10th decile')\n",
    "sns.distplot(list_scores_xl_test_fordistrib_mean,color='red',label='mean')\n",
    "sns.distplot(list_scores_xl_test_fordistrib_med,color='green',label='med')\n",
    "sns.distplot(list_scores_xl_test_fordistrib_max,color='yellow',label='max')\n",
    "plt.legend()\n",
    "plt.show()"
   ],
   "metadata": {
    "collapsed": false,
    "pycharm": {
     "name": "#%%\n"
    }
   }
  },
  {
   "cell_type": "code",
   "execution_count": 18,
   "outputs": [
    {
     "data": {
      "text/plain": "           0         1\n20002  20002  0.572139\n26116  26116  0.568478\n26330  26330  0.566623\n15        15  0.564508\n31358  31358  0.564185\n...      ...       ...\n7100    7100  0.183235\n22123  22123  0.179677\n35525  35525  0.173271\n20687  20687  0.156498\n20686  20686  0.146386\n\n[40398 rows x 2 columns]",
      "text/html": "<div>\n<style scoped>\n    .dataframe tbody tr th:only-of-type {\n        vertical-align: middle;\n    }\n\n    .dataframe tbody tr th {\n        vertical-align: top;\n    }\n\n    .dataframe thead th {\n        text-align: right;\n    }\n</style>\n<table border=\"1\" class=\"dataframe\">\n  <thead>\n    <tr style=\"text-align: right;\">\n      <th></th>\n      <th>0</th>\n      <th>1</th>\n    </tr>\n  </thead>\n  <tbody>\n    <tr>\n      <th>20002</th>\n      <td>20002</td>\n      <td>0.572139</td>\n    </tr>\n    <tr>\n      <th>26116</th>\n      <td>26116</td>\n      <td>0.568478</td>\n    </tr>\n    <tr>\n      <th>26330</th>\n      <td>26330</td>\n      <td>0.566623</td>\n    </tr>\n    <tr>\n      <th>15</th>\n      <td>15</td>\n      <td>0.564508</td>\n    </tr>\n    <tr>\n      <th>31358</th>\n      <td>31358</td>\n      <td>0.564185</td>\n    </tr>\n    <tr>\n      <th>...</th>\n      <td>...</td>\n      <td>...</td>\n    </tr>\n    <tr>\n      <th>7100</th>\n      <td>7100</td>\n      <td>0.183235</td>\n    </tr>\n    <tr>\n      <th>22123</th>\n      <td>22123</td>\n      <td>0.179677</td>\n    </tr>\n    <tr>\n      <th>35525</th>\n      <td>35525</td>\n      <td>0.173271</td>\n    </tr>\n    <tr>\n      <th>20687</th>\n      <td>20687</td>\n      <td>0.156498</td>\n    </tr>\n    <tr>\n      <th>20686</th>\n      <td>20686</td>\n      <td>0.146386</td>\n    </tr>\n  </tbody>\n</table>\n<p>40398 rows × 2 columns</p>\n</div>"
     },
     "execution_count": 18,
     "metadata": {},
     "output_type": "execute_result"
    }
   ],
   "source": [
    "a = pd.DataFrame(list_scores_xl_test).sort_values(1,ascending=False)\n",
    "a"
   ],
   "metadata": {
    "collapsed": false,
    "pycharm": {
     "name": "#%%\n"
    }
   }
  },
  {
   "cell_type": "code",
   "execution_count": 19,
   "outputs": [],
   "source": [
    "list_split =[list(a[0][i*int(len(data_xl)/10):(i+1)*int(len(data_xl)/10)]) for i in range(9)] + [list(a[0][9*int(len(data_xl)/10):])]"
   ],
   "metadata": {
    "collapsed": false,
    "pycharm": {
     "name": "#%%\n"
    }
   }
  },
  {
   "cell_type": "code",
   "execution_count": 19,
   "outputs": [
    {
     "data": {
      "text/plain": "  0%|          | 0/10 [00:00<?, ?it/s]",
      "application/vnd.jupyter.widget-view+json": {
       "version_major": 2,
       "version_minor": 0,
       "model_id": "56f212fefa4d4b879917e66e18f4ae78"
      }
     },
     "metadata": {},
     "output_type": "display_data"
    }
   ],
   "source": [
    "for i in tqdm.notebook.tqdm(range(len(list_split))):\n",
    "    bracket = data_l.iloc[list_split[i]]\n",
    "    bracket.to_json(f'data/pre_experiment/splitted_l_sbert_{i}.csv',orient='records',lines=True)"
   ],
   "metadata": {
    "collapsed": false,
    "pycharm": {
     "name": "#%%\n"
    }
   }
  },
  {
   "cell_type": "code",
   "execution_count": 15,
   "outputs": [],
   "source": [
    "sentence_embeddings_xl = pd.DataFrame(sentence_embeddings_xl)\n",
    "sentence_embeddings_xl.to_csv('data/pre_experiment/sentences_bert_768_encoding_s')"
   ],
   "metadata": {
    "collapsed": false,
    "pycharm": {
     "name": "#%%\n"
    }
   }
  },
  {
   "cell_type": "code",
   "execution_count": 16,
   "outputs": [],
   "source": [
    "scores_xl = pd.DataFrame(list_scores)\n",
    "scores_xl.to_csv('data/pre_experiment/similarity_bert_encoding_s.csv')"
   ],
   "metadata": {
    "collapsed": false,
    "pycharm": {
     "name": "#%%\n"
    }
   }
  },
  {
   "cell_type": "code",
   "execution_count": 20,
   "outputs": [
    {
     "data": {
      "text/plain": "['splitted_xl_sbert_0.jsonl',\n 'splitted_xl_sbert_1.jsonl',\n 'splitted_xl_sbert_2.jsonl',\n 'splitted_xl_sbert_3.jsonl',\n 'splitted_xl_sbert_4.jsonl',\n 'splitted_xl_sbert_5.jsonl',\n 'splitted_xl_sbert_6.jsonl',\n 'splitted_xl_sbert_7.jsonl',\n 'splitted_xl_sbert_8.jsonl',\n 'splitted_xl_sbert_9.jsonl']"
     },
     "execution_count": 20,
     "metadata": {},
     "output_type": "execute_result"
    }
   ],
   "source": [
    "l = [f'splitted_xl_sbert_{i}.jsonl' for i in range(10)]\n",
    "l"
   ],
   "metadata": {
    "collapsed": false,
    "pycharm": {
     "name": "#%%\n"
    }
   }
  },
  {
   "cell_type": "code",
   "execution_count": null,
   "outputs": [],
   "source": [
    "import os"
   ],
   "metadata": {
    "collapsed": false,
    "pycharm": {
     "name": "#%%\n"
    }
   }
  },
  {
   "cell_type": "code",
   "execution_count": null,
   "outputs": [],
   "source": [
    "compteur = 0\n",
    "for doc in l:\n",
    "    print('')\n",
    "    print('---------------------')\n",
    "    print(f'Tryout number {compteur}')\n",
    "    print('---------------------')\n",
    "    print('')\n",
    "    os.rename(f'data/pre_experiment/{doc}',\n",
    "              'data/pre_experiment/train.jsonl')\n",
    "    !python python ./scripts/run_experiment.py --model_type roberta_mc --model_name_or_path roberta-large --task_name winogrande --do_eval --do_lower_case --data_dir data/pre_experiment --max_seq_length 80 --per_gpu_eval_batch_size 4 --per_gpu_train_batch_size 16 --learning_rate 1e-5 --num_train_epochs 3 --output_dir f'output/models_{compteur}/' --do_train --logging_steps 4752 --save_steps 4750 --seed 42 --data_cache_dir ./output/cache/ --warmup_pct 0.1 --evaluate_during_training\n",
    "    os.rename('data/pre_experiment/train.jsonl',\n",
    "              f'data/pre_experiment/{doc}')\n",
    "    compteur +=1"
   ],
   "metadata": {
    "collapsed": false,
    "pycharm": {
     "name": "#%%\n"
    }
   }
  },
  {
   "cell_type": "markdown",
   "source": [
    "# Partie syntaxe 1"
   ],
   "metadata": {
    "collapsed": false,
    "pycharm": {
     "name": "#%% md\n"
    }
   }
  },
  {
   "cell_type": "code",
   "execution_count": null,
   "outputs": [],
   "source": [
    "import nltk\n",
    "from nltk import pos_tag\n",
    "#import svgling\n",
    "import ast\n",
    "nltk.download('averaged_perceptron_tagger')\n",
    "nltk.download('maxent_ne_chunker')\n",
    "nltk.download('words')\n",
    "nltk.download('treebank')\n",
    "nltk.download('punkt')\n",
    "from collections import Counter"
   ],
   "metadata": {
    "collapsed": false,
    "pycharm": {
     "name": "#%%\n"
    }
   }
  },
  {
   "cell_type": "code",
   "execution_count": null,
   "outputs": [],
   "source": [
    "def get_list_chunkz(sentence):\n",
    "    tok_sent = word_tokenize(sentence)\n",
    "    tok_tag_sent = pos_tag(tok_sent)\n",
    "    entities = nltk.chunk.ne_chunk(tok_tag_sent)\n",
    "    lit_entities = ast.literal_eval(str(list(entities)).replace(\"(\",'[').replace(\")\",\"]\").replace(\"Tree\",''))\n",
    "    list_ =[]\n",
    "    for i in lit_entities :\n",
    "        if len(i[1][0]) >=2:\n",
    "            list_.append(i[1][0][1])\n",
    "        else:\n",
    "            list_.append(i[1])\n",
    "    return list_"
   ],
   "metadata": {
    "collapsed": false,
    "pycharm": {
     "name": "#%%\n"
    }
   }
  },
  {
   "cell_type": "code",
   "execution_count": null,
   "outputs": [],
   "source": [
    "def combinaison_generator(list_):\n",
    "    comb = []\n",
    "    #print(len(list_))\n",
    "    for length in range(2,len(list_)+1):\n",
    "        for index in range(0,len(list_)+1-length):\n",
    "            #print(len(list_)+1-length)\n",
    "            comb.append(tuple(list_[index:index+length]))\n",
    "    return comb"
   ],
   "metadata": {
    "collapsed": false,
    "pycharm": {
     "name": "#%%\n"
    }
   }
  },
  {
   "cell_type": "code",
   "execution_count": null,
   "outputs": [],
   "source": [
    "phrases = list(data_l['sentence'])\n",
    "chunkz_sentences = [get_list_chunkz(phrase) for phrase in tqdm_notebook(phrases,desc='chunkz')]\n",
    "comb_sentences = [combinaison_generator(chunk) for chunk in tqdm_notebook(chunkz_sentences,desc='combinaisons')]\n",
    "mat_sim = []\n",
    "for i in tqdm_notebook(range(len(phrases)),desc='matrice1'):\n",
    "    mat_sim.append([jaccard_similarity(comb_sentences[i],comb_sentences[j]) for j in range(len(comb_sentences))])\n",
    "df_jacc_s = pd.DataFrame(mat_sim)"
   ],
   "metadata": {
    "collapsed": false,
    "pycharm": {
     "name": "#%%\n"
    }
   }
  },
  {
   "cell_type": "code",
   "execution_count": null,
   "outputs": [],
   "source": [
    "list_scores_l_test = []\n",
    "for i in tqdm.notebook.tqdm(range(df_jacc_s.shape[1])):\n",
    "    list_scores_l_test.append([i,np.mean(df_jacc_s[i].sort_values(ascending=False)[:int((df_jacc_s.shape[1])/10)])])"
   ],
   "metadata": {
    "collapsed": false,
    "pycharm": {
     "name": "#%%\n"
    }
   }
  },
  {
   "cell_type": "code",
   "execution_count": null,
   "outputs": [],
   "source": [
    "a = pd.DataFrame(list_scores_l_test).sort_values(1,ascending=False)\n",
    "a"
   ],
   "metadata": {
    "collapsed": false,
    "pycharm": {
     "name": "#%%\n"
    }
   }
  },
  {
   "cell_type": "code",
   "execution_count": null,
   "outputs": [],
   "source": [
    "list_split =[list(a[0][i*int(len(data_l)/10):(i+1)*int(len(data_l)/10)]) for i in range(9)] + [list(a[0][9*int(len(data_l)/10):])]"
   ],
   "metadata": {
    "collapsed": false,
    "pycharm": {
     "name": "#%%\n"
    }
   }
  },
  {
   "cell_type": "code",
   "execution_count": null,
   "outputs": [],
   "source": [
    "for i in tqdm.notebook.tqdm(range(len(list_split))):\n",
    "    bracket = data_l.iloc[list_split[i]]\n",
    "    bracket.to_json(f'data/pre_experiment/splitted_l_jacc_{i}.csv',orient='records',lines=True)"
   ],
   "metadata": {
    "collapsed": false,
    "pycharm": {
     "name": "#%%\n"
    }
   }
  },
  {
   "cell_type": "code",
   "execution_count": null,
   "outputs": [],
   "source": [
    "l = [f'splitted_l_jacc_{i}.jsonl' for i in range(10)]\n",
    "l"
   ],
   "metadata": {
    "collapsed": false,
    "pycharm": {
     "name": "#%%\n"
    }
   }
  },
  {
   "cell_type": "code",
   "execution_count": null,
   "outputs": [],
   "source": [
    "compteur = 0\n",
    "for doc in l:\n",
    "    print('')\n",
    "    print('---------------------')\n",
    "    print(f'Tryout number {compteur}')\n",
    "    print('---------------------')\n",
    "    print('')\n",
    "    os.rename(f'data/pre_experiment/{doc}',\n",
    "              'data/pre_experiment/train.jsonl')\n",
    "    !python python ../winogrande/scripts/run_experiment.py --model_type roberta_mc --model_name_or_path roberta-large --task_name winogrande --do_eval --do_lower_case --data_dir data/pre_experiment --max_seq_length 80 --per_gpu_eval_batch_size 4 --per_gpu_train_batch_size 16 --learning_rate 1e-5 --num_train_epochs 3 --output_dir f'output/models_{compteur}/' --do_train --logging_steps 4752 --save_steps 4750 --seed 42 --data_cache_dir ./output/cache/ --warmup_pct 0.1 --evaluate_during_training\n",
    "    os.rename('data/pre_experiment/train.jsonl',\n",
    "              f'data/pre_experiment/{doc}')\n",
    "    compteur +=1"
   ],
   "metadata": {
    "collapsed": false,
    "pycharm": {
     "name": "#%%\n"
    }
   }
  },
  {
   "cell_type": "markdown",
   "source": [
    "# Partie syntaxe 2"
   ],
   "metadata": {
    "collapsed": false,
    "pycharm": {
     "name": "#%% md\n"
    }
   }
  },
  {
   "cell_type": "code",
   "execution_count": null,
   "outputs": [],
   "source": [
    "!python -m spacy download en_core_web_sm"
   ],
   "metadata": {
    "collapsed": false,
    "pycharm": {
     "name": "#%%\n"
    }
   }
  },
  {
   "cell_type": "code",
   "execution_count": null,
   "outputs": [],
   "source": [
    "import spacy\n",
    "import en_core_web_sm\n",
    "#nlp = spacy.load('en_core_web_sm')\n",
    "nlp = en_core_web_sm.load()\n",
    "from collections import Counter"
   ],
   "metadata": {
    "collapsed": false,
    "pycharm": {
     "name": "#%%\n"
    }
   }
  },
  {
   "cell_type": "code",
   "execution_count": null,
   "outputs": [],
   "source": [
    "def get_tree(sentence):\n",
    "    transformed_sentence = nlp(sentence)\n",
    "    dico = {}\n",
    "    for word in transformed_sentence:\n",
    "        dico[word] = tuple([word.dep_] + [ancestor.dep_ for ancestor in word.ancestors])\n",
    "    return dico"
   ],
   "metadata": {
    "collapsed": false,
    "pycharm": {
     "name": "#%%\n"
    }
   }
  },
  {
   "cell_type": "code",
   "execution_count": null,
   "outputs": [],
   "source": [
    "def jaccard_similarity(list1, list2):\n",
    "    intersection = len(list((Counter(list1) & Counter(list2)).elements()))\n",
    "    union = (len(list1) + len(list2)) - intersection\n",
    "    return float(intersection) / union"
   ],
   "metadata": {
    "collapsed": false,
    "pycharm": {
     "name": "#%%\n"
    }
   }
  },
  {
   "cell_type": "code",
   "execution_count": null,
   "outputs": [],
   "source": [
    "phrases = list(data_l['sentence'])\n",
    "all_trees = [list(get_tree(phrase).values()) for phrase in tqdm_notebook(phrases,desc='getting trees')]\n",
    "mat_sim = []\n",
    "for i in tqdm_notebook(range(len(all_trees)),desc='matrice1'):\n",
    "    mat_sim.append([jaccard_similarity(all_trees[i],all_trees[j]) for j in range(len(all_trees))])\n",
    "df_jacc_s_tree = pd.DataFrame(mat_sim)"
   ],
   "metadata": {
    "collapsed": false,
    "pycharm": {
     "name": "#%%\n"
    }
   }
  },
  {
   "cell_type": "code",
   "execution_count": null,
   "outputs": [],
   "source": [
    "list_scores_xl_test = []\n",
    "for i in tqdm.notebook.tqdm(range(df_jacc_s_tree.shape[1])):\n",
    "    list_scores_xl_test.append([i,np.mean(df_jacc_s_tree[i].sort_values(ascending=False)[:int((df_jacc_s_tree.shape[1])/10)])])"
   ],
   "metadata": {
    "collapsed": false,
    "pycharm": {
     "name": "#%%\n"
    }
   }
  },
  {
   "cell_type": "code",
   "execution_count": null,
   "outputs": [],
   "source": [
    "a = pd.DataFrame(list_scores_xl_test).sort_values(1,ascending=False)\n",
    "a"
   ],
   "metadata": {
    "collapsed": false,
    "pycharm": {
     "name": "#%%\n"
    }
   }
  },
  {
   "cell_type": "code",
   "execution_count": null,
   "outputs": [],
   "source": [
    "l = [f'splitted_l_jacc2_{i}.jsonl' for i in range(10)]\n",
    "l"
   ],
   "metadata": {
    "collapsed": false,
    "pycharm": {
     "name": "#%%\n"
    }
   }
  },
  {
   "cell_type": "code",
   "execution_count": null,
   "outputs": [],
   "source": [
    "import os"
   ],
   "metadata": {
    "collapsed": false,
    "pycharm": {
     "name": "#%%\n"
    }
   }
  },
  {
   "cell_type": "code",
   "execution_count": null,
   "outputs": [],
   "source": [
    "compteur = 0\n",
    "for doc in l:\n",
    "    print('')\n",
    "    print('---------------------')\n",
    "    print(f'Tryout number {compteur}')\n",
    "    print('---------------------')\n",
    "    print('')\n",
    "    os.rename(f'data/pre_experiment/{doc}',\n",
    "              'data/pre_experiment/train.jsonl')\n",
    "    !python ../winogrande/scripts/run_experiment.py --model_type roberta_mc --model_name_or_path roberta-large --task_name winogrande --do_eval --do_lower_case --data_dir data/pre_experiment --max_seq_length 80 --per_gpu_eval_batch_size 4 --per_gpu_train_batch_size 4 --learning_rate 1e-5 --num_train_epochs 3 --output_dir f'output/models_{compteur}/' --do_train --logging_steps 4752 --save_steps 4750 --seed 42 --data_cache_dir ./output/cache/ --warmup_pct 0.1 --evaluate_during_training\n",
    "    os.rename('data/pre_experiment/train.jsonl',\n",
    "              f'data/pre_experiment/{doc}')\n",
    "    compteur +=1"
   ],
   "metadata": {
    "collapsed": false,
    "pycharm": {
     "name": "#%%\n"
    }
   }
  },
  {
   "cell_type": "code",
   "execution_count": null,
   "outputs": [],
   "source": [
    "# notes : plot fonctionnement selon valeur métrique, réduire fenêtre des valeurs, retrouver distribution,"
   ],
   "metadata": {
    "collapsed": false,
    "pycharm": {
     "name": "#%%\n"
    }
   }
  }
 ],
 "metadata": {
  "kernelspec": {
   "display_name": "Python 3",
   "language": "python",
   "name": "python3"
  },
  "language_info": {
   "codemirror_mode": {
    "name": "ipython",
    "version": 2
   },
   "file_extension": ".py",
   "mimetype": "text/x-python",
   "name": "python",
   "nbconvert_exporter": "python",
   "pygments_lexer": "ipython2",
   "version": "2.7.6"
  }
 },
 "nbformat": 4,
 "nbformat_minor": 0
}