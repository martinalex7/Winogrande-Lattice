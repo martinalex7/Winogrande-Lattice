{
 "cells": [
  {
   "cell_type": "code",
   "execution_count": 1,
   "metadata": {
    "collapsed": true
   },
   "outputs": [],
   "source": [
    "# Split datasets according to first metrics"
   ]
  },
  {
   "cell_type": "code",
   "execution_count": 2,
   "outputs": [],
   "source": [
    "import pandas as pd\n",
    "import matplotlib.pyplot as plt\n",
    "import numpy as np\n",
    "import json\n",
    "from sklearn.feature_extraction.text  import TfidfVectorizer\n",
    "from sklearn.cluster import KMeans\n",
    "from nltk import WordNetLemmatizer\n",
    "from nltk import word_tokenize\n",
    "import spicy\n",
    "import scipy\n",
    "import seaborn as sns"
   ],
   "metadata": {
    "collapsed": false,
    "pycharm": {
     "name": "#%%\n"
    }
   }
  },
  {
   "cell_type": "code",
   "execution_count": 3,
   "outputs": [],
   "source": [
    "with open('data/l/train_l.jsonl', 'r') as f:\n",
    "  a = list(f)\n",
    "\n",
    "data_l =[]\n",
    "for element in a:\n",
    "  data_l.append(json.loads(element))\n",
    "\n",
    "data_l = pd.DataFrame(data_l)"
   ],
   "metadata": {
    "collapsed": false,
    "pycharm": {
     "name": "#%%\n"
    }
   }
  },
  {
   "cell_type": "code",
   "execution_count": 4,
   "outputs": [],
   "source": [
    "with open('data/test/test.jsonl', 'r') as f:\n",
    "  a = list(f)\n",
    "\n",
    "data_test =[]\n",
    "for element in a:\n",
    "  data_test.append(json.loads(element))\n",
    "\n",
    "data_test = pd.DataFrame(data_test)"
   ],
   "metadata": {
    "collapsed": false,
    "pycharm": {
     "name": "#%%\n"
    }
   }
  },
  {
   "cell_type": "code",
   "execution_count": 5,
   "outputs": [
    {
     "data": {
      "text/plain": "                                   qID  \\\n0     3QX22DUVOQVY79AVVUY9TVTO8KCVM0-2   \n1     3LOJFQ4BOZTHN4A6JXLZ8WVDJI4DKP-2   \n2     3INZSNUD824X68RFF0UAINHY9KB9D5-2   \n3     32TMVRKDGPCKS7PCHXN3FNSGBLZ842-2   \n4     32TMVRKDGPCKS7PCHXN3FNSGBLZ842-1   \n...                                ...   \n1762  3YGE63DINABEJK3TWZG7H05PCBI0WF-1   \n1763  3BO3NEOQM0FDPDIZFMXLDHKMI5QAIY-2   \n1764  3YGYP13643NCWKEEYB8Z5DTLSPDNR9-2   \n1765  3UYRNV2KIVD6EFZIZ22ZEWYH3D78NZ-1   \n1766  3VADEH0UHEBO0KQ4TFLWZC3DFPCSPI-1   \n\n                                               sentence  option1   option2  \n0     Kenneth went cheap on the gemstone present for...  Kenneth   Michael  \n1     There were more holes in the yard of Amy than ...      Amy    Carrie  \n2     The dog didn't like its collar but was okay wi...   collar     leash  \n3     The door opened louder than the window because...   window      door  \n4     The door opened louder than the window because...   window      door  \n...                                                 ...      ...       ...  \n1762  After the break we faxed over the single paper...    paper  document  \n1763  The man's faith changed after he heard of anot...  science  religion  \n1764  The woman had a lot to cope with when her cat ...      cat       dog  \n1765  Carrie asked for help caring for her dying erm...   Carrie     Maria  \n1766  James did not have time to finish the movie, h...  concert     movie  \n\n[1767 rows x 4 columns]",
      "text/html": "<div>\n<style scoped>\n    .dataframe tbody tr th:only-of-type {\n        vertical-align: middle;\n    }\n\n    .dataframe tbody tr th {\n        vertical-align: top;\n    }\n\n    .dataframe thead th {\n        text-align: right;\n    }\n</style>\n<table border=\"1\" class=\"dataframe\">\n  <thead>\n    <tr style=\"text-align: right;\">\n      <th></th>\n      <th>qID</th>\n      <th>sentence</th>\n      <th>option1</th>\n      <th>option2</th>\n    </tr>\n  </thead>\n  <tbody>\n    <tr>\n      <th>0</th>\n      <td>3QX22DUVOQVY79AVVUY9TVTO8KCVM0-2</td>\n      <td>Kenneth went cheap on the gemstone present for...</td>\n      <td>Kenneth</td>\n      <td>Michael</td>\n    </tr>\n    <tr>\n      <th>1</th>\n      <td>3LOJFQ4BOZTHN4A6JXLZ8WVDJI4DKP-2</td>\n      <td>There were more holes in the yard of Amy than ...</td>\n      <td>Amy</td>\n      <td>Carrie</td>\n    </tr>\n    <tr>\n      <th>2</th>\n      <td>3INZSNUD824X68RFF0UAINHY9KB9D5-2</td>\n      <td>The dog didn't like its collar but was okay wi...</td>\n      <td>collar</td>\n      <td>leash</td>\n    </tr>\n    <tr>\n      <th>3</th>\n      <td>32TMVRKDGPCKS7PCHXN3FNSGBLZ842-2</td>\n      <td>The door opened louder than the window because...</td>\n      <td>window</td>\n      <td>door</td>\n    </tr>\n    <tr>\n      <th>4</th>\n      <td>32TMVRKDGPCKS7PCHXN3FNSGBLZ842-1</td>\n      <td>The door opened louder than the window because...</td>\n      <td>window</td>\n      <td>door</td>\n    </tr>\n    <tr>\n      <th>...</th>\n      <td>...</td>\n      <td>...</td>\n      <td>...</td>\n      <td>...</td>\n    </tr>\n    <tr>\n      <th>1762</th>\n      <td>3YGE63DINABEJK3TWZG7H05PCBI0WF-1</td>\n      <td>After the break we faxed over the single paper...</td>\n      <td>paper</td>\n      <td>document</td>\n    </tr>\n    <tr>\n      <th>1763</th>\n      <td>3BO3NEOQM0FDPDIZFMXLDHKMI5QAIY-2</td>\n      <td>The man's faith changed after he heard of anot...</td>\n      <td>science</td>\n      <td>religion</td>\n    </tr>\n    <tr>\n      <th>1764</th>\n      <td>3YGYP13643NCWKEEYB8Z5DTLSPDNR9-2</td>\n      <td>The woman had a lot to cope with when her cat ...</td>\n      <td>cat</td>\n      <td>dog</td>\n    </tr>\n    <tr>\n      <th>1765</th>\n      <td>3UYRNV2KIVD6EFZIZ22ZEWYH3D78NZ-1</td>\n      <td>Carrie asked for help caring for her dying erm...</td>\n      <td>Carrie</td>\n      <td>Maria</td>\n    </tr>\n    <tr>\n      <th>1766</th>\n      <td>3VADEH0UHEBO0KQ4TFLWZC3DFPCSPI-1</td>\n      <td>James did not have time to finish the movie, h...</td>\n      <td>concert</td>\n      <td>movie</td>\n    </tr>\n  </tbody>\n</table>\n<p>1767 rows × 4 columns</p>\n</div>"
     },
     "execution_count": 5,
     "metadata": {},
     "output_type": "execute_result"
    }
   ],
   "source": [
    "data_test"
   ],
   "metadata": {
    "collapsed": false,
    "pycharm": {
     "name": "#%%\n"
    }
   }
  },
  {
   "cell_type": "code",
   "execution_count": 6,
   "outputs": [
    {
     "data": {
      "text/plain": "                                    qID  \\\n0      3QHITW7OYO7Q6B6ISU2UMJB84ZLAQE-2   \n1      3QHITW7OYO7Q6B6ISU2UMJB84ZLAQE-1   \n2      3XWUWJ18TLO2DDRXF83QWLKRJ29UU4-1   \n3      3XWUWJ18TLO2DDRXF83QWLKRJ29UU4-2   \n4      3D5G8J4N5CI2K40F4RZLF9OG2CKVTH-2   \n...                                 ...   \n10229  391JB9X4Z0MKRYGJWQK2RMI7S79MKF-1   \n10230  3UEBBGULPFMDUVU7KJ8RALJO9KFFUL-1   \n10231  3UEBBGULPFMDUVU7KJ8RALJO9KFFUL-2   \n10232  32L724R85LIKCHO145FI3C9HCFHPIR-2   \n10233  32L724R85LIKCHO145FI3C9HCFHPIR-1   \n\n                                                sentence  option1  option2  \\\n0      Ian volunteered to eat Dennis's menudo after a...      Ian   Dennis   \n1      Ian volunteered to eat Dennis's menudo after a...      Ian   Dennis   \n2      He never comes to my home, but I always go to ...     home    house   \n3      He never comes to my home, but I always go to ...     home    house   \n4      Kyle doesn't wear leg warmers to bed, while Lo...     Kyle    Logan   \n...                                                  ...      ...      ...   \n10229  Paint was applied to the scooter, but not the ...  scooter      car   \n10230  Eric was looking through the old temple and fo...     Eric  Matthew   \n10231  Eric was looking through the old temple and fo...     Eric  Matthew   \n10232  The dentist did not scold Natalie for not flos...  Natalie    Emily   \n10233  The dentist scolded Natalie for not flossing b...  Natalie    Emily   \n\n      answer  \n0          2  \n1          1  \n2          1  \n3          2  \n4          2  \n...      ...  \n10229      1  \n10230      1  \n10231      2  \n10232      2  \n10233      1  \n\n[10234 rows x 5 columns]",
      "text/html": "<div>\n<style scoped>\n    .dataframe tbody tr th:only-of-type {\n        vertical-align: middle;\n    }\n\n    .dataframe tbody tr th {\n        vertical-align: top;\n    }\n\n    .dataframe thead th {\n        text-align: right;\n    }\n</style>\n<table border=\"1\" class=\"dataframe\">\n  <thead>\n    <tr style=\"text-align: right;\">\n      <th></th>\n      <th>qID</th>\n      <th>sentence</th>\n      <th>option1</th>\n      <th>option2</th>\n      <th>answer</th>\n    </tr>\n  </thead>\n  <tbody>\n    <tr>\n      <th>0</th>\n      <td>3QHITW7OYO7Q6B6ISU2UMJB84ZLAQE-2</td>\n      <td>Ian volunteered to eat Dennis's menudo after a...</td>\n      <td>Ian</td>\n      <td>Dennis</td>\n      <td>2</td>\n    </tr>\n    <tr>\n      <th>1</th>\n      <td>3QHITW7OYO7Q6B6ISU2UMJB84ZLAQE-1</td>\n      <td>Ian volunteered to eat Dennis's menudo after a...</td>\n      <td>Ian</td>\n      <td>Dennis</td>\n      <td>1</td>\n    </tr>\n    <tr>\n      <th>2</th>\n      <td>3XWUWJ18TLO2DDRXF83QWLKRJ29UU4-1</td>\n      <td>He never comes to my home, but I always go to ...</td>\n      <td>home</td>\n      <td>house</td>\n      <td>1</td>\n    </tr>\n    <tr>\n      <th>3</th>\n      <td>3XWUWJ18TLO2DDRXF83QWLKRJ29UU4-2</td>\n      <td>He never comes to my home, but I always go to ...</td>\n      <td>home</td>\n      <td>house</td>\n      <td>2</td>\n    </tr>\n    <tr>\n      <th>4</th>\n      <td>3D5G8J4N5CI2K40F4RZLF9OG2CKVTH-2</td>\n      <td>Kyle doesn't wear leg warmers to bed, while Lo...</td>\n      <td>Kyle</td>\n      <td>Logan</td>\n      <td>2</td>\n    </tr>\n    <tr>\n      <th>...</th>\n      <td>...</td>\n      <td>...</td>\n      <td>...</td>\n      <td>...</td>\n      <td>...</td>\n    </tr>\n    <tr>\n      <th>10229</th>\n      <td>391JB9X4Z0MKRYGJWQK2RMI7S79MKF-1</td>\n      <td>Paint was applied to the scooter, but not the ...</td>\n      <td>scooter</td>\n      <td>car</td>\n      <td>1</td>\n    </tr>\n    <tr>\n      <th>10230</th>\n      <td>3UEBBGULPFMDUVU7KJ8RALJO9KFFUL-1</td>\n      <td>Eric was looking through the old temple and fo...</td>\n      <td>Eric</td>\n      <td>Matthew</td>\n      <td>1</td>\n    </tr>\n    <tr>\n      <th>10231</th>\n      <td>3UEBBGULPFMDUVU7KJ8RALJO9KFFUL-2</td>\n      <td>Eric was looking through the old temple and fo...</td>\n      <td>Eric</td>\n      <td>Matthew</td>\n      <td>2</td>\n    </tr>\n    <tr>\n      <th>10232</th>\n      <td>32L724R85LIKCHO145FI3C9HCFHPIR-2</td>\n      <td>The dentist did not scold Natalie for not flos...</td>\n      <td>Natalie</td>\n      <td>Emily</td>\n      <td>2</td>\n    </tr>\n    <tr>\n      <th>10233</th>\n      <td>32L724R85LIKCHO145FI3C9HCFHPIR-1</td>\n      <td>The dentist scolded Natalie for not flossing b...</td>\n      <td>Natalie</td>\n      <td>Emily</td>\n      <td>1</td>\n    </tr>\n  </tbody>\n</table>\n<p>10234 rows × 5 columns</p>\n</div>"
     },
     "execution_count": 6,
     "metadata": {},
     "output_type": "execute_result"
    }
   ],
   "source": [
    "data_l"
   ],
   "metadata": {
    "collapsed": false,
    "pycharm": {
     "name": "#%%\n"
    }
   }
  },
  {
   "cell_type": "code",
   "execution_count": 7,
   "outputs": [],
   "source": [
    "from sentence_transformers import SentenceTransformer\n",
    "from sklearn.metrics.pairwise import cosine_similarity\n",
    "from tqdm import tqdm_notebook\n",
    "import tqdm"
   ],
   "metadata": {
    "collapsed": false,
    "pycharm": {
     "name": "#%%\n"
    }
   }
  },
  {
   "cell_type": "code",
   "execution_count": 8,
   "outputs": [],
   "source": [
    "model = SentenceTransformer('bert-base-nli-mean-tokens')"
   ],
   "metadata": {
    "collapsed": false,
    "pycharm": {
     "name": "#%%\n"
    }
   }
  },
  {
   "cell_type": "code",
   "execution_count": 9,
   "outputs": [],
   "source": [
    "sentence_embeddings_l = model.encode(list(data_l['sentence']))"
   ],
   "metadata": {
    "collapsed": false,
    "pycharm": {
     "name": "#%%\n"
    }
   }
  },
  {
   "cell_type": "code",
   "execution_count": 10,
   "outputs": [],
   "source": [
    "sentence_embeddings_test = model.encode(list(data_test['sentence']))"
   ],
   "metadata": {
    "collapsed": false,
    "pycharm": {
     "name": "#%%\n"
    }
   }
  },
  {
   "cell_type": "code",
   "execution_count": 11,
   "outputs": [
    {
     "data": {
      "text/plain": "  0%|          | 0/10234 [00:00<?, ?it/s]",
      "application/vnd.jupyter.widget-view+json": {
       "version_major": 2,
       "version_minor": 0,
       "model_id": "29dedd18f8594a3993c0c769b26b2977"
      }
     },
     "metadata": {},
     "output_type": "display_data"
    }
   ],
   "source": [
    "list_scores = []\n",
    "for i in tqdm.notebook.tqdm(range(sentence_embeddings_l.shape[0])):\n",
    "    list_scores.append(\n",
    "        cosine_similarity([sentence_embeddings_l[i]],sentence_embeddings_test)[0]\n",
    "    )"
   ],
   "metadata": {
    "collapsed": false,
    "pycharm": {
     "name": "#%%\n"
    }
   }
  },
  {
   "cell_type": "code",
   "execution_count": 12,
   "outputs": [],
   "source": [
    "scores_l_test = pd.DataFrame(np.transpose(list_scores))"
   ],
   "metadata": {
    "collapsed": false,
    "pycharm": {
     "name": "#%%\n"
    }
   }
  },
  {
   "cell_type": "code",
   "execution_count": 13,
   "outputs": [
    {
     "data": {
      "text/plain": "0.8105817"
     },
     "execution_count": 13,
     "metadata": {},
     "output_type": "execute_result"
    }
   ],
   "source": [
    "np.mean(scores_l_test[0].sort_values(ascending=False)[:10])"
   ],
   "metadata": {
    "collapsed": false,
    "pycharm": {
     "name": "#%%\n"
    }
   }
  },
  {
   "cell_type": "code",
   "execution_count": 14,
   "outputs": [
    {
     "data": {
      "text/plain": "  0%|          | 0/10234 [00:00<?, ?it/s]",
      "application/vnd.jupyter.widget-view+json": {
       "version_major": 2,
       "version_minor": 0,
       "model_id": "2917214aa3994e7ab12755fed86d6d75"
      }
     },
     "metadata": {},
     "output_type": "display_data"
    }
   ],
   "source": [
    "list_scores_l_test = []\n",
    "for i in tqdm.notebook.tqdm(range(scores_l_test.shape[1])):\n",
    "    list_scores_l_test.append([i,np.mean(scores_l_test[i].sort_values(ascending=False)[:int((scores_l_test.shape[1])/10)])])"
   ],
   "metadata": {
    "collapsed": false,
    "pycharm": {
     "name": "#%%\n"
    }
   }
  },
  {
   "cell_type": "code",
   "execution_count": 15,
   "outputs": [],
   "source": [
    "list_scores_l_test_fordistrib = [element[1] for element in list_scores_l_test]"
   ],
   "metadata": {
    "collapsed": false,
    "pycharm": {
     "name": "#%%\n"
    }
   }
  },
  {
   "cell_type": "code",
   "execution_count": 16,
   "outputs": [
    {
     "name": "stderr",
     "output_type": "stream",
     "text": [
      "c:\\users\\marti\\work\\lattice-internship\\venv\\lib\\site-packages\\seaborn\\distributions.py:2619: FutureWarning: `distplot` is a deprecated function and will be removed in a future version. Please adapt your code to use either `displot` (a figure-level function with similar flexibility) or `histplot` (an axes-level function for histograms).\n",
      "  warnings.warn(msg, FutureWarning)\n"
     ]
    },
    {
     "data": {
      "text/plain": "<AxesSubplot:ylabel='Density'>"
     },
     "execution_count": 16,
     "metadata": {},
     "output_type": "execute_result"
    },
    {
     "data": {
      "text/plain": "<Figure size 432x288 with 1 Axes>",
      "image/png": "[encoded data removed]"
     },
     "metadata": {
      "needs_background": "light"
     },
     "output_type": "display_data"
    }
   ],
   "source": [
    "sns.distplot(list_scores_l_test_fordistrib)"
   ],
   "metadata": {
    "collapsed": false,
    "pycharm": {
     "name": "#%%\n"
    }
   }
  },
  {
   "cell_type": "code",
   "execution_count": 17,
   "outputs": [
    {
     "data": {
      "text/plain": "         0         1\n9757  9757  0.649110\n8286  8286  0.645686\n124    124  0.643920\n3800  3800  0.642880\n7596  7596  0.641587\n...    ...       ...\n4669  4669  0.256350\n9        9  0.253896\n8        8  0.252849\n7101  7101  0.243335\n7100  7100  0.241939\n\n[10234 rows x 2 columns]",
      "text/html": "<div>\n<style scoped>\n    .dataframe tbody tr th:only-of-type {\n        vertical-align: middle;\n    }\n\n    .dataframe tbody tr th {\n        vertical-align: top;\n    }\n\n    .dataframe thead th {\n        text-align: right;\n    }\n</style>\n<table border=\"1\" class=\"dataframe\">\n  <thead>\n    <tr style=\"text-align: right;\">\n      <th></th>\n      <th>0</th>\n      <th>1</th>\n    </tr>\n  </thead>\n  <tbody>\n    <tr>\n      <th>9757</th>\n      <td>9757</td>\n      <td>0.649110</td>\n    </tr>\n    <tr>\n      <th>8286</th>\n      <td>8286</td>\n      <td>0.645686</td>\n    </tr>\n    <tr>\n      <th>124</th>\n      <td>124</td>\n      <td>0.643920</td>\n    </tr>\n    <tr>\n      <th>3800</th>\n      <td>3800</td>\n      <td>0.642880</td>\n    </tr>\n    <tr>\n      <th>7596</th>\n      <td>7596</td>\n      <td>0.641587</td>\n    </tr>\n    <tr>\n      <th>...</th>\n      <td>...</td>\n      <td>...</td>\n    </tr>\n    <tr>\n      <th>4669</th>\n      <td>4669</td>\n      <td>0.256350</td>\n    </tr>\n    <tr>\n      <th>9</th>\n      <td>9</td>\n      <td>0.253896</td>\n    </tr>\n    <tr>\n      <th>8</th>\n      <td>8</td>\n      <td>0.252849</td>\n    </tr>\n    <tr>\n      <th>7101</th>\n      <td>7101</td>\n      <td>0.243335</td>\n    </tr>\n    <tr>\n      <th>7100</th>\n      <td>7100</td>\n      <td>0.241939</td>\n    </tr>\n  </tbody>\n</table>\n<p>10234 rows × 2 columns</p>\n</div>"
     },
     "execution_count": 17,
     "metadata": {},
     "output_type": "execute_result"
    }
   ],
   "source": [
    "a = pd.DataFrame(list_scores_l_test).sort_values(1,ascending=False)\n",
    "a"
   ],
   "metadata": {
    "collapsed": false,
    "pycharm": {
     "name": "#%%\n"
    }
   }
  },
  {
   "cell_type": "code",
   "execution_count": 18,
   "outputs": [],
   "source": [
    "list_split = [list(a[0][:1023*(i+1)]) for i in range(9)]+[list(a[0][1023*9:])]"
   ],
   "metadata": {
    "collapsed": false,
    "pycharm": {
     "name": "#%%\n"
    }
   }
  },
  {
   "cell_type": "code",
   "execution_count": 19,
   "outputs": [
    {
     "data": {
      "text/plain": "  0%|          | 0/10 [00:00<?, ?it/s]",
      "application/vnd.jupyter.widget-view+json": {
       "version_major": 2,
       "version_minor": 0,
       "model_id": "56f212fefa4d4b879917e66e18f4ae78"
      }
     },
     "metadata": {},
     "output_type": "display_data"
    }
   ],
   "source": [
    "for i in tqdm.notebook.tqdm(range(len(list_split))):\n",
    "    bracket = data_l.iloc[list_split[i]]\n",
    "    bracket.to_csv(f'data/pre_experiment/splitted_l_sbert_{i}.csv')"
   ],
   "metadata": {
    "collapsed": false,
    "pycharm": {
     "name": "#%%\n"
    }
   }
  },
  {
   "cell_type": "code",
   "execution_count": 15,
   "outputs": [],
   "source": [
    "sentence_embeddings_xl = pd.DataFrame(sentence_embeddings_l)\n",
    "sentence_embeddings_xl.to_csv('data/pre_experiment/sentences_bert_768_encoding_s')"
   ],
   "metadata": {
    "collapsed": false,
    "pycharm": {
     "name": "#%%\n"
    }
   }
  },
  {
   "cell_type": "code",
   "execution_count": 16,
   "outputs": [],
   "source": [
    "scores_xl = pd.DataFrame(list_scores)\n",
    "scores_xl.to_csv('data/pre_experiment/similarity_bert_encoding_s.csv')"
   ],
   "metadata": {
    "collapsed": false,
    "pycharm": {
     "name": "#%%\n"
    }
   }
  },
  {
   "cell_type": "code",
   "execution_count": null,
   "outputs": [],
   "source": [],
   "metadata": {
    "collapsed": false,
    "pycharm": {
     "name": "#%%\n"
    }
   }
  }
 ],
 "metadata": {
  "kernelspec": {
   "display_name": "Python 3",
   "language": "python",
   "name": "python3"
  },
  "language_info": {
   "codemirror_mode": {
    "name": "ipython",
    "version": 2
   },
   "file_extension": ".py",
   "mimetype": "text/x-python",
   "name": "python",
   "nbconvert_exporter": "python",
   "pygments_lexer": "ipython2",
   "version": "2.7.6"
  }
 },
 "nbformat": 4,
 "nbformat_minor": 0
}